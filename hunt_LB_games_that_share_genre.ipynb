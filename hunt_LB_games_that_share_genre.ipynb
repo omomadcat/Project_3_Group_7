{
 "cells": [
  {
   "cell_type": "code",
   "execution_count": 1,
   "metadata": {},
   "outputs": [],
   "source": [
    "import pathlib\n",
    "import pandas as pd\n",
    "import sqlalchemy\n",
    "from sqlalchemy.ext.declarative import declarative_base\n",
    "from sqlalchemy import Column, Integer, Float, String, Date, text\n",
    "from sqlalchemy.orm import Session\n",
    "from sqlalchemy import inspect, func"
   ]
  },
  {
   "cell_type": "markdown",
   "metadata": {},
   "source": [
    "# Create path object using pathlib\n",
    "This will ensure this file will run for everyone regardless of os\n",
    "This group contains folks running on mac, windows, and linux.    "
   ]
  },
  {
   "cell_type": "code",
   "execution_count": 2,
   "metadata": {},
   "outputs": [
    {
     "name": "stdout",
     "output_type": "stream",
     "text": [
      "Path is project root\n"
     ]
    }
   ],
   "source": [
    "cwd = pathlib.Path.cwd()\n",
    "\n",
    "if cwd.name == 'Project_3_Group_7':\n",
    "    print(\"Path is project root\")\n",
    "else:\n",
    "    print(\"Please correct current working directory to the project root\")"
   ]
  },
  {
   "cell_type": "code",
   "execution_count": 3,
   "metadata": {},
   "outputs": [
    {
     "data": {
      "text/plain": [
       "PurePosixPath('/home/mox/Documents/coding_projects/bootcamp_local/Homeworks/Project_3_Group_7/Resources')"
      ]
     },
     "execution_count": 3,
     "metadata": {},
     "output_type": "execute_result"
    }
   ],
   "source": [
    "resources_path = pathlib.PurePath(cwd, 'Resources')\n",
    "resources_path"
   ]
  },
  {
   "cell_type": "markdown",
   "metadata": {},
   "source": [
    "# Create the db session\n",
    "Can not use automap_base because primary key is a composite key \n",
    "\n",
    "https://python-code.dev/articles/132521261"
   ]
  },
  {
   "cell_type": "code",
   "execution_count": 4,
   "metadata": {},
   "outputs": [
    {
     "name": "stderr",
     "output_type": "stream",
     "text": [
      "/tmp/ipykernel_78388/3378198577.py:2: MovedIn20Warning: The ``declarative_base()`` function is now available as sqlalchemy.orm.declarative_base(). (deprecated since: 2.0) (Background on SQLAlchemy 2.0 at: https://sqlalche.me/e/b8d9)\n",
      "  Base = declarative_base()\n"
     ]
    }
   ],
   "source": [
    "engine = sqlalchemy.create_engine(f'sqlite:///{resources_path}/data.sqlite')\n",
    "Base = declarative_base()"
   ]
  },
  {
   "cell_type": "code",
   "execution_count": 5,
   "metadata": {},
   "outputs": [
    {
     "data": {
      "text/plain": [
       "['steam_twitch_agg', 'tags', 'twitch_monthly']"
      ]
     },
     "execution_count": 5,
     "metadata": {},
     "output_type": "execute_result"
    }
   ],
   "source": [
    "inspector = inspect(engine)\n",
    "tables = inspector.get_table_names()\n",
    "tables"
   ]
  },
  {
   "cell_type": "code",
   "execution_count": 6,
   "metadata": {},
   "outputs": [],
   "source": [
    "steam_twitch_tags_table = tables[0]\n",
    "twitch_monthly_table = tables[2]\n",
    "tags_table = tables[1]"
   ]
  },
  {
   "cell_type": "code",
   "execution_count": 7,
   "metadata": {
    "notebookRunGroups": {
     "groupValue": "2"
    }
   },
   "outputs": [],
   "source": [
    "class steam_twitch_agg(Base):\n",
    "    __tablename__ = steam_twitch_tags_table\n",
    "    # https://stackoverflow.com/questions/19129289/how-to-define-composite-primary-key-in-sqlalchemy\n",
    "    # indicates that this syntax should make a composite primary key\n",
    "    app_id = Column(Integer, primary_key=True)\n",
    "    tag = Column(String(128), primary_key=True)\n",
    "    title = Column(String(128))\n",
    "    # These two will need to be changed to Float \n",
    "    hours_watched = Column(Float)\n",
    "    hours_streamed = Column(Float)\n",
    "    average_streamers = Column(Integer)\n",
    "    average_viewers = Column(Integer)\n",
    "    average_channels = Column(Integer)\n",
    "    release_date = Column(Date)\n",
    "    reviews_total = Column(Integer)\n",
    "    review_avg_percent = Column(Integer)\n",
    "    launch_price_cents = Column(Integer)\n",
    "    dataset_est_rev_cents = Column(Integer)\n",
    "\n",
    "class twitch_monthly(Base):\n",
    "    __tablename__ = twitch_monthly_table\n",
    "    app_id = Column(Integer, primary_key=True)\n",
    "    title = Column(String(128))\n",
    "    rank = Column(Integer)\n",
    "    month = Column(Integer, primary_key=True)\n",
    "    year = Column(Integer, primary_key=True)\n",
    "    hours_watched = Column(Integer)\n",
    "    hours_streamed = Column(Integer)\n",
    "    peak_viewers = Column(Integer)\n",
    "    peak_channels = Column(Integer)\n",
    "    streamers = Column(Integer)\n",
    "    average_viewers = Column(Integer)\n",
    "    average_channels = Column(Integer)\n",
    "\n",
    "class steam_tags(Base):\n",
    "    __tablename__ = tags_table\n",
    "    app_id = Column(Integer, primary_key=True)\n",
    "    tag = Column(String(128), primary_key=True)"
   ]
  },
  {
   "cell_type": "code",
   "execution_count": 8,
   "metadata": {},
   "outputs": [],
   "source": [
    "Base.metadata.create_all(engine)"
   ]
  },
  {
   "cell_type": "code",
   "execution_count": 9,
   "metadata": {},
   "outputs": [],
   "source": [
    "session = Session(bind= engine)"
   ]
  },
  {
   "cell_type": "markdown",
   "metadata": {},
   "source": [
    "# Queries"
   ]
  },
  {
   "cell_type": "code",
   "execution_count": 10,
   "metadata": {},
   "outputs": [],
   "source": [
    "lawbreakers_tags = [\"Action\", \"FPS\", \"Multiplayer\", \"Shooter\", \"Arena Shooter\", \"First-Person\", \"Fast-Paced\", \"Sci-fi\", \"Futuristic\", \"Online Co-op\", \"Competative\", \"Team-Based\", \"Co-op\", \"Difficult\", \"Class-Based\", \"Great Soundtrack\", \"Memes\", \"MOBA\", \"Strategy\", \"Indie\"]"
   ]
  },
  {
   "cell_type": "code",
   "execution_count": 11,
   "metadata": {},
   "outputs": [
    {
     "data": {
      "text/plain": [
       "594650"
      ]
     },
     "execution_count": 11,
     "metadata": {},
     "output_type": "execute_result"
    }
   ],
   "source": [
    "statement = text(\"SELECT app_id, title, avg_hours_streamed FROM steam_twitch_agg WHERE LOWER(title) LIKE 'hunt%' ORDER BY avg_hours_watched DESC;\")\n",
    "result = session.execute(statement).all()\n",
    "hunt_S_app_id = result[0][0]\n",
    "hunt_S_app_id"
   ]
  },
  {
   "cell_type": "code",
   "execution_count": 12,
   "metadata": {},
   "outputs": [
    {
     "data": {
      "text/plain": [
       "['Open World',\n",
       " 'Tactical',\n",
       " 'Atmospheric',\n",
       " 'Multiplayer',\n",
       " 'FPS',\n",
       " 'Perma Death',\n",
       " 'Shooter',\n",
       " 'PvP',\n",
       " 'Survival Horror',\n",
       " 'Horror',\n",
       " 'Difficult',\n",
       " 'Online Co Op',\n",
       " 'Co op',\n",
       " 'Team Based',\n",
       " 'Action',\n",
       " 'Gore',\n",
       " 'Zombies',\n",
       " 'First Person']"
      ]
     },
     "execution_count": 12,
     "metadata": {},
     "output_type": "execute_result"
    }
   ],
   "source": [
    "statement = text(\"SELECT tag FROM tags WHERE app_id IS 594650;\")\n",
    "result = session.execute(statement).all()\n",
    "hunt_tags = [val[0] for val in result]\n",
    "hunt_tags"
   ]
  },
  {
   "cell_type": "code",
   "execution_count": 13,
   "metadata": {},
   "outputs": [
    {
     "data": {
      "text/plain": [
       "['Multiplayer', 'FPS', 'Shooter', 'Difficult', 'Action']"
      ]
     },
     "execution_count": 13,
     "metadata": {},
     "output_type": "execute_result"
    }
   ],
   "source": [
    "shared_tags = [val for val in hunt_tags if val in lawbreakers_tags]\n",
    "shared_tags"
   ]
  },
  {
   "cell_type": "code",
   "execution_count": 14,
   "metadata": {},
   "outputs": [
    {
     "name": "stdout",
     "output_type": "stream",
     "text": [
      "85\n"
     ]
    },
    {
     "data": {
      "text/plain": [
       "[(127, 10, 'Counter-Strike', 913781, 137421, 97.0, 53172684, 141632, 72571, 1248, '2000-11-01', 999, 137283579),\n",
       " (128, 730, 'Counter-Strike: Global Offensive', 906847, 7382695, 88.0, 48489362, 123006, 66604, 1243, '2012-08-21', 1499, 11066659805),\n",
       " (174, 1085660, 'Destiny 2', 565819, 555551, 82.0, 7174193, 53869, 9832, 775, '2019-10-01', 3499, 1943872949),\n",
       " (517, 578080, 'PUBG: BATTLEGROUNDS', 495358, 2201296, 57.0, 9725767, 47808, 13337, 679, '2017-12-21', 2999, 6601686704),\n",
       " (569, 1174180, 'Red Dead Redemption 2', 236684, 394937, 90.0, 3104279, 30149, 4253, 324, '2019-12-05', 5999, 2369227063),\n",
       " (57, 924970, 'Back 4 Blood', 232005, 36130, 66.0, 6077030, 38193, 8202, 313, '2021-10-12', 5999, 216743870),\n",
       " (754, 1286680, \"Tiny Tina's Wonderlands\", 201391, 9094, 76.0, 3259927, 30371, 4441, 275, '2022-06-23', 7999, 72742906),\n",
       " (597, 252490, 'Rust', 183374, 775223, 87.0, 10434473, 18355, 14292, 251, '2018-02-08', 3999, 3100116777),\n",
       " (64, 671860, 'BattleBit Remastered', 146138, 63529, 90.0, 6292272, 27123, 8577, 198, '2023-06-15', 1499, 95229971),\n",
       " (570, 1294810, 'Redfall', 141609, 1763, 31.0, 2850843, 34278, 3836, 190, '2023-05-01', 6999, 12339237),\n",
       " (90, 397540, 'Borderlands 3', 128000, 93999, 85.0, 2058405, 14685, 2839, 175, '2020-03-13', 7999, 751898001),\n",
       " (229, 1286320, 'Exoprimal', 127210, 1501, 80.0, 1375580, 28411, 1851, 171, '2023-07-13', 5999, 9004499),\n",
       " (157, 221100, 'DayZ', 119869, 293735, 74.0, 3084315, 11534, 4224, 163, '2018-12-13', 4499, 1321513765),\n",
       " (352, 594650, 'Hunt: Showdown', 117086, 133530, 83.0, 2149006, 10008, 2959, 160, '2019-08-27', 3999, 533986470),\n",
       " (146, 782330, 'DOOM Eternal', 105214, 151201, 91.0, 2281359, 15405, 3086, 142, '2020-03-19', 5999, 907054799),\n",
       " (841, 699130, 'World War Z', 97954, 11025, 83.0, 1334385, 23338, 1843, 134, '2021-09-21', 3999, 44088975),\n",
       " (572, 617290, 'Remnant: From the Ashes', 96251, 39273, 85.0, 1834655, 13482, 2483, 130, '2019-08-19', 3999, 157052727),\n",
       " (321, 976730, 'Halo: The Master Chief Collection', 91502, 191261, 92.0, 934596, 12447, 1275, 124, '2019-12-03', 3999, 764852739),\n",
       " (140, 1252330, 'DEATHLOOP', 87875, 16760, 77.0, 5285183, 11199, 7350, 122, '2021-09-13', 5999, 100543240),\n",
       " (815, 1361210, 'Warhammer 40,000: Darktide', 76688, 60687, 55.0, 3102465, 11989, 4241, 104, '2022-11-30', 3999, 242687313),\n",
       " (576, 883710, 'Resident Evil 2', 71631, 92283, 97.0, 1442945, 12619, 1993, 98, '2019-01-24', 3999, 369039717),\n",
       " (43, 107410, 'Arma 3', 67987, 154464, 91.0, 1570368, 6725, 2152, 92, '2013-09-12', 2999, 463237536),\n",
       " (561, 548570, 'RAGE 2', 66442, 12904, 62.0, 3004606, 10513, 4043, 89, '2019-05-14', 5999, 77411096),\n",
       " (591, 632360, 'Risk of Rain 2', 64437, 162603, 96.0, 1276906, 12719, 1751, 88, '2020-08-11', 2499, 406344897),\n",
       " (164, 895400, 'Deadside', 62758, 26380, 78.0, 1382600, 6331, 1922, 87, '2020-04-14', 1999, 52733620),\n",
       " (631, 1029690, 'Sniper Elite 5', 58092, 9692, 79.0, 1820321, 13942, 2488, 79, '2022-05-25', 4999, 48450308),\n",
       " (567, 1144200, 'Ready or Not', 54186, 91986, 91.0, 2214276, 14136, 2980, 72, '2021-12-17', 3999, 367852014),\n",
       " (391, 232090, 'Killing Floor 2', 42500, 74868, 89.0, 216266, 13175, 297, 58, '2016-11-18', 2999, 224529132),\n",
       " (155, 544920, 'Darwin Project', 42262, 18503, 81.0, 1001573, 8359, 1361, 57, '2020-01-13', 1499, 27735997),\n",
       " (89, 49520, 'Borderlands 2', 35617, 183303, 95.0, 520836, 6309, 716, 48, '2012-09-17', 5999, 1099634697),\n",
       " (143, 379720, 'DOOM', 35232, 120073, 95.0, 620890, 9235, 842, 47, '2016-05-12', 5999, 720317927),\n",
       " (440, 1194810, 'Meet Your Maker', 35094, 2472, 73.0, 997977, 8763, 1388, 48, '2023-04-04', 2999, 7413528),\n",
       " (650, 1268750, 'Starship Troopers: Extermination', 33798, 19519, 92.0, 1342848, 7634, 1807, 45, '2023-05-17', 2499, 48777981),\n",
       " (444, 915810, 'Midnight Ghost Hunt', 31511, 4504, 80.0, 2071385, 7564, 2880, 43, '2022-03-31', 1999, 9003496),\n",
       " (313, 1217060, 'Gunfire Reborn', 28558, 75947, 93.0, 737151, 4498, 1014, 39, '2021-11-17', 1999, 151818053),\n",
       " (369, 581320, 'Insurgency: Sandstorm', 27906, 85036, 86.0, 612790, 6363, 824, 37, '2018-12-12', 2999, 255022964),\n",
       " (674, 626690, 'Sword Art Online: Fatal Bullet', 27310, 14273, 80.0, 269398, 4447, 384, 38, '2018-02-23', 4999, 71350727),\n",
       " (407, 550, 'Left 4 Dead 2', 27224, 564441, 97.0, 402067, 7008, 547, 36, '2009-11-16', 999, 563876559),\n",
       " (375, 728540, 'Islands of Nyne: Battle Royale', 25139, 6801, 50.0, 860606, 4229, 1188, 34, '2018-07-12', 2499, 16995699),\n",
       " (839, 1056960, 'Wolfenstein: Youngblood', 24882, 9677, 46.0, 1188315, 5459, 1599, 33, '2019-07-25', 2999, 29021323),\n",
       " (167, 820520, 'Deceive Inc.', 24845, 3305, 86.0, 1251211, 4748, 1711, 33, '2023-03-21', 1999, 6606695),\n",
       " (513, 218620, 'PAYDAY 2', 24524, 410570, 89.0, 161983, 5288, 221, 33, '2013-08-13', 999, 410159430),\n",
       " (277, 493520, 'GTFO', 23939, 34952, 87.0, 851431, 5277, 1155, 32, '2021-12-09', 3999, 139773048),\n",
       " (279, 4000, \"Garry's Mod\", 23566, 841853, 96.0, 550527, 5763, 751, 31, '2006-11-29', 999, 841011147),\n",
       " (28, 214490, 'Alien: Isolation', 22720, 37348, 92.0, 482881, 4741, 654, 30, '2014-10-06', 3999, 149354652),\n",
       " (840, 674020, 'World War 3', 22182, 52225, 54.0, 747886, 4140, 1006, 29, '2022-12-10', 2800, 146230000),\n",
       " (218, 311690, 'Enter the Gungeon', 22041, 65522, 95.0, 793458, 5210, 1087, 29, '2016-04-05', 1499, 98217478),\n",
       " (646, 393380, 'Squad', 21134, 103913, 88.0, 551766, 2778, 760, 28, '2020-09-23', 4999, 519461087),\n",
       " (630, 312660, 'Sniper Elite 4', 20330, 41845, 91.0, 855764, 3662, 1275, 30, '2017-02-13', 5999, 251028155),\n",
       " (632, 1338770, 'Sniper Ghost Warrior Contracts 2', 16694, 7090, 84.0, 778271, 2273, 1082, 23, '2021-06-04', 3999, 28352910),\n",
       " (77, 362890, 'Black Mesa', 14957, 92515, 95.0, 758143, 2563, 1020, 19, '2020-03-06', 1999, 184937485),\n",
       " (614, 324800, 'Shadow Warrior 2', 14698, 20612, 87.0, 768859, 3011, 1034, 19, '2016-10-13', 3999, 82427388),\n",
       " (837, 612880, 'Wolfenstein II: The New Colossus', 14209, 24922, 79.0, 821863, 3860, 1122, 19, '2017-10-26', 3999, 99663078),\n",
       " (480, 1222370, 'Necromunda: Hired Gun', 14071, 4540, 70.0, 793254, 2650, 1103, 19, '2021-05-31', 3999, 18155460),\n",
       " (353, 393420, 'Hurtworld', 13168, 23824, 76.0, 217722, 1728, 293, 17, '2019-12-10', 2499, 59536176),\n",
       " (56, 1286350, 'BPM: BULLETS PER MINUTE', 13026, 8373, 92.0, 708614, 3276, 985, 18, '2020-09-15', 1999, 16737627),\n",
       " (44, 1874880, 'Arma Reforger', 12929, 7433, 59.0, 664480, 3166, 894, 17, '2022-05-17', 2999, 22291567),\n",
       " (612, 257420, 'Serious Sam 4', 12029, 11809, 83.0, 580536, 2061, 807, 16, '2020-09-24', 3999, 47224191),\n",
       " (848, 625340, 'XERA: Survival', 11118, 7116, 67.0, 883459, 2155, 1189, 14, '2021-09-26', 1999, 14224884),\n",
       " (590, 418460, 'Rising Storm 2: Vietnam', 10967, 36748, 87.0, 164970, 2994, 225, 14, '2017-05-30', 2999, 110207252),\n",
       " (542, 736220, 'Post Scriptum', 7035, 14966, 80.0, 552459, 1267, 743, 9, '2018-08-09', 2999, 44883034),\n",
       " (211, 766370, 'Dying Light: Bad Blood', 6088, 1087, 62.24, 589867, 1638, 820, 8, '2018-09-13', 1999, 2172913),\n",
       " (318, 220, 'Half-Life 2', 5562, 130902, 97.0, 327996, 1321, 441, 7, '2004-11-16', 999, 130771098),\n",
       " (216, 415590, 'Earthfall', 4858, 1513, 64.0, 327308, 1597, 440, 6, '2018-07-12', 2999, 4537487),\n",
       " (660, 312670, 'Strange Brigade', 4623, 4075, 85.0, 279452, 1067, 376, 6, '2018-08-27', 4999, 20370925),\n",
       " (604, 322500, 'SUPERHOT', 4545, 22958, 91.0, 245351, 2158, 347, 5, '2016-02-25', 2499, 57372042),\n",
       " (359, 595140, 'Immortal Redneck', 4471, 1966, 91.0, 402083, 923, 541, 6, '2017-04-25', 1995, 3922170),\n",
       " (322, 657200, 'Hand Simulator', 4209, 28054, 84.0, 394697, 2341, 535, 5, '2017-07-18', 199, 5582746),\n",
       " (91, 261640, 'Borderlands: The Pre-Sequel', 3450, 27028, 83.0, 287491, 878, 399, 4, '2014-10-14', 3999, 108084972),\n",
       " (402, 858590, 'Last Tide', 3285, 960, 64.0, 356133, 1057, 479, 4, '2018-08-27', 2499, 2399040),\n",
       " (715, 1017180, 'The Long Drive', 3228, 21700, 91.0, 894712, 884, 1220, 3, '2019-09-25', 1599, 34698300),\n",
       " (817, 375230, 'Warhammer 40,000: Eternal Crusade', 3005, 3792, 51.81, 108146, 328, 150, 4, '2016-09-23', 1999, 7580208),\n",
       " (412, 436520, 'Line of Sight', 2974, 9117, 59.0, 148671, 615, 200, 4, '2017-01-31', 999, 9107883),\n",
       " (599, 41700, 'S.T.A.L.K.E.R.: Call of Pripyat', 2568, 19486, 95.0, 233727, 515, 314, 3, '2010-02-11', 1999, 38952514),\n",
       " (344, 589290, 'Holdfast: Nations At War', 2178, 20358, 90.0, 502041, 703, 698, 2, '2020-03-05', 1999, 40695642),\n",
       " (144, 208200, 'DOOM 3', 1981, 6568, 85.0, 116783, 584, 157, 2, '2012-10-15', 2999, 19697432),\n",
       " (145, 9050, 'DOOM 3', 1981, 5462, 78.74, 116783, 584, 157, 2, '2007-08-03', 999, 5456538),\n",
       " (600, 20510, 'S.T.A.L.K.E.R.: Clear Sky', 1508, 13325, 86.0, 255110, 248, 343, 2, '2008-09-15', 999, 13311675),\n",
       " (180, 422970, 'Devil Daggers', 1297, 6326, 96.0, 180538, 520, 242, 1, '2016-02-18', 999, 6319674),\n",
       " (758, 1121710, 'Total Lockdown', 1157, 688, 77.0, 531250, 216, 715, 1, '2020-03-25', 2999, 2063312),\n",
       " (406, 500, 'Left 4 Dead', 1143, 41000, 96.0, 265959, 405, 357, 1, '2008-11-17', 999, 40959000),\n",
       " (619, 229870, 'ShootMania Storm', 1036, 581, 84.0, 449923, 147, 605, 1, '2013-04-10', 1999, 1161419),\n",
       " (427, 40990, 'Mafia', 867, 7077, 89.0, 207106, 138, 287, 0, '2002-08-28', 1499, 10608423),\n",
       " (118, 4720, 'Condemned: Criminal Origins', 723, 2089, 88.0, 156162, 190, 210, 0, '2006-04-11', 1499, 3131411),\n",
       " (206, 57900, 'Duke Nukem Forever', 187, 5260, 69.0, 180847, 45, 243, 0, '2011-06-13', 1999, 10514740)]"
      ]
     },
     "execution_count": 14,
     "metadata": {},
     "output_type": "execute_result"
    }
   ],
   "source": [
    "#inner_statement = text(\"SELECT app_id FROM tags WHERE tag IN ('Open World', 'Multiplayer', 'Shooter', 'Difficult', 'Action', 'Gore')\")\n",
    "statement = text(f\"\"\"SELECT st.*\n",
    "FROM steam_twitch_agg AS st\n",
    "JOIN tags as t\n",
    "ON st.app_id = t.app_id\n",
    "WHERE t.tag IN ('Multiplayer', 'FPS', 'Shooter', 'Difficult', 'Action')\n",
    "GROUP BY st.app_id \n",
    "HAVING COUNT(st.app_id) > 3 \n",
    "ORDER BY st.avg_hours_streamed DESC;\"\"\")\n",
    "result = session.execute(statement).all()\n",
    "games_sharing_4_tags = result\n",
    "print(len(games_sharing_4_tags))\n",
    "games_sharing_4_tags"
   ]
  },
  {
   "cell_type": "code",
   "execution_count": 15,
   "metadata": {},
   "outputs": [
    {
     "name": "stdout",
     "output_type": "stream",
     "text": [
      "10\n"
     ]
    },
    {
     "data": {
      "text/plain": [
       "[(128, 730, 'Counter-Strike: Global Offensive', 906847, 7382695, 88.0, 48489362, 123006, 66604, 1243, '2012-08-21', 1499, 11066659805),\n",
       " (517, 578080, 'PUBG: BATTLEGROUNDS', 495358, 2201296, 57.0, 9725767, 47808, 13337, 679, '2017-12-21', 2999, 6601686704),\n",
       " (352, 594650, 'Hunt: Showdown', 117086, 133530, 83.0, 2149006, 10008, 2959, 160, '2019-08-27', 3999, 533986470),\n",
       " (146, 782330, 'DOOM Eternal', 105214, 151201, 91.0, 2281359, 15405, 3086, 142, '2020-03-19', 5999, 907054799),\n",
       " (391, 232090, 'Killing Floor 2', 42500, 74868, 89.0, 216266, 13175, 297, 58, '2016-11-18', 2999, 224529132),\n",
       " (143, 379720, 'DOOM', 35232, 120073, 95.0, 620890, 9235, 842, 47, '2016-05-12', 5999, 720317927),\n",
       " (369, 581320, 'Insurgency: Sandstorm', 27906, 85036, 86.0, 612790, 6363, 824, 37, '2018-12-12', 2999, 255022964),\n",
       " (277, 493520, 'GTFO', 23939, 34952, 87.0, 851431, 5277, 1155, 32, '2021-12-09', 3999, 139773048),\n",
       " (612, 257420, 'Serious Sam 4', 12029, 11809, 83.0, 580536, 2061, 807, 16, '2020-09-24', 3999, 47224191),\n",
       " (322, 657200, 'Hand Simulator', 4209, 28054, 84.0, 394697, 2341, 535, 5, '2017-07-18', 199, 5582746)]"
      ]
     },
     "execution_count": 15,
     "metadata": {},
     "output_type": "execute_result"
    }
   ],
   "source": [
    "#inner_statement = text(\"SELECT app_id FROM tags WHERE tag IN ('Open World', 'Multiplayer', 'Shooter', 'Difficult', 'Action', 'Gore')\")\n",
    "statement = text(f\"\"\"SELECT st.*\n",
    "FROM steam_twitch_agg AS st\n",
    "JOIN tags as t\n",
    "ON st.app_id = t.app_id\n",
    "WHERE t.tag IN ('Multiplayer', 'FPS', 'Shooter', 'Difficult', 'Action')\n",
    "GROUP BY st.app_id \n",
    "HAVING COUNT(st.app_id) > 4\n",
    "ORDER BY st.avg_hours_streamed DESC;\"\"\")\n",
    "result = session.execute(statement).all()\n",
    "games_sharing_5_tags = result\n",
    "print(len(games_sharing_5_tags))\n",
    "games_sharing_5_tags"
   ]
  },
  {
   "cell_type": "markdown",
   "metadata": {},
   "source": [
    "## Fall Guys is not the same genre as the rest. \n",
    "Initial statement used inner_statement and returned games that only matched single genre tags.\n",
    "It matches some fo the tags but not all. How to match all tags..."
   ]
  },
  {
   "cell_type": "code",
   "execution_count": 37,
   "metadata": {},
   "outputs": [],
   "source": [
    "# sqlalchemy solution https://stackoverflow.com/questions/13349832/sqlalchemy-filter-to-match-all-instead-of-any-values-in-list\n",
    "# Used to build the SQL statements above\n",
    "# results = session.query(steam_twitch_agg).\\\n",
    "#     join(steam_tags).\\\n",
    "#         filter(steam_tags.tag.in_(shared_tags)).\\\n",
    "#             group_by(steam_twitch_agg.app_id).\\\n",
    "#                 having(func.count(steam_twitch_agg.app_id) >= 4).all()"
   ]
  },
  {
   "cell_type": "markdown",
   "metadata": {},
   "source": [
    "# Save dataframes for visualzation exploration"
   ]
  },
  {
   "cell_type": "code",
   "execution_count": 16,
   "metadata": {},
   "outputs": [
    {
     "data": {
      "text/plain": [
       "['index',\n",
       " 'app_id',\n",
       " 'title',\n",
       " 'avg_hours_streamed',\n",
       " 'reviews_total',\n",
       " 'review_avg_percent',\n",
       " 'avg_hours_watched',\n",
       " 'avg_streamers',\n",
       " 'avg_viewers',\n",
       " 'avg_channels',\n",
       " 'release_date',\n",
       " 'launch_price_cents',\n",
       " 'dataset_est_rev_cents']"
      ]
     },
     "execution_count": 16,
     "metadata": {},
     "output_type": "execute_result"
    }
   ],
   "source": [
    "statement = text(\"PRAGMA table_info(steam_twitch_agg);\")\n",
    "result = session.execute(statement).all()\n",
    "columns = [val[1] for val in result]\n",
    "columns"
   ]
  },
  {
   "cell_type": "code",
   "execution_count": 17,
   "metadata": {},
   "outputs": [
    {
     "data": {
      "text/html": [
       "<div>\n",
       "<style scoped>\n",
       "    .dataframe tbody tr th:only-of-type {\n",
       "        vertical-align: middle;\n",
       "    }\n",
       "\n",
       "    .dataframe tbody tr th {\n",
       "        vertical-align: top;\n",
       "    }\n",
       "\n",
       "    .dataframe thead th {\n",
       "        text-align: right;\n",
       "    }\n",
       "</style>\n",
       "<table border=\"1\" class=\"dataframe\">\n",
       "  <thead>\n",
       "    <tr style=\"text-align: right;\">\n",
       "      <th></th>\n",
       "      <th>index</th>\n",
       "      <th>app_id</th>\n",
       "      <th>title</th>\n",
       "      <th>avg_hours_streamed</th>\n",
       "      <th>reviews_total</th>\n",
       "      <th>review_avg_percent</th>\n",
       "      <th>avg_hours_watched</th>\n",
       "      <th>avg_streamers</th>\n",
       "      <th>avg_viewers</th>\n",
       "      <th>avg_channels</th>\n",
       "      <th>release_date</th>\n",
       "      <th>launch_price_cents</th>\n",
       "      <th>dataset_est_rev_cents</th>\n",
       "    </tr>\n",
       "  </thead>\n",
       "  <tbody>\n",
       "    <tr>\n",
       "      <th>0</th>\n",
       "      <td>127</td>\n",
       "      <td>10</td>\n",
       "      <td>Counter-Strike</td>\n",
       "      <td>913781</td>\n",
       "      <td>137421</td>\n",
       "      <td>97.0</td>\n",
       "      <td>53172684</td>\n",
       "      <td>141632</td>\n",
       "      <td>72571</td>\n",
       "      <td>1248</td>\n",
       "      <td>2000-11-01</td>\n",
       "      <td>999</td>\n",
       "      <td>137283579</td>\n",
       "    </tr>\n",
       "    <tr>\n",
       "      <th>1</th>\n",
       "      <td>128</td>\n",
       "      <td>730</td>\n",
       "      <td>Counter-Strike: Global Offensive</td>\n",
       "      <td>906847</td>\n",
       "      <td>7382695</td>\n",
       "      <td>88.0</td>\n",
       "      <td>48489362</td>\n",
       "      <td>123006</td>\n",
       "      <td>66604</td>\n",
       "      <td>1243</td>\n",
       "      <td>2012-08-21</td>\n",
       "      <td>1499</td>\n",
       "      <td>11066659805</td>\n",
       "    </tr>\n",
       "    <tr>\n",
       "      <th>2</th>\n",
       "      <td>174</td>\n",
       "      <td>1085660</td>\n",
       "      <td>Destiny 2</td>\n",
       "      <td>565819</td>\n",
       "      <td>555551</td>\n",
       "      <td>82.0</td>\n",
       "      <td>7174193</td>\n",
       "      <td>53869</td>\n",
       "      <td>9832</td>\n",
       "      <td>775</td>\n",
       "      <td>2019-10-01</td>\n",
       "      <td>3499</td>\n",
       "      <td>1943872949</td>\n",
       "    </tr>\n",
       "  </tbody>\n",
       "</table>\n",
       "</div>"
      ],
      "text/plain": [
       "   index   app_id                             title  avg_hours_streamed  \\\n",
       "0    127       10                    Counter-Strike              913781   \n",
       "1    128      730  Counter-Strike: Global Offensive              906847   \n",
       "2    174  1085660                         Destiny 2              565819   \n",
       "\n",
       "   reviews_total  review_avg_percent  avg_hours_watched  avg_streamers  \\\n",
       "0         137421                97.0           53172684         141632   \n",
       "1        7382695                88.0           48489362         123006   \n",
       "2         555551                82.0            7174193          53869   \n",
       "\n",
       "   avg_viewers  avg_channels release_date  launch_price_cents  \\\n",
       "0        72571          1248   2000-11-01                 999   \n",
       "1        66604          1243   2012-08-21                1499   \n",
       "2         9832           775   2019-10-01                3499   \n",
       "\n",
       "   dataset_est_rev_cents  \n",
       "0              137283579  \n",
       "1            11066659805  \n",
       "2             1943872949  "
      ]
     },
     "execution_count": 17,
     "metadata": {},
     "output_type": "execute_result"
    }
   ],
   "source": [
    "sharing_4_tags_df = pd.DataFrame(games_sharing_4_tags, columns=columns)\n",
    "sharing_4_tags_df.head(3)"
   ]
  },
  {
   "cell_type": "code",
   "execution_count": 18,
   "metadata": {},
   "outputs": [
    {
     "data": {
      "text/html": [
       "<div>\n",
       "<style scoped>\n",
       "    .dataframe tbody tr th:only-of-type {\n",
       "        vertical-align: middle;\n",
       "    }\n",
       "\n",
       "    .dataframe tbody tr th {\n",
       "        vertical-align: top;\n",
       "    }\n",
       "\n",
       "    .dataframe thead th {\n",
       "        text-align: right;\n",
       "    }\n",
       "</style>\n",
       "<table border=\"1\" class=\"dataframe\">\n",
       "  <thead>\n",
       "    <tr style=\"text-align: right;\">\n",
       "      <th></th>\n",
       "      <th>index</th>\n",
       "      <th>app_id</th>\n",
       "      <th>title</th>\n",
       "      <th>avg_hours_streamed</th>\n",
       "      <th>reviews_total</th>\n",
       "      <th>review_avg_percent</th>\n",
       "      <th>avg_hours_watched</th>\n",
       "      <th>avg_streamers</th>\n",
       "      <th>avg_viewers</th>\n",
       "      <th>avg_channels</th>\n",
       "      <th>release_date</th>\n",
       "      <th>launch_price_cents</th>\n",
       "      <th>dataset_est_rev_cents</th>\n",
       "    </tr>\n",
       "  </thead>\n",
       "  <tbody>\n",
       "    <tr>\n",
       "      <th>0</th>\n",
       "      <td>128</td>\n",
       "      <td>730</td>\n",
       "      <td>Counter-Strike: Global Offensive</td>\n",
       "      <td>906847</td>\n",
       "      <td>7382695</td>\n",
       "      <td>88.0</td>\n",
       "      <td>48489362</td>\n",
       "      <td>123006</td>\n",
       "      <td>66604</td>\n",
       "      <td>1243</td>\n",
       "      <td>2012-08-21</td>\n",
       "      <td>1499</td>\n",
       "      <td>11066659805</td>\n",
       "    </tr>\n",
       "    <tr>\n",
       "      <th>1</th>\n",
       "      <td>517</td>\n",
       "      <td>578080</td>\n",
       "      <td>PUBG: BATTLEGROUNDS</td>\n",
       "      <td>495358</td>\n",
       "      <td>2201296</td>\n",
       "      <td>57.0</td>\n",
       "      <td>9725767</td>\n",
       "      <td>47808</td>\n",
       "      <td>13337</td>\n",
       "      <td>679</td>\n",
       "      <td>2017-12-21</td>\n",
       "      <td>2999</td>\n",
       "      <td>6601686704</td>\n",
       "    </tr>\n",
       "    <tr>\n",
       "      <th>2</th>\n",
       "      <td>352</td>\n",
       "      <td>594650</td>\n",
       "      <td>Hunt: Showdown</td>\n",
       "      <td>117086</td>\n",
       "      <td>133530</td>\n",
       "      <td>83.0</td>\n",
       "      <td>2149006</td>\n",
       "      <td>10008</td>\n",
       "      <td>2959</td>\n",
       "      <td>160</td>\n",
       "      <td>2019-08-27</td>\n",
       "      <td>3999</td>\n",
       "      <td>533986470</td>\n",
       "    </tr>\n",
       "  </tbody>\n",
       "</table>\n",
       "</div>"
      ],
      "text/plain": [
       "   index  app_id                             title  avg_hours_streamed  \\\n",
       "0    128     730  Counter-Strike: Global Offensive              906847   \n",
       "1    517  578080               PUBG: BATTLEGROUNDS              495358   \n",
       "2    352  594650                    Hunt: Showdown              117086   \n",
       "\n",
       "   reviews_total  review_avg_percent  avg_hours_watched  avg_streamers  \\\n",
       "0        7382695                88.0           48489362         123006   \n",
       "1        2201296                57.0            9725767          47808   \n",
       "2         133530                83.0            2149006          10008   \n",
       "\n",
       "   avg_viewers  avg_channels release_date  launch_price_cents  \\\n",
       "0        66604          1243   2012-08-21                1499   \n",
       "1        13337           679   2017-12-21                2999   \n",
       "2         2959           160   2019-08-27                3999   \n",
       "\n",
       "   dataset_est_rev_cents  \n",
       "0            11066659805  \n",
       "1             6601686704  \n",
       "2              533986470  "
      ]
     },
     "execution_count": 18,
     "metadata": {},
     "output_type": "execute_result"
    }
   ],
   "source": [
    "sharing_5_tags_df = pd.DataFrame(games_sharing_5_tags, columns=columns)\n",
    "sharing_5_tags_df.head(3)"
   ]
  },
  {
   "cell_type": "code",
   "execution_count": 19,
   "metadata": {},
   "outputs": [],
   "source": [
    "sharing_5_tags_df.to_csv(f'{resources_path}/Hunt-HD_gte5_tags_shared.csv', index=False)\n",
    "sharing_4_tags_df.to_csv(f'{resources_path}/Hunt-HD_gte4_tags_shared.csv', index=False)"
   ]
  },
  {
   "cell_type": "markdown",
   "metadata": {},
   "source": [
    "# Close session"
   ]
  },
  {
   "cell_type": "code",
   "execution_count": 20,
   "metadata": {},
   "outputs": [],
   "source": [
    "session.close()"
   ]
  },
  {
   "cell_type": "code",
   "execution_count": null,
   "metadata": {},
   "outputs": [],
   "source": []
  }
 ],
 "metadata": {
  "kernelspec": {
   "display_name": ".venv",
   "language": "python",
   "name": "python3"
  },
  "language_info": {
   "codemirror_mode": {
    "name": "ipython",
    "version": 3
   },
   "file_extension": ".py",
   "mimetype": "text/x-python",
   "name": "python",
   "nbconvert_exporter": "python",
   "pygments_lexer": "ipython3",
   "version": "3.12.4"
  }
 },
 "nbformat": 4,
 "nbformat_minor": 2
}
