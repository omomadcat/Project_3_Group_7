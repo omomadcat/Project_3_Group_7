{
 "cells": [
  {
   "cell_type": "code",
   "execution_count": 43,
   "metadata": {},
   "outputs": [],
   "source": [
    "import pathlib\n",
    "import pandas as pd\n",
    "import sqlalchemy\n",
    "from sqlalchemy.ext.declarative import declarative_base\n",
    "from sqlalchemy import Column, Integer, Float, String, Date, text\n",
    "from sqlalchemy.orm import Session\n",
    "from sqlalchemy import inspect, func"
   ]
  },
  {
   "cell_type": "markdown",
   "metadata": {},
   "source": [
    "# Create path object using pathlib\n",
    "This will ensure this file will run for everyone regardless of os\n",
    "This group contains folks running on mac, windows, and linux.    "
   ]
  },
  {
   "cell_type": "code",
   "execution_count": 23,
   "metadata": {},
   "outputs": [
    {
     "name": "stdout",
     "output_type": "stream",
     "text": [
      "Path is project root\n"
     ]
    }
   ],
   "source": [
    "cwd = pathlib.Path.cwd()\n",
    "\n",
    "if cwd.name == 'Project_3_Group_7':\n",
    "    print(\"Path is project root\")\n",
    "else:\n",
    "    print(\"Please correct current working directory to the project root\")"
   ]
  },
  {
   "cell_type": "code",
   "execution_count": 24,
   "metadata": {},
   "outputs": [
    {
     "data": {
      "text/plain": [
       "PurePosixPath('/home/mox/Documents/coding_projects/bootcamp_local/Homeworks/Project_3_Group_7/Resources')"
      ]
     },
     "execution_count": 24,
     "metadata": {},
     "output_type": "execute_result"
    }
   ],
   "source": [
    "resources_path = pathlib.PurePath(cwd, 'Resources')\n",
    "resources_path"
   ]
  },
  {
   "cell_type": "markdown",
   "metadata": {},
   "source": [
    "# Create the db session\n",
    "Can not use automap_base because primary key is a composite key \n",
    "\n",
    "https://python-code.dev/articles/132521261"
   ]
  },
  {
   "cell_type": "code",
   "execution_count": 25,
   "metadata": {},
   "outputs": [
    {
     "name": "stderr",
     "output_type": "stream",
     "text": [
      "/tmp/ipykernel_27042/3378198577.py:2: MovedIn20Warning: The ``declarative_base()`` function is now available as sqlalchemy.orm.declarative_base(). (deprecated since: 2.0) (Background on SQLAlchemy 2.0 at: https://sqlalche.me/e/b8d9)\n",
      "  Base = declarative_base()\n"
     ]
    }
   ],
   "source": [
    "engine = sqlalchemy.create_engine(f'sqlite:///{resources_path}/data.sqlite')\n",
    "Base = declarative_base()"
   ]
  },
  {
   "cell_type": "code",
   "execution_count": 26,
   "metadata": {},
   "outputs": [
    {
     "data": {
      "text/plain": [
       "['steam_twitch_agg', 'tags', 'twitch_monthly']"
      ]
     },
     "execution_count": 26,
     "metadata": {},
     "output_type": "execute_result"
    }
   ],
   "source": [
    "inspector = inspect(engine)\n",
    "tables = inspector.get_table_names()\n",
    "tables"
   ]
  },
  {
   "cell_type": "code",
   "execution_count": 27,
   "metadata": {},
   "outputs": [],
   "source": [
    "steam_twitch_tags_table = tables[0]\n",
    "twitch_monthly_table = tables[2]\n",
    "tags_table = tables[1]"
   ]
  },
  {
   "cell_type": "code",
   "execution_count": 28,
   "metadata": {
    "notebookRunGroups": {
     "groupValue": "2"
    }
   },
   "outputs": [],
   "source": [
    "class steam_twitch_agg(Base):\n",
    "    __tablename__ = steam_twitch_tags_table\n",
    "    # https://stackoverflow.com/questions/19129289/how-to-define-composite-primary-key-in-sqlalchemy\n",
    "    # indicates that this syntax should make a composite primary key\n",
    "    app_id = Column(Integer, primary_key=True)\n",
    "    tag = Column(String(128), primary_key=True)\n",
    "    title = Column(String(128))\n",
    "    # These two will need to be changed to Float \n",
    "    hours_watched = Column(Float)\n",
    "    hours_streamed = Column(Float)\n",
    "    average_streamers = Column(Integer)\n",
    "    average_viewers = Column(Integer)\n",
    "    average_channels = Column(Integer)\n",
    "    release_date = Column(Date)\n",
    "    reviews_total = Column(Integer)\n",
    "    review_avg_percent = Column(Integer)\n",
    "    launch_price_cents = Column(Integer)\n",
    "    dataset_est_rev_cents = Column(Integer)\n",
    "\n",
    "class twitch_monthly(Base):\n",
    "    __tablename__ = twitch_monthly_table\n",
    "    app_id = Column(Integer, primary_key=True)\n",
    "    title = Column(String(128))\n",
    "    rank = Column(Integer)\n",
    "    month = Column(Integer, primary_key=True)\n",
    "    year = Column(Integer, primary_key=True)\n",
    "    hours_watched = Column(Integer)\n",
    "    hours_streamed = Column(Integer)\n",
    "    peak_viewers = Column(Integer)\n",
    "    peak_channels = Column(Integer)\n",
    "    streamers = Column(Integer)\n",
    "    average_viewers = Column(Integer)\n",
    "    average_channels = Column(Integer)\n",
    "\n",
    "class steam_tags(Base):\n",
    "    __tablename__ = tags_table\n",
    "    app_id = Column(Integer, primary_key=True)\n",
    "    tag = Column(String(128), primary_key=True)"
   ]
  },
  {
   "cell_type": "code",
   "execution_count": 29,
   "metadata": {},
   "outputs": [],
   "source": [
    "Base.metadata.create_all(engine)"
   ]
  },
  {
   "cell_type": "code",
   "execution_count": 30,
   "metadata": {},
   "outputs": [],
   "source": [
    "session = Session(bind= engine)"
   ]
  },
  {
   "cell_type": "markdown",
   "metadata": {},
   "source": [
    "# Queries"
   ]
  },
  {
   "cell_type": "code",
   "execution_count": 31,
   "metadata": {},
   "outputs": [],
   "source": [
    "helldivers_tags = [\"Online Co-Op\", \"Third-Person Shooter\", \"PvE\", \"Multiplayer\", \"Action\", \"Shooter\", \"Co-op\", \"Sci-fi\", \"Capitalism\", \"Space\", \"Third Person\", \"Extraction Shooter\", \"Comedy\", \"Gore\", \"Violent\", \"Great Soundtrack\", \"Difficult\", \"Psychological Horror\", \"Singleplayer\", \"Open World\"]"
   ]
  },
  {
   "cell_type": "code",
   "execution_count": 32,
   "metadata": {},
   "outputs": [
    {
     "data": {
      "text/plain": [
       "594650"
      ]
     },
     "execution_count": 32,
     "metadata": {},
     "output_type": "execute_result"
    }
   ],
   "source": [
    "statement = text(\"SELECT app_id, title, avg_hours_streamed FROM steam_twitch_agg WHERE LOWER(title) LIKE 'hunt%' ORDER BY avg_hours_watched DESC;\")\n",
    "result = session.execute(statement).all()\n",
    "hunt_S_app_id = result[0][0]\n",
    "hunt_S_app_id"
   ]
  },
  {
   "cell_type": "code",
   "execution_count": 33,
   "metadata": {},
   "outputs": [
    {
     "data": {
      "text/plain": [
       "['Open World',\n",
       " 'Tactical',\n",
       " 'Atmospheric',\n",
       " 'Multiplayer',\n",
       " 'FPS',\n",
       " 'Perma Death',\n",
       " 'Shooter',\n",
       " 'PvP',\n",
       " 'Survival Horror',\n",
       " 'Horror',\n",
       " 'Difficult',\n",
       " 'Online Co Op',\n",
       " 'Co op',\n",
       " 'Team Based',\n",
       " 'Action',\n",
       " 'Gore',\n",
       " 'Zombies',\n",
       " 'First Person']"
      ]
     },
     "execution_count": 33,
     "metadata": {},
     "output_type": "execute_result"
    }
   ],
   "source": [
    "statement = text(\"SELECT tag FROM tags WHERE app_id IS 594650;\")\n",
    "result = session.execute(statement).all()\n",
    "hunt_tags = [val[0] for val in result]\n",
    "hunt_tags"
   ]
  },
  {
   "cell_type": "code",
   "execution_count": 34,
   "metadata": {},
   "outputs": [
    {
     "data": {
      "text/plain": [
       "['Open World', 'Multiplayer', 'Shooter', 'Difficult', 'Action', 'Gore']"
      ]
     },
     "execution_count": 34,
     "metadata": {},
     "output_type": "execute_result"
    }
   ],
   "source": [
    "shared_tags = [val for val in hunt_tags if val in helldivers_tags]\n",
    "shared_tags"
   ]
  },
  {
   "cell_type": "code",
   "execution_count": 35,
   "metadata": {},
   "outputs": [
    {
     "name": "stdout",
     "output_type": "stream",
     "text": [
      "124\n"
     ]
    },
    {
     "data": {
      "text/plain": [
       "[(302, 271590, 'Grand Theft Auto V', 1123643, 1322782, 89.85, 64115728, 126038, 87926, 1539, '2015-04-13', 2999, 3967023218),\n",
       " (128, 730, 'Counter-Strike: Global Offensive', 906847, 7382695, 88.0, 48489362, 123006, 66604, 1243, '2012-08-21', 1499, 11066659805),\n",
       " (163, 381210, 'Dead by Daylight', 738369, 486959, 80.0, 13545274, 68595, 18559, 1011, '2016-06-14', 1999, 973431041),\n",
       " (174, 1085660, 'Destiny 2', 565819, 555551, 82.0, 7174193, 53869, 9832, 775, '2019-10-01', 3499, 1943872949),\n",
       " (517, 578080, 'PUBG: BATTLEGROUNDS', 495358, 2201296, 57.0, 9725767, 47808, 13337, 679, '2017-12-21', 2999, 6601686704),\n",
       " (213, 1245620, 'ELDEN RING', 334744, 520024, 92.0, 6275674, 48378, 8704, 463, '2022-02-24', 5999, 3119623976),\n",
       " (581, 1196590, 'Resident Evil Village', 294413, 64873, 95.0, 8070879, 34485, 10899, 397, '2021-05-06', 7999, 518919127),\n",
       " (571, 1282100, 'Remnant II', 283087, 6261, 81.0, 6976623, 32813, 9389, 380, '2023-07-25', 4999, 31298739),\n",
       " (48, 2208920, \"Assassin's Creed Valhalla\", 256689, 10386, 67.0, 5353420, 26200, 7408, 354, '2022-12-06', 5999, 62305614),\n",
       " (569, 1174180, 'Red Dead Redemption 2', 236684, 394937, 90.0, 3104279, 30149, 4253, 324, '2019-12-05', 5999, 2369227063),\n",
       " (57, 924970, 'Back 4 Blood', 232005, 36130, 66.0, 6077030, 38193, 8202, 313, '2021-10-12', 5999, 216743870),\n",
       " (597, 252490, 'Rust', 183374, 775223, 87.0, 10434473, 18355, 14292, 251, '2018-02-08', 3999, 3100116777),\n",
       " (450, 582010, 'Monster Hunter: World', 163908, 231924, 87.0, 2889184, 20777, 3976, 224, '2018-08-09', 2999, 695540076),\n",
       " (147, 851850, 'DRAGON BALL Z: KAKAROT', 163319, 32219, 93.0, 5108815, 20528, 6924, 223, '2020-01-16', 8499, 273829281),\n",
       " (577, 952060, 'Resident Evil 3', 162507, 48121, 80.0, 5788535, 24811, 8022, 224, '2020-04-02', 5999, 288677879),\n",
       " (52, 668580, 'Atomic Heart', 161996, 18176, 84.0, 3998058, 36979, 5873, 231, '2023-02-20', 5999, 109037824),\n",
       " (570, 1294810, 'Redfall', 141609, 1763, 31.0, 2850843, 34278, 3836, 190, '2023-05-01', 6999, 12339237),\n",
       " (90, 397540, 'Borderlands 3', 128000, 93999, 85.0, 2058405, 14685, 2839, 175, '2020-03-13', 7999, 751898001),\n",
       " (157, 221100, 'DayZ', 119869, 293735, 74.0, 3084315, 11534, 4224, 163, '2018-12-13', 4499, 1321513765),\n",
       " (352, 594650, 'Hunt: Showdown', 117086, 133530, 83.0, 2149006, 10008, 2959, 160, '2019-08-27', 3999, 533986470),\n",
       " (159, 1259420, 'Days Gone', 117013, 43992, 92.0, 2376998, 13832, 3249, 159, '2021-05-17', 4999, 219916008),\n",
       " (146, 782330, 'DOOM Eternal', 105214, 151201, 91.0, 2281359, 15405, 3086, 142, '2020-03-19', 5999, 907054799),\n",
       " (241, 1151340, 'Fallout 76', 104917, 45316, 75.0, 1769353, 10979, 2438, 143, '2020-04-14', 3999, 181218684),\n",
       " (181, 601150, 'Devil May Cry 5', 102567, 69540, 95.0, 2393049, 16800, 3225, 138, '2019-03-07', 5999, 417170460),\n",
       " (841, 699130, 'World War Z', 97954, 11025, 83.0, 1334385, 23338, 1843, 134, '2021-09-21', 3999, 44088975),\n",
       " (572, 617290, 'Remnant: From the Ashes', 96251, 39273, 85.0, 1834655, 13482, 2483, 130, '2019-08-19', 3999, 157052727),\n",
       " (602, 513710, 'SCUM', 92339, 73578, 74.0, 2927817, 11784, 3997, 126, '2018-08-29', 3999, 294238422),\n",
       " (140, 1252330, 'DEATHLOOP', 87875, 16760, 77.0, 5285183, 11199, 7350, 122, '2021-09-13', 5999, 100543240),\n",
       " (815, 1361210, 'Warhammer 40,000: Darktide', 76688, 60687, 55.0, 3102465, 11989, 4241, 104, '2022-11-30', 3999, 242687313),\n",
       " (281, 1097840, 'Gears 5', 73735, 16677, 70.0, 919279, 8278, 1258, 100, '2019-09-09', 3999, 66691323),\n",
       " (576, 883710, 'Resident Evil 2', 71631, 92283, 97.0, 1442945, 12619, 1993, 98, '2019-01-24', 3999, 369039717),\n",
       " (43, 107410, 'Arma 3', 67987, 154464, 91.0, 1570368, 6725, 2152, 92, '2013-09-12', 2999, 463237536),\n",
       " (561, 548570, 'RAGE 2', 66442, 12904, 62.0, 3004606, 10513, 4043, 89, '2019-05-14', 5999, 77411096),\n",
       " (428, 1030840, 'Mafia: Definitive Edition', 64473, 44916, 86.0, 3240675, 8852, 4482, 88, '2020-09-24', 3999, 179619084),\n",
       " (591, 632360, 'Risk of Rain 2', 64437, 162603, 96.0, 1276906, 12719, 1751, 88, '2020-08-11', 2499, 406344897),\n",
       " (164, 895400, 'Deadside', 62758, 26380, 78.0, 1382600, 6331, 1922, 87, '2020-04-14', 1999, 52733620),\n",
       " (443, 412020, 'Metro Exodus', 61250, 79807, 89.0, 2118703, 9792, 3094, 88, '2019-02-14', 5999, 478762193),\n",
       " (631, 1029690, 'Sniper Elite 5', 58092, 9692, 79.0, 1820321, 13942, 2488, 79, '2022-05-25', 4999, 48450308),\n",
       " (116, 440900, 'Conan Exiles', 57901, 63484, 78.0, 1655101, 5149, 2297, 79, '2018-05-08', 3999, 253872516),\n",
       " (567, 1144200, 'Ready or Not', 54186, 91986, 91.0, 2214276, 14136, 2980, 72, '2021-12-17', 3999, 367852014),\n",
       " (272, 438740, 'Friday the 13th: The Game', 51611, 62268, 79.0, 1220568, 10795, 1661, 69, '2017-05-26', 3999, 249009732),\n",
       " (689, 979690, 'The Ascent', 49378, 15354, 75.0, 769332, 8880, 1035, 66, '2021-07-29', 2999, 46046646),\n",
       " (315, 1659040, 'HITMAN 3', 46899, 12825, 84.0, 2619207, 8801, 3583, 64, '2022-01-20', 6999, 89762175),\n",
       " (391, 232090, 'Killing Floor 2', 42500, 74868, 89.0, 216266, 13175, 297, 58, '2016-11-18', 2999, 224529132),\n",
       " (155, 544920, 'Darwin Project', 42262, 18503, 81.0, 1001573, 8359, 1361, 57, '2020-01-13', 1499, 27735997),\n",
       " (456, 1110910, 'Mortal Shell', 38711, 4708, 72.0, 2330174, 6493, 3135, 52, '2021-08-18', 2999, 14119292),\n",
       " (141, 1274570, 'DEVOUR', 38684, 49036, 92.0, 1126581, 14893, 1554, 53, '2021-01-28', 499, 24468964),\n",
       " (89, 49520, 'Borderlands 2', 35617, 183303, 95.0, 520836, 6309, 716, 48, '2012-09-17', 5999, 1099634697),\n",
       " (143, 379720, 'DOOM', 35232, 120073, 95.0, 620890, 9235, 842, 47, '2016-05-12', 5999, 720317927),\n",
       " (440, 1194810, 'Meet Your Maker', 35094, 2472, 73.0, 997977, 8763, 1388, 48, '2023-04-04', 2999, 7413528),\n",
       " (706, 601430, 'The Evil Within 2', 34258, 15470, 92.0, 1990148, 6880, 2698, 46, '2017-10-12', 3999, 61864530),\n",
       " (731, 378540, 'The Surge', 30448, 6414, 76.0, 1425920, 5214, 1919, 40, '2017-05-15', 4999, 32063586),\n",
       " (197, 322330, \"Don't Starve Together\", 29984, 276084, 95.0, 634612, 4556, 869, 40, '2016-04-21', 1499, 413849916),\n",
       " (369, 581320, 'Insurgency: Sandstorm', 27906, 85036, 86.0, 612790, 6363, 824, 37, '2018-12-12', 2999, 255022964),\n",
       " (674, 626690, 'Sword Art Online: Fatal Bullet', 27310, 14273, 80.0, 269398, 4447, 384, 38, '2018-02-23', 4999, 71350727),\n",
       " (407, 550, 'Left 4 Dead 2', 27224, 564441, 97.0, 402067, 7008, 547, 36, '2009-11-16', 999, 563876559),\n",
       " (153, 606280, 'Darksiders III', 26178, 9287, 76.0, 1249179, 4489, 1725, 35, '2018-11-27', 5999, 55712713),\n",
       " (226, 1065310, 'Evil West', 24957, 4295, 75.0, 1074609, 5640, 1494, 34, '2022-11-21', 4999, 21470705),\n",
       " (839, 1056960, 'Wolfenstein: Youngblood', 24882, 9677, 46.0, 1188315, 5459, 1599, 33, '2019-07-25', 2999, 29021323),\n",
       " (161, 543460, 'Dead Rising 4', 24081, 3638, 58.0, 1057028, 53, 1422, 32, '2017-03-14', 5999, 21824362),\n",
       " (175, 803330, 'Destroy All Humans!', 23974, 7406, 93.0, 1103461, 5565, 1485, 32, '2020-07-28', 2999, 22210594),\n",
       " (277, 493520, 'GTFO', 23939, 34952, 87.0, 851431, 5277, 1155, 32, '2021-12-09', 3999, 139773048),\n",
       " (506, 238320, 'Outlast', 23191, 74105, 96.0, 338588, 7459, 459, 31, '2013-09-04', 1999, 148135895),\n",
       " (28, 214490, 'Alien: Isolation', 22720, 37348, 92.0, 482881, 4741, 654, 30, '2014-10-06', 3999, 149354652),\n",
       " (183, 310560, 'DiRT Rally', 22621, 38231, 77.76, 112223, 4291, 156, 31, '2015-12-07', 3499, 133770269),\n",
       " (218, 311690, 'Enter the Gungeon', 22041, 65522, 95.0, 793458, 5210, 1087, 29, '2016-04-05', 1499, 98217478),\n",
       " (646, 393380, 'Squad', 21134, 103913, 88.0, 551766, 2778, 760, 28, '2020-09-23', 4999, 519461087),\n",
       " (630, 312660, 'Sniper Elite 4', 20330, 41845, 91.0, 855764, 3662, 1275, 30, '2017-02-13', 5999, 251028155),\n",
       " (303, 12120, 'Grand Theft Auto: San Andreas', 17847, 59301, 87.96, 485477, 3786, 666, 24, '2011-01-06', 1499, 88892199),\n",
       " (200, 367500, \"Dragon's Dogma: Dark Arisen\", 17834, 26491, 89.0, 652855, 2236, 896, 23, '2016-01-15', 2999, 79446509),\n",
       " (18, 473690, 'Absolver', 17620, 10789, 73.0, 547252, 4486, 741, 24, '2017-08-29', 2999, 32356211),\n",
       " (632, 1338770, 'Sniper Ghost Warrior Contracts 2', 16694, 7090, 84.0, 778271, 2273, 1082, 23, '2021-06-04', 3999, 28352910),\n",
       " (859, 694280, 'Zombie Army 4: Dead War', 16364, 5104, 85.0, 612082, 2297, 880, 23, '2021-02-18', 4999, 25514896),\n",
       " (77, 362890, 'Black Mesa', 14957, 92515, 95.0, 758143, 2563, 1020, 19, '2020-03-06', 1999, 184937485),\n",
       " (705, 268050, 'The Evil Within', 14717, 16080, 84.0, 388049, 2653, 524, 19, '2014-10-13', 1999, 32143920),\n",
       " (614, 324800, 'Shadow Warrior 2', 14698, 20612, 87.0, 768859, 3011, 1034, 19, '2016-10-13', 3999, 82427388),\n",
       " (837, 612880, 'Wolfenstein II: The New Colossus', 14209, 24922, 79.0, 821863, 3860, 1122, 19, '2017-10-26', 3999, 99663078),\n",
       " (480, 1222370, 'Necromunda: Hired Gun', 14071, 4540, 70.0, 793254, 2650, 1103, 19, '2021-05-31', 3999, 18155460),\n",
       " (270, 505460, 'Foxhole', 13963, 27878, 82.0, 1104062, 1125, 1493, 18, '2022-09-28', 2999, 83606122),\n",
       " (353, 393420, 'Hurtworld', 13168, 23824, 76.0, 217722, 1728, 293, 17, '2019-12-10', 2499, 59536176),\n",
       " (691, 792300, 'The Beast Inside', 12972, 7226, 83.0, 899300, 2428, 1218, 17, '2019-10-17', 2499, 18057774),\n",
       " (44, 1874880, 'Arma Reforger', 12929, 7433, 59.0, 664480, 3166, 894, 17, '2022-05-17', 2999, 22291567),\n",
       " (612, 257420, 'Serious Sam 4', 12029, 11809, 83.0, 580536, 2061, 807, 16, '2020-09-24', 3999, 47224191),\n",
       " (466, 557340, 'My Friend Pedro', 11299, 22538, 96.0, 568454, 4535, 783, 15, '2019-06-20', 1999, 45053462),\n",
       " (848, 625340, 'XERA: Survival', 11118, 7116, 67.0, 883459, 2155, 1189, 14, '2021-09-26', 1999, 14224884),\n",
       " (590, 418460, 'Rising Storm 2: Vietnam', 10967, 36748, 87.0, 164970, 2994, 225, 14, '2017-05-30', 2999, 110207252),\n",
       " (550, 378860, 'Project CARS 2', 10663, 11081, 76.67, 201190, 2376, 279, 14, '2017-09-21', 5999, 66474919),\n",
       " (25, 304530, 'Agents of Mayhem', 9767, 3038, 59.0, 318873, 1927, 429, 13, '2017-08-15', 5999, 18224962),\n",
       " (61, 602960, 'Barotrauma', 8447, 34830, 93.0, 619057, 1367, 840, 11, '2023-03-13', 3499, 121870170),\n",
       " (575, 304240, 'Resident Evil', 8309, 15530, 92.0, 367373, 2616, 502, 11, '2015-01-19', 1999, 31044470),\n",
       " (483, 519190, 'Next Day: Survival', 8166, 8550, 63.0, 340346, 1744, 458, 10, '2018-05-21', 999, 8541450),\n",
       " (542, 736220, 'Post Scriptum', 7035, 14966, 80.0, 552459, 1267, 743, 9, '2018-08-09', 2999, 44883034),\n",
       " (732, 644830, 'The Surge 2', 6913, 5367, 77.0, 853549, 935, 1179, 9, '2019-09-23', 4999, 26829633),\n",
       " (738, 916840, 'The Walking Dead: Saints & Sinners', 6693, 6546, 88.0, 515711, 1700, 742, 9, '2020-01-23', 3999, 26177454),\n",
       " (579, 21690, 'Resident Evil 5', 6490, 26446, 87.0, 248931, 2303, 349, 8, '2009-09-15', 1999, 52865554),\n",
       " (421, 234140, 'Mad Max', 6291, 43796, 91.0, 210526, 1411, 288, 8, '2015-09-01', 1999, 87548204),\n",
       " (211, 766370, 'Dying Light: Bad Blood', 6088, 1087, 62.24, 589867, 1638, 820, 8, '2018-09-13', 1999, 2172913),\n",
       " (339, 731620, 'Hide Or Die', 6025, 1182, 56.11, 289859, 1301, 390, 8, '2020-05-01', 2499, 2953818),\n",
       " (216, 415590, 'Earthfall', 4858, 1513, 64.0, 327308, 1597, 440, 6, '2018-07-12', 2999, 4537487),\n",
       " (660, 312670, 'Strange Brigade', 4623, 4075, 85.0, 279452, 1067, 376, 6, '2018-08-27', 4999, 20370925),\n",
       " (158, 842100, 'Daymare: 1998', 4610, 2415, 72.0, 375548, 1062, 522, 6, '2019-09-17', 2999, 7242585),\n",
       " (604, 322500, 'SUPERHOT', 4545, 22958, 91.0, 245351, 2158, 347, 5, '2016-02-25', 2499, 57372042),\n",
       " (742, 526160, 'The Wild Eight', 4363, 6056, 71.0, 256058, 1018, 381, 6, '2019-10-03', 2499, 15133944),\n",
       " (322, 657200, 'Hand Simulator', 4209, 28054, 84.0, 394697, 2341, 535, 5, '2017-07-18', 199, 5582746),\n",
       " (91, 261640, 'Borderlands: The Pre-Sequel', 3450, 27028, 83.0, 287491, 878, 399, 4, '2014-10-14', 3999, 108084972),\n",
       " (715, 1017180, 'The Long Drive', 3228, 21700, 91.0, 894712, 884, 1220, 3, '2019-09-25', 1599, 34698300),\n",
       " (817, 375230, 'Warhammer 40,000: Eternal Crusade', 3005, 3792, 51.81, 108146, 328, 150, 4, '2016-09-23', 1999, 7580208),\n",
       " (412, 436520, 'Line of Sight', 2974, 9117, 59.0, 148671, 615, 200, 4, '2017-01-31', 999, 9107883),\n",
       " (304, 12110, 'Grand Theft Auto: Vice City', 2812, 19777, 86.18, 312830, 593, 420, 3, '2011-01-06', 999, 19757223),\n",
       " (436, 204100, 'Max Payne 3', 2633, 38792, 85.0, 981768, 475, 1321, 3, '2012-05-31', 1999, 77545208),\n",
       " (599, 41700, 'S.T.A.L.K.E.R.: Call of Pripyat', 2568, 19486, 95.0, 233727, 515, 314, 3, '2010-02-11', 1999, 38952514),\n",
       " (844, 327030, 'Worms W.M.D', 2105, 6845, 85.0, 493131, 716, 684, 2, '2016-08-23', 2999, 20528155),\n",
       " (144, 208200, 'DOOM 3', 1981, 6568, 85.0, 116783, 584, 157, 2, '2012-10-15', 2999, 19697432),\n",
       " (145, 9050, 'DOOM 3', 1981, 5462, 78.74, 116783, 584, 157, 2, '2007-08-03', 999, 5456538),\n",
       " (600, 20510, 'S.T.A.L.K.E.R.: Clear Sky', 1508, 13325, 86.0, 255110, 248, 343, 2, '2008-09-15', 999, 13311675),\n",
       " (305, 962400, 'Granny', 1398, 1521, 90.0, 715241, 500, 973, 1, '2018-11-20', 999, 1519479),\n",
       " (172, 681280, 'Descenders', 1349, 11696, 95.0, 248957, 484, 371, 2, '2019-05-07', 2499, 29228304),\n",
       " (180, 422970, 'Devil Daggers', 1297, 6326, 96.0, 180538, 520, 242, 1, '2016-02-18', 999, 6319674),\n",
       " (301, 12100, 'Grand Theft Auto III', 1118, 9070, 76.34, 216252, 222, 291, 1, '2011-01-06', 999, 9060930),\n",
       " (427, 40990, 'Mafia', 867, 7077, 89.0, 207106, 138, 287, 0, '2002-08-28', 1499, 10608423),\n",
       " (118, 4720, 'Condemned: Criminal Origins', 723, 2089, 88.0, 156162, 190, 210, 0, '2006-04-11', 1499, 3131411),\n",
       " (70, 395200, 'Ben and Ed', 712, 2867, 82.0, 111484, 290, 160, 1, '2015-12-08', 999, 2864133),\n",
       " (105, 343780, 'Cat Goes Fishing', 312, 8272, 94.0, 171628, 113, 234, 0, '2015-01-19', 699, 5782128),\n",
       " (206, 57900, 'Duke Nukem Forever', 187, 5260, 69.0, 180847, 45, 243, 0, '2011-06-13', 1999, 10514740)]"
      ]
     },
     "execution_count": 35,
     "metadata": {},
     "output_type": "execute_result"
    }
   ],
   "source": [
    "#inner_statement = text(\"SELECT app_id FROM tags WHERE tag IN ('Open World', 'Multiplayer', 'Shooter', 'Difficult', 'Action', 'Gore')\")\n",
    "statement = text(f\"\"\"SELECT st.*\n",
    "FROM steam_twitch_agg AS st\n",
    "JOIN tags as t\n",
    "ON st.app_id = t.app_id\n",
    "WHERE t.tag IN ('Open World', 'Multiplayer', 'Shooter', 'Difficult', 'Action', 'Gore')\n",
    "GROUP BY st.app_id \n",
    "HAVING COUNT(st.app_id) > 3\n",
    "ORDER BY st.avg_hours_streamed DESC;\"\"\")\n",
    "result = session.execute(statement).all()\n",
    "games_sharing_4_tags = result\n",
    "print(len(games_sharing_4_tags))\n",
    "games_sharing_4_tags"
   ]
  },
  {
   "cell_type": "code",
   "execution_count": 36,
   "metadata": {},
   "outputs": [
    {
     "name": "stdout",
     "output_type": "stream",
     "text": [
      "28\n"
     ]
    },
    {
     "data": {
      "text/plain": [
       "[(569, 1174180, 'Red Dead Redemption 2', 236684, 394937, 90.0, 3104279, 30149, 4253, 324, '2019-12-05', 5999, 2369227063),\n",
       " (90, 397540, 'Borderlands 3', 128000, 93999, 85.0, 2058405, 14685, 2839, 175, '2020-03-13', 7999, 751898001),\n",
       " (352, 594650, 'Hunt: Showdown', 117086, 133530, 83.0, 2149006, 10008, 2959, 160, '2019-08-27', 3999, 533986470),\n",
       " (146, 782330, 'DOOM Eternal', 105214, 151201, 91.0, 2281359, 15405, 3086, 142, '2020-03-19', 5999, 907054799),\n",
       " (281, 1097840, 'Gears 5', 73735, 16677, 70.0, 919279, 8278, 1258, 100, '2019-09-09', 3999, 66691323),\n",
       " (576, 883710, 'Resident Evil 2', 71631, 92283, 97.0, 1442945, 12619, 1993, 98, '2019-01-24', 3999, 369039717),\n",
       " (561, 548570, 'RAGE 2', 66442, 12904, 62.0, 3004606, 10513, 4043, 89, '2019-05-14', 5999, 77411096),\n",
       " (428, 1030840, 'Mafia: Definitive Edition', 64473, 44916, 86.0, 3240675, 8852, 4482, 88, '2020-09-24', 3999, 179619084),\n",
       " (164, 895400, 'Deadside', 62758, 26380, 78.0, 1382600, 6331, 1922, 87, '2020-04-14', 1999, 52733620),\n",
       " (631, 1029690, 'Sniper Elite 5', 58092, 9692, 79.0, 1820321, 13942, 2488, 79, '2022-05-25', 4999, 48450308),\n",
       " (272, 438740, 'Friday the 13th: The Game', 51611, 62268, 79.0, 1220568, 10795, 1661, 69, '2017-05-26', 3999, 249009732),\n",
       " (315, 1659040, 'HITMAN 3', 46899, 12825, 84.0, 2619207, 8801, 3583, 64, '2022-01-20', 6999, 89762175),\n",
       " (391, 232090, 'Killing Floor 2', 42500, 74868, 89.0, 216266, 13175, 297, 58, '2016-11-18', 2999, 224529132),\n",
       " (456, 1110910, 'Mortal Shell', 38711, 4708, 72.0, 2330174, 6493, 3135, 52, '2021-08-18', 2999, 14119292),\n",
       " (143, 379720, 'DOOM', 35232, 120073, 95.0, 620890, 9235, 842, 47, '2016-05-12', 5999, 720317927),\n",
       " (369, 581320, 'Insurgency: Sandstorm', 27906, 85036, 86.0, 612790, 6363, 824, 37, '2018-12-12', 2999, 255022964),\n",
       " (277, 493520, 'GTFO', 23939, 34952, 87.0, 851431, 5277, 1155, 32, '2021-12-09', 3999, 139773048),\n",
       " (630, 312660, 'Sniper Elite 4', 20330, 41845, 91.0, 855764, 3662, 1275, 30, '2017-02-13', 5999, 251028155),\n",
       " (859, 694280, 'Zombie Army 4: Dead War', 16364, 5104, 85.0, 612082, 2297, 880, 23, '2021-02-18', 4999, 25514896),\n",
       " (705, 268050, 'The Evil Within', 14717, 16080, 84.0, 388049, 2653, 524, 19, '2014-10-13', 1999, 32143920),\n",
       " (614, 324800, 'Shadow Warrior 2', 14698, 20612, 87.0, 768859, 3011, 1034, 19, '2016-10-13', 3999, 82427388),\n",
       " (837, 612880, 'Wolfenstein II: The New Colossus', 14209, 24922, 79.0, 821863, 3860, 1122, 19, '2017-10-26', 3999, 99663078),\n",
       " (480, 1222370, 'Necromunda: Hired Gun', 14071, 4540, 70.0, 793254, 2650, 1103, 19, '2021-05-31', 3999, 18155460),\n",
       " (612, 257420, 'Serious Sam 4', 12029, 11809, 83.0, 580536, 2061, 807, 16, '2020-09-24', 3999, 47224191),\n",
       " (732, 644830, 'The Surge 2', 6913, 5367, 77.0, 853549, 935, 1179, 9, '2019-09-23', 4999, 26829633),\n",
       " (211, 766370, 'Dying Light: Bad Blood', 6088, 1087, 62.24, 589867, 1638, 820, 8, '2018-09-13', 1999, 2172913),\n",
       " (322, 657200, 'Hand Simulator', 4209, 28054, 84.0, 394697, 2341, 535, 5, '2017-07-18', 199, 5582746),\n",
       " (427, 40990, 'Mafia', 867, 7077, 89.0, 207106, 138, 287, 0, '2002-08-28', 1499, 10608423)]"
      ]
     },
     "execution_count": 36,
     "metadata": {},
     "output_type": "execute_result"
    }
   ],
   "source": [
    "#inner_statement = text(\"SELECT app_id FROM tags WHERE tag IN ('Open World', 'Multiplayer', 'Shooter', 'Difficult', 'Action', 'Gore')\")\n",
    "statement = text(f\"\"\"SELECT st.*\n",
    "FROM steam_twitch_agg AS st\n",
    "JOIN tags as t\n",
    "ON st.app_id = t.app_id\n",
    "WHERE t.tag IN ('Open World', 'Multiplayer', 'Shooter', 'Difficult', 'Action', 'Gore')\n",
    "GROUP BY st.app_id \n",
    "HAVING COUNT(st.app_id) > 4\n",
    "ORDER BY st.avg_hours_streamed DESC;\"\"\")\n",
    "result = session.execute(statement).all()\n",
    "games_sharing_5_tags = result\n",
    "print(len(games_sharing_5_tags))\n",
    "games_sharing_5_tags"
   ]
  },
  {
   "cell_type": "markdown",
   "metadata": {},
   "source": [
    "## Fall Guys is not the same genre as the rest. \n",
    "Initial statement used inner_statement and returned games that only matched single genre tags.\n",
    "It matches some fo the tags but not all. How to match all tags..."
   ]
  },
  {
   "cell_type": "code",
   "execution_count": 37,
   "metadata": {},
   "outputs": [],
   "source": [
    "# sqlalchemy solution https://stackoverflow.com/questions/13349832/sqlalchemy-filter-to-match-all-instead-of-any-values-in-list\n",
    "# Used to build the SQL statements above\n",
    "# results = session.query(steam_twitch_agg).\\\n",
    "#     join(steam_tags).\\\n",
    "#         filter(steam_tags.tag.in_(shared_tags)).\\\n",
    "#             group_by(steam_twitch_agg.app_id).\\\n",
    "#                 having(func.count(steam_twitch_agg.app_id) >= 4).all()"
   ]
  },
  {
   "cell_type": "markdown",
   "metadata": {},
   "source": [
    "# Save dataframes for visualzation exploration"
   ]
  },
  {
   "cell_type": "code",
   "execution_count": 42,
   "metadata": {},
   "outputs": [
    {
     "data": {
      "text/plain": [
       "['index',\n",
       " 'app_id',\n",
       " 'title',\n",
       " 'avg_hours_streamed',\n",
       " 'reviews_total',\n",
       " 'review_avg_percent',\n",
       " 'avg_hours_watched',\n",
       " 'avg_streamers',\n",
       " 'avg_viewers',\n",
       " 'avg_channels',\n",
       " 'release_date',\n",
       " 'launch_price_cents',\n",
       " 'dataset_est_rev_cents']"
      ]
     },
     "execution_count": 42,
     "metadata": {},
     "output_type": "execute_result"
    }
   ],
   "source": [
    "statement = text(\"PRAGMA table_info(steam_twitch_agg);\")\n",
    "result = session.execute(statement).all()\n",
    "columns = [val[1] for val in result]\n",
    "columns"
   ]
  },
  {
   "cell_type": "code",
   "execution_count": 46,
   "metadata": {},
   "outputs": [
    {
     "data": {
      "text/html": [
       "<div>\n",
       "<style scoped>\n",
       "    .dataframe tbody tr th:only-of-type {\n",
       "        vertical-align: middle;\n",
       "    }\n",
       "\n",
       "    .dataframe tbody tr th {\n",
       "        vertical-align: top;\n",
       "    }\n",
       "\n",
       "    .dataframe thead th {\n",
       "        text-align: right;\n",
       "    }\n",
       "</style>\n",
       "<table border=\"1\" class=\"dataframe\">\n",
       "  <thead>\n",
       "    <tr style=\"text-align: right;\">\n",
       "      <th></th>\n",
       "      <th>index</th>\n",
       "      <th>app_id</th>\n",
       "      <th>title</th>\n",
       "      <th>avg_hours_streamed</th>\n",
       "      <th>reviews_total</th>\n",
       "      <th>review_avg_percent</th>\n",
       "      <th>avg_hours_watched</th>\n",
       "      <th>avg_streamers</th>\n",
       "      <th>avg_viewers</th>\n",
       "      <th>avg_channels</th>\n",
       "      <th>release_date</th>\n",
       "      <th>launch_price_cents</th>\n",
       "      <th>dataset_est_rev_cents</th>\n",
       "    </tr>\n",
       "  </thead>\n",
       "  <tbody>\n",
       "    <tr>\n",
       "      <th>0</th>\n",
       "      <td>302</td>\n",
       "      <td>271590</td>\n",
       "      <td>Grand Theft Auto V</td>\n",
       "      <td>1123643</td>\n",
       "      <td>1322782</td>\n",
       "      <td>89.85</td>\n",
       "      <td>64115728</td>\n",
       "      <td>126038</td>\n",
       "      <td>87926</td>\n",
       "      <td>1539</td>\n",
       "      <td>2015-04-13</td>\n",
       "      <td>2999</td>\n",
       "      <td>3967023218</td>\n",
       "    </tr>\n",
       "    <tr>\n",
       "      <th>1</th>\n",
       "      <td>128</td>\n",
       "      <td>730</td>\n",
       "      <td>Counter-Strike: Global Offensive</td>\n",
       "      <td>906847</td>\n",
       "      <td>7382695</td>\n",
       "      <td>88.00</td>\n",
       "      <td>48489362</td>\n",
       "      <td>123006</td>\n",
       "      <td>66604</td>\n",
       "      <td>1243</td>\n",
       "      <td>2012-08-21</td>\n",
       "      <td>1499</td>\n",
       "      <td>11066659805</td>\n",
       "    </tr>\n",
       "    <tr>\n",
       "      <th>2</th>\n",
       "      <td>163</td>\n",
       "      <td>381210</td>\n",
       "      <td>Dead by Daylight</td>\n",
       "      <td>738369</td>\n",
       "      <td>486959</td>\n",
       "      <td>80.00</td>\n",
       "      <td>13545274</td>\n",
       "      <td>68595</td>\n",
       "      <td>18559</td>\n",
       "      <td>1011</td>\n",
       "      <td>2016-06-14</td>\n",
       "      <td>1999</td>\n",
       "      <td>973431041</td>\n",
       "    </tr>\n",
       "  </tbody>\n",
       "</table>\n",
       "</div>"
      ],
      "text/plain": [
       "   index  app_id                             title  avg_hours_streamed  \\\n",
       "0    302  271590                Grand Theft Auto V             1123643   \n",
       "1    128     730  Counter-Strike: Global Offensive              906847   \n",
       "2    163  381210                  Dead by Daylight              738369   \n",
       "\n",
       "   reviews_total  review_avg_percent  avg_hours_watched  avg_streamers  \\\n",
       "0        1322782               89.85           64115728         126038   \n",
       "1        7382695               88.00           48489362         123006   \n",
       "2         486959               80.00           13545274          68595   \n",
       "\n",
       "   avg_viewers  avg_channels release_date  launch_price_cents  \\\n",
       "0        87926          1539   2015-04-13                2999   \n",
       "1        66604          1243   2012-08-21                1499   \n",
       "2        18559          1011   2016-06-14                1999   \n",
       "\n",
       "   dataset_est_rev_cents  \n",
       "0             3967023218  \n",
       "1            11066659805  \n",
       "2              973431041  "
      ]
     },
     "execution_count": 46,
     "metadata": {},
     "output_type": "execute_result"
    }
   ],
   "source": [
    "sharing_4_tags_df = pd.DataFrame(games_sharing_4_tags, columns=columns)\n",
    "sharing_4_tags_df.head(3)"
   ]
  },
  {
   "cell_type": "code",
   "execution_count": 45,
   "metadata": {},
   "outputs": [
    {
     "data": {
      "text/html": [
       "<div>\n",
       "<style scoped>\n",
       "    .dataframe tbody tr th:only-of-type {\n",
       "        vertical-align: middle;\n",
       "    }\n",
       "\n",
       "    .dataframe tbody tr th {\n",
       "        vertical-align: top;\n",
       "    }\n",
       "\n",
       "    .dataframe thead th {\n",
       "        text-align: right;\n",
       "    }\n",
       "</style>\n",
       "<table border=\"1\" class=\"dataframe\">\n",
       "  <thead>\n",
       "    <tr style=\"text-align: right;\">\n",
       "      <th></th>\n",
       "      <th>index</th>\n",
       "      <th>app_id</th>\n",
       "      <th>title</th>\n",
       "      <th>avg_hours_streamed</th>\n",
       "      <th>reviews_total</th>\n",
       "      <th>review_avg_percent</th>\n",
       "      <th>avg_hours_watched</th>\n",
       "      <th>avg_streamers</th>\n",
       "      <th>avg_viewers</th>\n",
       "      <th>avg_channels</th>\n",
       "      <th>release_date</th>\n",
       "      <th>launch_price_cents</th>\n",
       "      <th>dataset_est_rev_cents</th>\n",
       "    </tr>\n",
       "  </thead>\n",
       "  <tbody>\n",
       "    <tr>\n",
       "      <th>0</th>\n",
       "      <td>569</td>\n",
       "      <td>1174180</td>\n",
       "      <td>Red Dead Redemption 2</td>\n",
       "      <td>236684</td>\n",
       "      <td>394937</td>\n",
       "      <td>90.0</td>\n",
       "      <td>3104279</td>\n",
       "      <td>30149</td>\n",
       "      <td>4253</td>\n",
       "      <td>324</td>\n",
       "      <td>2019-12-05</td>\n",
       "      <td>5999</td>\n",
       "      <td>2369227063</td>\n",
       "    </tr>\n",
       "    <tr>\n",
       "      <th>1</th>\n",
       "      <td>90</td>\n",
       "      <td>397540</td>\n",
       "      <td>Borderlands 3</td>\n",
       "      <td>128000</td>\n",
       "      <td>93999</td>\n",
       "      <td>85.0</td>\n",
       "      <td>2058405</td>\n",
       "      <td>14685</td>\n",
       "      <td>2839</td>\n",
       "      <td>175</td>\n",
       "      <td>2020-03-13</td>\n",
       "      <td>7999</td>\n",
       "      <td>751898001</td>\n",
       "    </tr>\n",
       "    <tr>\n",
       "      <th>2</th>\n",
       "      <td>352</td>\n",
       "      <td>594650</td>\n",
       "      <td>Hunt: Showdown</td>\n",
       "      <td>117086</td>\n",
       "      <td>133530</td>\n",
       "      <td>83.0</td>\n",
       "      <td>2149006</td>\n",
       "      <td>10008</td>\n",
       "      <td>2959</td>\n",
       "      <td>160</td>\n",
       "      <td>2019-08-27</td>\n",
       "      <td>3999</td>\n",
       "      <td>533986470</td>\n",
       "    </tr>\n",
       "  </tbody>\n",
       "</table>\n",
       "</div>"
      ],
      "text/plain": [
       "   index   app_id                  title  avg_hours_streamed  reviews_total  \\\n",
       "0    569  1174180  Red Dead Redemption 2              236684         394937   \n",
       "1     90   397540          Borderlands 3              128000          93999   \n",
       "2    352   594650         Hunt: Showdown              117086         133530   \n",
       "\n",
       "   review_avg_percent  avg_hours_watched  avg_streamers  avg_viewers  \\\n",
       "0                90.0            3104279          30149         4253   \n",
       "1                85.0            2058405          14685         2839   \n",
       "2                83.0            2149006          10008         2959   \n",
       "\n",
       "   avg_channels release_date  launch_price_cents  dataset_est_rev_cents  \n",
       "0           324   2019-12-05                5999             2369227063  \n",
       "1           175   2020-03-13                7999              751898001  \n",
       "2           160   2019-08-27                3999              533986470  "
      ]
     },
     "execution_count": 45,
     "metadata": {},
     "output_type": "execute_result"
    }
   ],
   "source": [
    "sharing_5_tags_df = pd.DataFrame(games_sharing_5_tags, columns=columns)\n",
    "sharing_5_tags_df.head(3)"
   ]
  },
  {
   "cell_type": "code",
   "execution_count": 47,
   "metadata": {},
   "outputs": [],
   "source": [
    "sharing_5_tags_df.to_csv(f'{resources_path}/Hunt-HD_gte5_tags_shared.csv', index=False)\n",
    "sharing_4_tags_df.to_csv(f'{resources_path}/Hunt-HD_gte4_tags_shared.csv', index=False)"
   ]
  },
  {
   "cell_type": "markdown",
   "metadata": {},
   "source": [
    "# Close session"
   ]
  },
  {
   "cell_type": "code",
   "execution_count": 48,
   "metadata": {},
   "outputs": [],
   "source": [
    "session.close()"
   ]
  },
  {
   "cell_type": "code",
   "execution_count": null,
   "metadata": {},
   "outputs": [],
   "source": []
  }
 ],
 "metadata": {
  "kernelspec": {
   "display_name": ".venv",
   "language": "python",
   "name": "python3"
  },
  "language_info": {
   "codemirror_mode": {
    "name": "ipython",
    "version": 3
   },
   "file_extension": ".py",
   "mimetype": "text/x-python",
   "name": "python",
   "nbconvert_exporter": "python",
   "pygments_lexer": "ipython3",
   "version": "3.12.4"
  }
 },
 "nbformat": 4,
 "nbformat_minor": 2
}
