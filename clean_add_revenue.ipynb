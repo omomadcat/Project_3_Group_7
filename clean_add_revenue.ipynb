{
 "cells": [
  {
   "cell_type": "code",
   "execution_count": 1,
   "metadata": {},
   "outputs": [],
   "source": [
    "import pandas as pd"
   ]
  },
  {
   "cell_type": "code",
   "execution_count": 2,
   "metadata": {},
   "outputs": [],
   "source": [
    "data = pd.read_csv('Raw Data/GAME DATA.csv')"
   ]
  },
  {
   "cell_type": "markdown",
   "metadata": {},
   "source": [
    "# Clean Data"
   ]
  },
  {
   "cell_type": "markdown",
   "metadata": {},
   "source": [
    "## Count nulls per column"
   ]
  },
  {
   "cell_type": "code",
   "execution_count": 3,
   "metadata": {},
   "outputs": [
    {
     "data": {
      "text/plain": [
       "(65111, 14)"
      ]
     },
     "execution_count": 3,
     "metadata": {},
     "output_type": "execute_result"
    }
   ],
   "source": [
    "data.shape"
   ]
  },
  {
   "cell_type": "code",
   "execution_count": 4,
   "metadata": {},
   "outputs": [
    {
     "data": {
      "text/plain": [
       "App ID                     0\n",
       "Title                      0\n",
       "Reviews Total              0\n",
       "Reviews Score Fancy        0\n",
       "Release Date               0\n",
       "Reviews D7             65111\n",
       "Reviews D30            65111\n",
       "Reviews D90            65111\n",
       "Launch Price               0\n",
       "Tags                       0\n",
       "name_slug              65111\n",
       "Revenue Estimated          0\n",
       "Modified Tags              0\n",
       "Steam Page                 0\n",
       "dtype: int64"
      ]
     },
     "execution_count": 4,
     "metadata": {},
     "output_type": "execute_result"
    }
   ],
   "source": [
    "data.isna().sum()"
   ]
  },
  {
   "cell_type": "markdown",
   "metadata": {},
   "source": [
    "## Drop empty columns"
   ]
  },
  {
   "cell_type": "code",
   "execution_count": 5,
   "metadata": {},
   "outputs": [],
   "source": [
    "data = data.drop([\"Reviews D7\",\"Reviews D30\",\"Reviews D90\",\"name_slug\", \"Steam Page\"], axis=1)"
   ]
  },
  {
   "cell_type": "code",
   "execution_count": 6,
   "metadata": {},
   "outputs": [
    {
     "data": {
      "text/plain": [
       "Index(['App ID', 'Title', 'Reviews Total', 'Reviews Score Fancy',\n",
       "       'Release Date', 'Launch Price', 'Tags', 'Revenue Estimated',\n",
       "       'Modified Tags'],\n",
       "      dtype='object')"
      ]
     },
     "execution_count": 6,
     "metadata": {},
     "output_type": "execute_result"
    }
   ],
   "source": [
    "data.columns"
   ]
  },
  {
   "cell_type": "markdown",
   "metadata": {},
   "source": [
    "# Clean column names"
   ]
  },
  {
   "cell_type": "code",
   "execution_count": 7,
   "metadata": {},
   "outputs": [],
   "source": [
    "data.rename(columns= {'App ID': \"app_id\", \n",
    "                    'Title': \"title\", \n",
    "                    'Reviews Total': \"reviews_total\", \n",
    "                    'Reviews Score Fancy': \"reviews_score_fancy\",\n",
    "                    'Release Date': \"release_date\", \n",
    "                    'Launch Price': \"launch_price\", \n",
    "                    'Tags' : 'tags',\n",
    "                    'Revenue Estimated': \"revenue_estimated_dataset\",\n",
    "                    'Modified Tags': \"modified_tags\"\n",
    "}, inplace=True)\n"
   ]
  },
  {
   "cell_type": "markdown",
   "metadata": {},
   "source": [
    "## Drop columns with not enough review data\n",
    "\n",
    "### Review threshold justification:\n",
    "\n",
    "The dataset will be joined with games that have reached top 200 twtich viewership since 2016. \n",
    "\n",
    "Games will less than 500 reviews are not expected to have reached top 200 twitch viewrship"
   ]
  },
  {
   "cell_type": "code",
   "execution_count": 8,
   "metadata": {},
   "outputs": [
    {
     "name": "stdout",
     "output_type": "stream",
     "text": [
      "(6557, 9)\n"
     ]
    },
    {
     "data": {
      "text/html": [
       "<div>\n",
       "<style scoped>\n",
       "    .dataframe tbody tr th:only-of-type {\n",
       "        vertical-align: middle;\n",
       "    }\n",
       "\n",
       "    .dataframe tbody tr th {\n",
       "        vertical-align: top;\n",
       "    }\n",
       "\n",
       "    .dataframe thead th {\n",
       "        text-align: right;\n",
       "    }\n",
       "</style>\n",
       "<table border=\"1\" class=\"dataframe\">\n",
       "  <thead>\n",
       "    <tr style=\"text-align: right;\">\n",
       "      <th></th>\n",
       "      <th>app_id</th>\n",
       "      <th>title</th>\n",
       "      <th>reviews_total</th>\n",
       "      <th>reviews_score_fancy</th>\n",
       "      <th>release_date</th>\n",
       "      <th>launch_price</th>\n",
       "      <th>tags</th>\n",
       "      <th>revenue_estimated_dataset</th>\n",
       "      <th>modified_tags</th>\n",
       "    </tr>\n",
       "  </thead>\n",
       "  <tbody>\n",
       "    <tr>\n",
       "      <th>6554</th>\n",
       "      <td>403950</td>\n",
       "      <td>Conquest of Elysium 4</td>\n",
       "      <td>500</td>\n",
       "      <td>89%</td>\n",
       "      <td>2015-11-16</td>\n",
       "      <td>$24,99</td>\n",
       "      <td>Strategy, Indie, Turn Based, Fantasy, Turn Bas...</td>\n",
       "      <td>$12 495,00</td>\n",
       "      <td>Strategy_, Indie_, Turn Based_, Fantasy_, Turn...</td>\n",
       "    </tr>\n",
       "    <tr>\n",
       "      <th>6555</th>\n",
       "      <td>1604380</td>\n",
       "      <td>Hamidashi Creative</td>\n",
       "      <td>500</td>\n",
       "      <td>97%</td>\n",
       "      <td>2022-09-30</td>\n",
       "      <td>$29,99</td>\n",
       "      <td>Adventure, Casual, Visual Novel, Sexual Conten...</td>\n",
       "      <td>$14 995,00</td>\n",
       "      <td>Adventure_, Casual_, Visual Novel_, Sexual Con...</td>\n",
       "    </tr>\n",
       "    <tr>\n",
       "      <th>6556</th>\n",
       "      <td>567670</td>\n",
       "      <td>Serious Sam 3 VR: BFE</td>\n",
       "      <td>500</td>\n",
       "      <td>86%</td>\n",
       "      <td>2017-11-09</td>\n",
       "      <td>$39,99</td>\n",
       "      <td>Action, Indie, VR, Gore, FPS, First Person</td>\n",
       "      <td>$19 995,00</td>\n",
       "      <td>Action_, Indie_, VR_, Gore_, FPS_, First Person_</td>\n",
       "    </tr>\n",
       "  </tbody>\n",
       "</table>\n",
       "</div>"
      ],
      "text/plain": [
       "       app_id                  title  reviews_total reviews_score_fancy  \\\n",
       "6554   403950  Conquest of Elysium 4            500                 89%   \n",
       "6555  1604380     Hamidashi Creative            500                 97%   \n",
       "6556   567670  Serious Sam 3 VR: BFE            500                 86%   \n",
       "\n",
       "     release_date launch_price  \\\n",
       "6554   2015-11-16       $24,99   \n",
       "6555   2022-09-30       $29,99   \n",
       "6556   2017-11-09       $39,99   \n",
       "\n",
       "                                                   tags  \\\n",
       "6554  Strategy, Indie, Turn Based, Fantasy, Turn Bas...   \n",
       "6555  Adventure, Casual, Visual Novel, Sexual Conten...   \n",
       "6556         Action, Indie, VR, Gore, FPS, First Person   \n",
       "\n",
       "     revenue_estimated_dataset  \\\n",
       "6554                $12 495,00   \n",
       "6555                $14 995,00   \n",
       "6556                $19 995,00   \n",
       "\n",
       "                                          modified_tags  \n",
       "6554  Strategy_, Indie_, Turn Based_, Fantasy_, Turn...  \n",
       "6555  Adventure_, Casual_, Visual Novel_, Sexual Con...  \n",
       "6556   Action_, Indie_, VR_, Gore_, FPS_, First Person_  "
      ]
     },
     "execution_count": 8,
     "metadata": {},
     "output_type": "execute_result"
    }
   ],
   "source": [
    "review_threshold = 500\n",
    "drop_lt_5000_reviews = data[data['reviews_total'] >= review_threshold]\n",
    "print(drop_lt_5000_reviews.shape)\n",
    "drop_lt_5000_reviews.tail(3)"
   ]
  },
  {
   "cell_type": "markdown",
   "metadata": {},
   "source": [
    "## Clean column datatypes"
   ]
  },
  {
   "cell_type": "code",
   "execution_count": 9,
   "metadata": {},
   "outputs": [
    {
     "name": "stdout",
     "output_type": "stream",
     "text": [
      "<class 'pandas.core.frame.DataFrame'>\n",
      "Index: 6557 entries, 0 to 6556\n",
      "Data columns (total 9 columns):\n",
      " #   Column                     Non-Null Count  Dtype \n",
      "---  ------                     --------------  ----- \n",
      " 0   app_id                     6557 non-null   int64 \n",
      " 1   title                      6557 non-null   object\n",
      " 2   reviews_total              6557 non-null   int64 \n",
      " 3   reviews_score_fancy        6557 non-null   object\n",
      " 4   release_date               6557 non-null   object\n",
      " 5   launch_price               6557 non-null   object\n",
      " 6   tags                       6557 non-null   object\n",
      " 7   revenue_estimated_dataset  6557 non-null   object\n",
      " 8   modified_tags              6557 non-null   object\n",
      "dtypes: int64(2), object(7)\n",
      "memory usage: 512.3+ KB\n"
     ]
    }
   ],
   "source": [
    "drop_lt_5000_reviews.info()"
   ]
  },
  {
   "cell_type": "code",
   "execution_count": null,
   "metadata": {},
   "outputs": [],
   "source": []
  },
  {
   "cell_type": "markdown",
   "metadata": {},
   "source": [
    "\n",
    "Revenue estimationg will be done through the following formula:\n",
    "\n",
    "review_total * launch price * conversion_coefficent = total_revenue\n",
    "\n",
    "### Conversion coefficent justification:\n",
    "\n",
    "The conversion coeffecient changes from year to year. The VG insights article contains 2013-2021 information. A dataframe is made to contain the conversion coeffecient information.\n",
    "When doing a visualization or comparison the most recent year of coefficent should be used. \n",
    "\n",
    "32 will be used as it is the coefficent for the current year. This provides a static estimate to prevent confusion when comparing between years and visualizations.\n",
    "\n",
    "#### Sources\n",
    "Article Title| Source with hyperlink\n",
    "---|---\n",
    "How to Estimate Steam Video Game Sales?|[VG Insights](https://vginsights.com/insights/article/how-to-estimate-steam-video-game-sales)\n",
    "What 'Steam review count' tells us about your game| [GameDiscoverCo newsletter](https://newsletter.gamediscover.co/p/what-steam-review-count-tells-us)\n",
    "How that game sold on Steam, using the 'NB number'.|[GameDiscoverCo newsletter](https://newsletter.gamediscover.co/p/how-that-game-sold-on-steam-using)"
   ]
  }
 ],
 "metadata": {
  "kernelspec": {
   "display_name": ".venv",
   "language": "python",
   "name": "python3"
  },
  "language_info": {
   "codemirror_mode": {
    "name": "ipython",
    "version": 3
   },
   "file_extension": ".py",
   "mimetype": "text/x-python",
   "name": "python",
   "nbconvert_exporter": "python",
   "pygments_lexer": "ipython3",
   "version": "3.12.4"
  }
 },
 "nbformat": 4,
 "nbformat_minor": 2
}
