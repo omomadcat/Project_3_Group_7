{
 "cells": [
  {
   "cell_type": "code",
   "execution_count": 1,
   "metadata": {},
   "outputs": [],
   "source": [
    "import pandas as pd\n",
    "rev_conv_coeff = 32\n",
    "\n",
    "clean_data = pd.read_csv('Resources/clean_steam_dtypes.csv')"
   ]
  },
  {
   "cell_type": "markdown",
   "metadata": {},
   "source": [
    "# Estimating Revenue\n",
    "Revenue estimationg will be done through the following formula:\n",
    "\n",
    "review_total * launch price * review_coefficent = total_revenue\n",
    "\n",
    "Revenue exists in the dataset, there it is estimated as:\n",
    "\n",
    "review_total * launch price * review_coefficent * sales_price_coefficent = total_revenue\n",
    "\n",
    "### Conversion coefficent justification:\n",
    "\n",
    "The conversion coeffecient changes from year to year. The VG insights article contains 2013-2021 information. A dataframe is made to contain the conversion coeffecient information.\n",
    "When doing a visualization or comparison the most recent year of coefficent should be used. \n",
    "\n",
    "32 will be used as it is the coefficent for the current year. This provides a static estimate to prevent confusion when comparing between years and visualizations.\n",
    "\n",
    "#### Sources\n",
    "Article Title| Source with hyperlink\n",
    "---|---\n",
    "How to Estimate Steam Video Game Sales?|[VG Insights](https://vginsights.com/insights/article/how-to-estimate-steam-video-game-sales)\n",
    "What 'Steam review count' tells us about your game| [GameDiscoverCo newsletter](https://newsletter.gamediscover.co/p/what-steam-review-count-tells-us)\n",
    "How that game sold on Steam, using the 'NB number'.|[GameDiscoverCo newsletter](https://newsletter.gamediscover.co/p/how-that-game-sold-on-steam-using)"
   ]
  },
  {
   "cell_type": "code",
   "execution_count": 2,
   "metadata": {},
   "outputs": [
    {
     "data": {
      "text/plain": [
       "year          0\n",
       "coefficent    0\n",
       "dtype: int64"
      ]
     },
     "execution_count": 2,
     "metadata": {},
     "output_type": "execute_result"
    }
   ],
   "source": [
    "# From VG Insights article, avg conversion coefficent, purchases per steam review.\n",
    "rev_coeff_df = pd.DataFrame({\n",
    "    'year': [2013, 2014, 2015, 2016, 2017, 2018, 2019, 2020, 2021],\n",
    "    'coefficent': [79, 72, 62, 52, 43, 38, 36, 31, 31]\n",
    "})\n",
    "# Check they are the same size lists, bc manual input\n",
    "rev_coeff_df.isna().sum()"
   ]
  },
  {
   "cell_type": "code",
   "execution_count": 3,
   "metadata": {},
   "outputs": [
    {
     "ename": "NameError",
     "evalue": "name 'sales_price_coefficent' is not defined",
     "output_type": "error",
     "traceback": [
      "\u001b[0;31m---------------------------------------------------------------------------\u001b[0m",
      "\u001b[0;31mNameError\u001b[0m                                 Traceback (most recent call last)",
      "Cell \u001b[0;32mIn[3], line 2\u001b[0m\n\u001b[1;32m      1\u001b[0m estimate_reviews \u001b[38;5;241m=\u001b[39m clean_data\u001b[38;5;241m.\u001b[39mcopy()\n\u001b[0;32m----> 2\u001b[0m estimate_reviews[\u001b[38;5;124m\"\u001b[39m\u001b[38;5;124mUCBExt_estimated_revenue\u001b[39m\u001b[38;5;124m\"\u001b[39m] \u001b[38;5;241m=\u001b[39m estimate_reviews[\u001b[38;5;124m'\u001b[39m\u001b[38;5;124mlaunch_price_cents\u001b[39m\u001b[38;5;124m'\u001b[39m] \u001b[38;5;241m*\u001b[39m estimate_reviews[\u001b[38;5;124m'\u001b[39m\u001b[38;5;124mreviews_total\u001b[39m\u001b[38;5;124m'\u001b[39m] \u001b[38;5;241m*\u001b[39m rev_conv_coeff \u001b[38;5;241m*\u001b[39m \u001b[43msales_price_coefficent\u001b[49m\n",
      "\u001b[0;31mNameError\u001b[0m: name 'sales_price_coefficent' is not defined"
     ]
    }
   ],
   "source": [
    "estimate_reviews = clean_data.copy()\n",
    "estimate_reviews[\"UCBExt_estimated_revenue\"] = estimate_reviews['launch_price_cents'] * estimate_reviews['reviews_total'] * rev_conv_coeff * sales_price_coefficent\n"
   ]
  },
  {
   "cell_type": "markdown",
   "metadata": {},
   "source": [
    "# The dataset does not have sales_price_coefficent\n",
    "\n",
    "Revnue information is hidden from downloading\n",
    "\n",
    "Pivoting project to review and twitch only\n",
    "\n",
    "This restricts scope and it will be easier to hit a 10 minute presentation"
   ]
  },
  {
   "cell_type": "markdown",
   "metadata": {},
   "source": []
  }
 ],
 "metadata": {
  "kernelspec": {
   "display_name": ".venv",
   "language": "python",
   "name": "python3"
  },
  "language_info": {
   "codemirror_mode": {
    "name": "ipython",
    "version": 3
   },
   "file_extension": ".py",
   "mimetype": "text/x-python",
   "name": "python",
   "nbconvert_exporter": "python",
   "pygments_lexer": "ipython3",
   "version": "3.12.4"
  }
 },
 "nbformat": 4,
 "nbformat_minor": 2
}
