{
 "cells": [
  {
   "cell_type": "code",
   "execution_count": 1,
   "metadata": {},
   "outputs": [],
   "source": [
    "import pathlib\n",
    "import sqlalchemy\n",
    "from sqlalchemy.ext.declarative import declarative_base\n",
    "from sqlalchemy import Column, Integer, Float, String, Date\n",
    "from sqlalchemy.orm import Session\n",
    "from sqlalchemy import inspect, func"
   ]
  },
  {
   "cell_type": "markdown",
   "metadata": {},
   "source": [
    "# Create path object using pathlib\n",
    "This will ensure this file will run for everyone regardless of os\n",
    "This group contains folks running on mac, windows, and linux.    "
   ]
  },
  {
   "cell_type": "code",
   "execution_count": 2,
   "metadata": {},
   "outputs": [
    {
     "name": "stdout",
     "output_type": "stream",
     "text": [
      "Path is project root\n"
     ]
    }
   ],
   "source": [
    "cwd = pathlib.Path.cwd()\n",
    "\n",
    "if cwd.name == 'Project_3_Group_7':\n",
    "    print(\"Path is project root\")\n",
    "else:\n",
    "    print(\"Please correct current working directory to the project root\")"
   ]
  },
  {
   "cell_type": "code",
   "execution_count": 3,
   "metadata": {},
   "outputs": [
    {
     "data": {
      "text/plain": [
       "PurePosixPath('/home/mox/Documents/coding_projects/bootcamp_local/Homeworks/Project_3_Group_7/Resources')"
      ]
     },
     "execution_count": 3,
     "metadata": {},
     "output_type": "execute_result"
    }
   ],
   "source": [
    "resources_path = pathlib.PurePath(cwd, 'Resources')\n",
    "resources_path"
   ]
  },
  {
   "cell_type": "markdown",
   "metadata": {},
   "source": [
    "# Create the db session\n",
    "Can not use automap_base because primary key is a composite key \n",
    "\n",
    "https://python-code.dev/articles/132521261"
   ]
  },
  {
   "cell_type": "code",
   "execution_count": 4,
   "metadata": {},
   "outputs": [
    {
     "name": "stderr",
     "output_type": "stream",
     "text": [
      "/tmp/ipykernel_19701/3378198577.py:2: MovedIn20Warning: The ``declarative_base()`` function is now available as sqlalchemy.orm.declarative_base(). (deprecated since: 2.0) (Background on SQLAlchemy 2.0 at: https://sqlalche.me/e/b8d9)\n",
      "  Base = declarative_base()\n"
     ]
    }
   ],
   "source": [
    "engine = sqlalchemy.create_engine(f'sqlite:///{resources_path}/data.sqlite')\n",
    "Base = declarative_base()"
   ]
  },
  {
   "cell_type": "code",
   "execution_count": 5,
   "metadata": {},
   "outputs": [
    {
     "data": {
      "text/plain": [
       "['steam_twitch_agg', 'tags', 'twitch_monthly']"
      ]
     },
     "execution_count": 5,
     "metadata": {},
     "output_type": "execute_result"
    }
   ],
   "source": [
    "inspector = inspect(engine)\n",
    "tables = inspector.get_table_names()\n",
    "tables"
   ]
  },
  {
   "cell_type": "code",
   "execution_count": 6,
   "metadata": {},
   "outputs": [],
   "source": [
    "steam_twitch_tags_table = tables[0]\n",
    "tags_table = tables[1]\n",
    "twitch_monthly_table = tables[2]"
   ]
  },
  {
   "cell_type": "code",
   "execution_count": 7,
   "metadata": {
    "notebookRunGroups": {
     "groupValue": "2"
    }
   },
   "outputs": [],
   "source": [
    "class steam_twitch_agg(Base):\n",
    "    __tablename__ = steam_twitch_tags_table\n",
    "    # https://stackoverflow.com/questions/19129289/how-to-define-composite-primary-key-in-sqlalchemy\n",
    "    # indicates that this syntax should make a composite primary key\n",
    "    app_id = Column(Integer, primary_key=True)\n",
    "    tag = Column(String(128), primary_key=True)\n",
    "    title = Column(String(128))\n",
    "    # These two will need to be changed to Float \n",
    "    hours_watched = Column(Float)\n",
    "    hours_streamed = Column(Float)\n",
    "    average_streamers = Column(Integer)\n",
    "    average_viewers = Column(Integer)\n",
    "    average_channels = Column(Integer)\n",
    "    release_date = Column(Date)\n",
    "    reviews_total = Column(Integer)\n",
    "    review_avg_percent = Column(Integer)\n",
    "    launch_price_cents = Column(Integer)\n",
    "    dataset_est_rev_cents = Column(Integer)\n",
    "\n",
    "class twitch_monthly(Base):\n",
    "    __tablename__ = twitch_monthly_table\n",
    "    app_id = Column(Integer, primary_key=True)\n",
    "    title = Column(String(128))\n",
    "    rank = Column(Integer)\n",
    "    month = Column(Integer, primary_key=True)\n",
    "    year = Column(Integer, primary_key=True)\n",
    "    hours_watched = Column(Integer)\n",
    "    hours_streamed = Column(Integer)\n",
    "    peak_viewers = Column(Integer)\n",
    "    peak_channels = Column(Integer)\n",
    "    streamers = Column(Integer)\n",
    "    average_viewers = Column(Integer)\n",
    "    average_channels = Column(Integer)\n",
    "\n",
    "class steam_tags(Base):\n",
    "    __tablename__ = tags_table\n",
    "    app_id = Column(Integer, primary_key=True)\n",
    "    tag = Column(String(128), primary_key=True)"
   ]
  },
  {
   "cell_type": "code",
   "execution_count": 8,
   "metadata": {},
   "outputs": [],
   "source": [
    "Base.metadata.create_all(engine)"
   ]
  },
  {
   "cell_type": "code",
   "execution_count": 9,
   "metadata": {},
   "outputs": [],
   "source": [
    "session = Session(bind= engine)"
   ]
  },
  {
   "cell_type": "markdown",
   "metadata": {},
   "source": [
    "# Example Queries"
   ]
  },
  {
   "cell_type": "code",
   "execution_count": 10,
   "metadata": {},
   "outputs": [
    {
     "data": {
      "text/plain": [
       "[(862,)]"
      ]
     },
     "execution_count": 10,
     "metadata": {},
     "output_type": "execute_result"
    }
   ],
   "source": [
    "session.query(func.count(steam_twitch_agg.app_id)).all()"
   ]
  },
  {
   "cell_type": "code",
   "execution_count": 11,
   "metadata": {},
   "outputs": [
    {
     "data": {
      "text/plain": [
       "[(5497,)]"
      ]
     },
     "execution_count": 11,
     "metadata": {},
     "output_type": "execute_result"
    }
   ],
   "source": [
    "session.query(func.count(twitch_monthly.app_id)).all()"
   ]
  },
  {
   "cell_type": "code",
   "execution_count": 12,
   "metadata": {},
   "outputs": [
    {
     "data": {
      "text/plain": [
       "[(106866,)]"
      ]
     },
     "execution_count": 12,
     "metadata": {},
     "output_type": "execute_result"
    }
   ],
   "source": [
    "session.query(func.count(steam_tags.app_id)).all()"
   ]
  },
  {
   "cell_type": "markdown",
   "metadata": {},
   "source": [
    "# Close session"
   ]
  },
  {
   "cell_type": "code",
   "execution_count": 13,
   "metadata": {},
   "outputs": [],
   "source": [
    "session.close()"
   ]
  },
  {
   "cell_type": "code",
   "execution_count": null,
   "metadata": {},
   "outputs": [],
   "source": []
  }
 ],
 "metadata": {
  "kernelspec": {
   "display_name": ".venv",
   "language": "python",
   "name": "python3"
  },
  "language_info": {
   "codemirror_mode": {
    "name": "ipython",
    "version": 3
   },
   "file_extension": ".py",
   "mimetype": "text/x-python",
   "name": "python",
   "nbconvert_exporter": "python",
   "pygments_lexer": "ipython3",
   "version": "3.12.4"
  }
 },
 "nbformat": 4,
 "nbformat_minor": 2
}
