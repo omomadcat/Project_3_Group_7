{
 "cells": [
  {
   "cell_type": "code",
   "execution_count": 1,
   "metadata": {},
   "outputs": [],
   "source": [
    "import pandas as pd"
   ]
  },
  {
   "cell_type": "code",
   "execution_count": 2,
   "metadata": {},
   "outputs": [],
   "source": [
    "data = pd.read_csv('Raw Data/GAME DATA.csv')"
   ]
  },
  {
   "cell_type": "markdown",
   "metadata": {},
   "source": [
    "# Clean Data"
   ]
  },
  {
   "cell_type": "markdown",
   "metadata": {},
   "source": [
    "## Count nulls per column"
   ]
  },
  {
   "cell_type": "code",
   "execution_count": 3,
   "metadata": {},
   "outputs": [
    {
     "data": {
      "text/plain": [
       "(65111, 14)"
      ]
     },
     "execution_count": 3,
     "metadata": {},
     "output_type": "execute_result"
    }
   ],
   "source": [
    "data.shape"
   ]
  },
  {
   "cell_type": "code",
   "execution_count": 4,
   "metadata": {},
   "outputs": [
    {
     "data": {
      "text/plain": [
       "App ID                     0\n",
       "Title                      0\n",
       "Reviews Total              0\n",
       "Reviews Score Fancy        0\n",
       "Release Date               0\n",
       "Reviews D7             65111\n",
       "Reviews D30            65111\n",
       "Reviews D90            65111\n",
       "Launch Price               0\n",
       "Tags                       0\n",
       "name_slug              65111\n",
       "Revenue Estimated          0\n",
       "Modified Tags              0\n",
       "Steam Page                 0\n",
       "dtype: int64"
      ]
     },
     "execution_count": 4,
     "metadata": {},
     "output_type": "execute_result"
    }
   ],
   "source": [
    "data.isna().sum()"
   ]
  },
  {
   "cell_type": "markdown",
   "metadata": {},
   "source": [
    "## Drop empty columns"
   ]
  },
  {
   "cell_type": "code",
   "execution_count": 5,
   "metadata": {},
   "outputs": [],
   "source": [
    "data = data.drop([\"Reviews D7\",\"Reviews D30\",\"Reviews D90\",\"name_slug\", \"Steam Page\"], axis=1)"
   ]
  },
  {
   "cell_type": "code",
   "execution_count": 6,
   "metadata": {},
   "outputs": [
    {
     "data": {
      "text/plain": [
       "Index(['App ID', 'Title', 'Reviews Total', 'Reviews Score Fancy',\n",
       "       'Release Date', 'Launch Price', 'Tags', 'Revenue Estimated',\n",
       "       'Modified Tags'],\n",
       "      dtype='object')"
      ]
     },
     "execution_count": 6,
     "metadata": {},
     "output_type": "execute_result"
    }
   ],
   "source": [
    "data.columns"
   ]
  },
  {
   "cell_type": "markdown",
   "metadata": {},
   "source": [
    "# Clean column names"
   ]
  },
  {
   "cell_type": "code",
   "execution_count": 7,
   "metadata": {},
   "outputs": [],
   "source": [
    "data.rename(columns= {'App ID': \"app_id\", \n",
    "                    'Title': \"title\", \n",
    "                    'Reviews Total': \"reviews_total\", \n",
    "                    'Reviews Score Fancy': \"reviews_score_fancy\",\n",
    "                    'Release Date': \"release_date\", \n",
    "                    'Launch Price': \"launch_price_fancy\", \n",
    "                    'Tags' : 'tags',\n",
    "                    'Revenue Estimated': \"revenue_estimated_dataset\",\n",
    "                    'Modified Tags': \"modified_tags\"\n",
    "}, inplace=True)\n"
   ]
  },
  {
   "cell_type": "markdown",
   "metadata": {},
   "source": [
    "## Drop columns with not enough review data\n",
    "\n",
    "### Review threshold justification:\n",
    "\n",
    "The dataset will be joined with games that have reached top 200 twtich viewership since 2016. \n",
    "\n",
    "Games will less than 500 reviews are not expected to have reached top 200 twitch viewrship"
   ]
  },
  {
   "cell_type": "code",
   "execution_count": 8,
   "metadata": {},
   "outputs": [
    {
     "name": "stdout",
     "output_type": "stream",
     "text": [
      "(6557, 9)\n"
     ]
    },
    {
     "data": {
      "text/html": [
       "<div>\n",
       "<style scoped>\n",
       "    .dataframe tbody tr th:only-of-type {\n",
       "        vertical-align: middle;\n",
       "    }\n",
       "\n",
       "    .dataframe tbody tr th {\n",
       "        vertical-align: top;\n",
       "    }\n",
       "\n",
       "    .dataframe thead th {\n",
       "        text-align: right;\n",
       "    }\n",
       "</style>\n",
       "<table border=\"1\" class=\"dataframe\">\n",
       "  <thead>\n",
       "    <tr style=\"text-align: right;\">\n",
       "      <th></th>\n",
       "      <th>app_id</th>\n",
       "      <th>title</th>\n",
       "      <th>reviews_total</th>\n",
       "      <th>reviews_score_fancy</th>\n",
       "      <th>release_date</th>\n",
       "      <th>launch_price_fancy</th>\n",
       "      <th>tags</th>\n",
       "      <th>revenue_estimated_dataset</th>\n",
       "      <th>modified_tags</th>\n",
       "    </tr>\n",
       "  </thead>\n",
       "  <tbody>\n",
       "    <tr>\n",
       "      <th>6554</th>\n",
       "      <td>403950</td>\n",
       "      <td>Conquest of Elysium 4</td>\n",
       "      <td>500</td>\n",
       "      <td>89%</td>\n",
       "      <td>2015-11-16</td>\n",
       "      <td>$24,99</td>\n",
       "      <td>Strategy, Indie, Turn Based, Fantasy, Turn Bas...</td>\n",
       "      <td>$12 495,00</td>\n",
       "      <td>Strategy_, Indie_, Turn Based_, Fantasy_, Turn...</td>\n",
       "    </tr>\n",
       "    <tr>\n",
       "      <th>6555</th>\n",
       "      <td>1604380</td>\n",
       "      <td>Hamidashi Creative</td>\n",
       "      <td>500</td>\n",
       "      <td>97%</td>\n",
       "      <td>2022-09-30</td>\n",
       "      <td>$29,99</td>\n",
       "      <td>Adventure, Casual, Visual Novel, Sexual Conten...</td>\n",
       "      <td>$14 995,00</td>\n",
       "      <td>Adventure_, Casual_, Visual Novel_, Sexual Con...</td>\n",
       "    </tr>\n",
       "    <tr>\n",
       "      <th>6556</th>\n",
       "      <td>567670</td>\n",
       "      <td>Serious Sam 3 VR: BFE</td>\n",
       "      <td>500</td>\n",
       "      <td>86%</td>\n",
       "      <td>2017-11-09</td>\n",
       "      <td>$39,99</td>\n",
       "      <td>Action, Indie, VR, Gore, FPS, First Person</td>\n",
       "      <td>$19 995,00</td>\n",
       "      <td>Action_, Indie_, VR_, Gore_, FPS_, First Person_</td>\n",
       "    </tr>\n",
       "  </tbody>\n",
       "</table>\n",
       "</div>"
      ],
      "text/plain": [
       "       app_id                  title  reviews_total reviews_score_fancy  \\\n",
       "6554   403950  Conquest of Elysium 4            500                 89%   \n",
       "6555  1604380     Hamidashi Creative            500                 97%   \n",
       "6556   567670  Serious Sam 3 VR: BFE            500                 86%   \n",
       "\n",
       "     release_date launch_price_fancy  \\\n",
       "6554   2015-11-16             $24,99   \n",
       "6555   2022-09-30             $29,99   \n",
       "6556   2017-11-09             $39,99   \n",
       "\n",
       "                                                   tags  \\\n",
       "6554  Strategy, Indie, Turn Based, Fantasy, Turn Bas...   \n",
       "6555  Adventure, Casual, Visual Novel, Sexual Conten...   \n",
       "6556         Action, Indie, VR, Gore, FPS, First Person   \n",
       "\n",
       "     revenue_estimated_dataset  \\\n",
       "6554                $12 495,00   \n",
       "6555                $14 995,00   \n",
       "6556                $19 995,00   \n",
       "\n",
       "                                          modified_tags  \n",
       "6554  Strategy_, Indie_, Turn Based_, Fantasy_, Turn...  \n",
       "6555  Adventure_, Casual_, Visual Novel_, Sexual Con...  \n",
       "6556   Action_, Indie_, VR_, Gore_, FPS_, First Person_  "
      ]
     },
     "execution_count": 8,
     "metadata": {},
     "output_type": "execute_result"
    }
   ],
   "source": [
    "review_threshold = 500\n",
    "drop_lt_5000_reviews = data[data['reviews_total'] >= review_threshold]\n",
    "print(drop_lt_5000_reviews.shape)\n",
    "drop_lt_5000_reviews.tail(3)"
   ]
  },
  {
   "cell_type": "markdown",
   "metadata": {},
   "source": [
    "## Clean column datatypes"
   ]
  },
  {
   "cell_type": "markdown",
   "metadata": {},
   "source": [
    "### clean purchase price to numeric in cents"
   ]
  },
  {
   "cell_type": "code",
   "execution_count": 9,
   "metadata": {},
   "outputs": [
    {
     "name": "stdout",
     "output_type": "stream",
     "text": [
      "<class 'pandas.core.frame.DataFrame'>\n",
      "Index: 6557 entries, 0 to 6556\n",
      "Data columns (total 9 columns):\n",
      " #   Column                     Non-Null Count  Dtype \n",
      "---  ------                     --------------  ----- \n",
      " 0   app_id                     6557 non-null   int64 \n",
      " 1   title                      6557 non-null   object\n",
      " 2   reviews_total              6557 non-null   int64 \n",
      " 3   reviews_score_fancy        6557 non-null   object\n",
      " 4   release_date               6557 non-null   object\n",
      " 5   launch_price_fancy         6557 non-null   object\n",
      " 6   tags                       6557 non-null   object\n",
      " 7   revenue_estimated_dataset  6557 non-null   object\n",
      " 8   modified_tags              6557 non-null   object\n",
      "dtypes: int64(2), object(7)\n",
      "memory usage: 512.3+ KB\n"
     ]
    }
   ],
   "source": [
    "drop_lt_5000_reviews.info()"
   ]
  },
  {
   "cell_type": "code",
   "execution_count": 10,
   "metadata": {},
   "outputs": [],
   "source": [
    "clean_numerics = drop_lt_5000_reviews.copy()\n",
    "\n",
    "# strip all non-digit characters to get str representation of price in cents, then convert to int\n",
    "clean_numerics['launch_price_cents'] = clean_numerics['launch_price_fancy'].str.replace(r'[\\D]', '', regex=True).astype(int)"
   ]
  },
  {
   "cell_type": "code",
   "execution_count": 11,
   "metadata": {},
   "outputs": [],
   "source": [
    "clean_numerics['dataset_est_rev_cents'] = clean_numerics['revenue_estimated_dataset'].str.replace(r'[\\D]', '', regex=True).astype(int)\n"
   ]
  },
  {
   "cell_type": "code",
   "execution_count": 12,
   "metadata": {},
   "outputs": [
    {
     "data": {
      "text/html": [
       "<div>\n",
       "<style scoped>\n",
       "    .dataframe tbody tr th:only-of-type {\n",
       "        vertical-align: middle;\n",
       "    }\n",
       "\n",
       "    .dataframe tbody tr th {\n",
       "        vertical-align: top;\n",
       "    }\n",
       "\n",
       "    .dataframe thead th {\n",
       "        text-align: right;\n",
       "    }\n",
       "</style>\n",
       "<table border=\"1\" class=\"dataframe\">\n",
       "  <thead>\n",
       "    <tr style=\"text-align: right;\">\n",
       "      <th></th>\n",
       "      <th>app_id</th>\n",
       "      <th>title</th>\n",
       "      <th>reviews_total</th>\n",
       "      <th>reviews_score_fancy</th>\n",
       "      <th>release_date</th>\n",
       "      <th>launch_price_fancy</th>\n",
       "      <th>tags</th>\n",
       "      <th>revenue_estimated_dataset</th>\n",
       "      <th>modified_tags</th>\n",
       "      <th>launch_price_cents</th>\n",
       "      <th>dataset_est_rev_cents</th>\n",
       "      <th>review_avg_percent</th>\n",
       "    </tr>\n",
       "  </thead>\n",
       "  <tbody>\n",
       "  </tbody>\n",
       "</table>\n",
       "</div>"
      ],
      "text/plain": [
       "Empty DataFrame\n",
       "Columns: [app_id, title, reviews_total, reviews_score_fancy, release_date, launch_price_fancy, tags, revenue_estimated_dataset, modified_tags, launch_price_cents, dataset_est_rev_cents, review_avg_percent]\n",
       "Index: []"
      ]
     },
     "execution_count": 12,
     "metadata": {},
     "output_type": "execute_result"
    }
   ],
   "source": [
    "clean_numerics['review_avg_percent'] = clean_numerics['reviews_score_fancy'].str.replace(r'%', '').str.replace(r',', '.').astype(float)\n",
    "clean_numerics[(clean_numerics['review_avg_percent'] > 100) | (clean_numerics['review_avg_percent'] < 0)]"
   ]
  },
  {
   "cell_type": "code",
   "execution_count": 13,
   "metadata": {},
   "outputs": [
    {
     "name": "stdout",
     "output_type": "stream",
     "text": [
      "<class 'pandas.core.frame.DataFrame'>\n",
      "Index: 6557 entries, 0 to 6556\n",
      "Data columns (total 12 columns):\n",
      " #   Column                     Non-Null Count  Dtype  \n",
      "---  ------                     --------------  -----  \n",
      " 0   app_id                     6557 non-null   int64  \n",
      " 1   title                      6557 non-null   object \n",
      " 2   reviews_total              6557 non-null   int64  \n",
      " 3   reviews_score_fancy        6557 non-null   object \n",
      " 4   release_date               6557 non-null   object \n",
      " 5   launch_price_fancy         6557 non-null   object \n",
      " 6   tags                       6557 non-null   object \n",
      " 7   revenue_estimated_dataset  6557 non-null   object \n",
      " 8   modified_tags              6557 non-null   object \n",
      " 9   launch_price_cents         6557 non-null   int64  \n",
      " 10  dataset_est_rev_cents      6557 non-null   int64  \n",
      " 11  review_avg_percent         6557 non-null   float64\n",
      "dtypes: float64(1), int64(4), object(7)\n",
      "memory usage: 665.9+ KB\n"
     ]
    }
   ],
   "source": [
    "clean_numerics.info()"
   ]
  },
  {
   "cell_type": "markdown",
   "metadata": {},
   "source": [
    "### Clean launch date\n",
    "date format is string \"YYYY-MM-DD\""
   ]
  },
  {
   "cell_type": "code",
   "execution_count": 14,
   "metadata": {},
   "outputs": [
    {
     "name": "stdout",
     "output_type": "stream",
     "text": [
      "<class 'pandas.core.frame.DataFrame'>\n",
      "Index: 6557 entries, 0 to 6556\n",
      "Data columns (total 12 columns):\n",
      " #   Column                     Non-Null Count  Dtype         \n",
      "---  ------                     --------------  -----         \n",
      " 0   app_id                     6557 non-null   int64         \n",
      " 1   title                      6557 non-null   object        \n",
      " 2   reviews_total              6557 non-null   int64         \n",
      " 3   reviews_score_fancy        6557 non-null   object        \n",
      " 4   release_date               6557 non-null   datetime64[ns]\n",
      " 5   launch_price_fancy         6557 non-null   object        \n",
      " 6   tags                       6557 non-null   object        \n",
      " 7   revenue_estimated_dataset  6557 non-null   object        \n",
      " 8   modified_tags              6557 non-null   object        \n",
      " 9   launch_price_cents         6557 non-null   int64         \n",
      " 10  dataset_est_rev_cents      6557 non-null   int64         \n",
      " 11  review_avg_percent         6557 non-null   float64       \n",
      "dtypes: datetime64[ns](1), float64(1), int64(4), object(6)\n",
      "memory usage: 665.9+ KB\n"
     ]
    }
   ],
   "source": [
    "clean_dates = clean_numerics.copy()\n",
    "clean_dates['release_date'] = pd.to_datetime(clean_dates['release_date'])\n",
    "clean_dates.info()"
   ]
  },
  {
   "cell_type": "code",
   "execution_count": 15,
   "metadata": {},
   "outputs": [
    {
     "data": {
      "text/html": [
       "<div>\n",
       "<style scoped>\n",
       "    .dataframe tbody tr th:only-of-type {\n",
       "        vertical-align: middle;\n",
       "    }\n",
       "\n",
       "    .dataframe tbody tr th {\n",
       "        vertical-align: top;\n",
       "    }\n",
       "\n",
       "    .dataframe thead th {\n",
       "        text-align: right;\n",
       "    }\n",
       "</style>\n",
       "<table border=\"1\" class=\"dataframe\">\n",
       "  <thead>\n",
       "    <tr style=\"text-align: right;\">\n",
       "      <th></th>\n",
       "      <th>app_id</th>\n",
       "      <th>title</th>\n",
       "      <th>reviews_total</th>\n",
       "      <th>reviews_score_fancy</th>\n",
       "      <th>release_date</th>\n",
       "      <th>launch_price_fancy</th>\n",
       "      <th>tags</th>\n",
       "      <th>revenue_estimated_dataset</th>\n",
       "      <th>modified_tags</th>\n",
       "      <th>launch_price_cents</th>\n",
       "      <th>dataset_est_rev_cents</th>\n",
       "      <th>review_avg_percent</th>\n",
       "    </tr>\n",
       "  </thead>\n",
       "  <tbody>\n",
       "    <tr>\n",
       "      <th>6554</th>\n",
       "      <td>403950</td>\n",
       "      <td>Conquest of Elysium 4</td>\n",
       "      <td>500</td>\n",
       "      <td>89%</td>\n",
       "      <td>2015-11-16</td>\n",
       "      <td>$24,99</td>\n",
       "      <td>Strategy, Indie, Turn Based, Fantasy, Turn Bas...</td>\n",
       "      <td>$12 495,00</td>\n",
       "      <td>Strategy_, Indie_, Turn Based_, Fantasy_, Turn...</td>\n",
       "      <td>2499</td>\n",
       "      <td>1249500</td>\n",
       "      <td>89.0</td>\n",
       "    </tr>\n",
       "    <tr>\n",
       "      <th>6555</th>\n",
       "      <td>1604380</td>\n",
       "      <td>Hamidashi Creative</td>\n",
       "      <td>500</td>\n",
       "      <td>97%</td>\n",
       "      <td>2022-09-30</td>\n",
       "      <td>$29,99</td>\n",
       "      <td>Adventure, Casual, Visual Novel, Sexual Conten...</td>\n",
       "      <td>$14 995,00</td>\n",
       "      <td>Adventure_, Casual_, Visual Novel_, Sexual Con...</td>\n",
       "      <td>2999</td>\n",
       "      <td>1499500</td>\n",
       "      <td>97.0</td>\n",
       "    </tr>\n",
       "    <tr>\n",
       "      <th>6556</th>\n",
       "      <td>567670</td>\n",
       "      <td>Serious Sam 3 VR: BFE</td>\n",
       "      <td>500</td>\n",
       "      <td>86%</td>\n",
       "      <td>2017-11-09</td>\n",
       "      <td>$39,99</td>\n",
       "      <td>Action, Indie, VR, Gore, FPS, First Person</td>\n",
       "      <td>$19 995,00</td>\n",
       "      <td>Action_, Indie_, VR_, Gore_, FPS_, First Person_</td>\n",
       "      <td>3999</td>\n",
       "      <td>1999500</td>\n",
       "      <td>86.0</td>\n",
       "    </tr>\n",
       "  </tbody>\n",
       "</table>\n",
       "</div>"
      ],
      "text/plain": [
       "       app_id                  title  reviews_total reviews_score_fancy  \\\n",
       "6554   403950  Conquest of Elysium 4            500                 89%   \n",
       "6555  1604380     Hamidashi Creative            500                 97%   \n",
       "6556   567670  Serious Sam 3 VR: BFE            500                 86%   \n",
       "\n",
       "     release_date launch_price_fancy  \\\n",
       "6554   2015-11-16             $24,99   \n",
       "6555   2022-09-30             $29,99   \n",
       "6556   2017-11-09             $39,99   \n",
       "\n",
       "                                                   tags  \\\n",
       "6554  Strategy, Indie, Turn Based, Fantasy, Turn Bas...   \n",
       "6555  Adventure, Casual, Visual Novel, Sexual Conten...   \n",
       "6556         Action, Indie, VR, Gore, FPS, First Person   \n",
       "\n",
       "     revenue_estimated_dataset  \\\n",
       "6554                $12 495,00   \n",
       "6555                $14 995,00   \n",
       "6556                $19 995,00   \n",
       "\n",
       "                                          modified_tags  launch_price_cents  \\\n",
       "6554  Strategy_, Indie_, Turn Based_, Fantasy_, Turn...                2499   \n",
       "6555  Adventure_, Casual_, Visual Novel_, Sexual Con...                2999   \n",
       "6556   Action_, Indie_, VR_, Gore_, FPS_, First Person_                3999   \n",
       "\n",
       "      dataset_est_rev_cents  review_avg_percent  \n",
       "6554                1249500                89.0  \n",
       "6555                1499500                97.0  \n",
       "6556                1999500                86.0  "
      ]
     },
     "execution_count": 15,
     "metadata": {},
     "output_type": "execute_result"
    }
   ],
   "source": [
    "clean_dates.tail(3)"
   ]
  },
  {
   "cell_type": "code",
   "execution_count": 16,
   "metadata": {},
   "outputs": [],
   "source": [
    "clean_steam_df = clean_dates.copy()"
   ]
  },
  {
   "cell_type": "markdown",
   "metadata": {},
   "source": [
    "# Make 1 to many tag csv\n",
    "\n",
    "app_id foriegn key from clean_steam_data to many tags "
   ]
  },
  {
   "cell_type": "code",
   "execution_count": 17,
   "metadata": {},
   "outputs": [
    {
     "data": {
      "text/html": [
       "<div>\n",
       "<style scoped>\n",
       "    .dataframe tbody tr th:only-of-type {\n",
       "        vertical-align: middle;\n",
       "    }\n",
       "\n",
       "    .dataframe tbody tr th {\n",
       "        vertical-align: top;\n",
       "    }\n",
       "\n",
       "    .dataframe thead th {\n",
       "        text-align: right;\n",
       "    }\n",
       "</style>\n",
       "<table border=\"1\" class=\"dataframe\">\n",
       "  <thead>\n",
       "    <tr style=\"text-align: right;\">\n",
       "      <th></th>\n",
       "      <th>app_id</th>\n",
       "      <th>tags</th>\n",
       "    </tr>\n",
       "  </thead>\n",
       "  <tbody>\n",
       "    <tr>\n",
       "      <th>0</th>\n",
       "      <td>730</td>\n",
       "      <td>FPS, Shooter, Multiplayer, Competitive, Action...</td>\n",
       "    </tr>\n",
       "    <tr>\n",
       "      <th>1</th>\n",
       "      <td>578080</td>\n",
       "      <td>Survival, Shooter, Battle Royale, Multiplayer,...</td>\n",
       "    </tr>\n",
       "    <tr>\n",
       "      <th>2</th>\n",
       "      <td>570</td>\n",
       "      <td>Free to Play, MOBA, Multiplayer, Strategy, eSp...</td>\n",
       "    </tr>\n",
       "    <tr>\n",
       "      <th>3</th>\n",
       "      <td>271590</td>\n",
       "      <td>Open World, Action, Multiplayer, Crime, Automo...</td>\n",
       "    </tr>\n",
       "    <tr>\n",
       "      <th>4</th>\n",
       "      <td>359550</td>\n",
       "      <td>FPS, PvP, eSports, Shooter, Multiplayer, Tacti...</td>\n",
       "    </tr>\n",
       "    <tr>\n",
       "      <th>...</th>\n",
       "      <td>...</td>\n",
       "      <td>...</td>\n",
       "    </tr>\n",
       "    <tr>\n",
       "      <th>6552</th>\n",
       "      <td>1175360</td>\n",
       "      <td>Twin Stick Shooter, Difficult, Action Roguelik...</td>\n",
       "    </tr>\n",
       "    <tr>\n",
       "      <th>6553</th>\n",
       "      <td>630310</td>\n",
       "      <td>Action, Adventure, Metroidvania, Pixel Graphic...</td>\n",
       "    </tr>\n",
       "    <tr>\n",
       "      <th>6554</th>\n",
       "      <td>403950</td>\n",
       "      <td>Strategy, Indie, Turn Based, Fantasy, Turn Bas...</td>\n",
       "    </tr>\n",
       "    <tr>\n",
       "      <th>6555</th>\n",
       "      <td>1604380</td>\n",
       "      <td>Adventure, Casual, Visual Novel, Sexual Conten...</td>\n",
       "    </tr>\n",
       "    <tr>\n",
       "      <th>6556</th>\n",
       "      <td>567670</td>\n",
       "      <td>Action, Indie, VR, Gore, FPS, First Person</td>\n",
       "    </tr>\n",
       "  </tbody>\n",
       "</table>\n",
       "<p>6557 rows × 2 columns</p>\n",
       "</div>"
      ],
      "text/plain": [
       "       app_id                                               tags\n",
       "0         730  FPS, Shooter, Multiplayer, Competitive, Action...\n",
       "1      578080  Survival, Shooter, Battle Royale, Multiplayer,...\n",
       "2         570  Free to Play, MOBA, Multiplayer, Strategy, eSp...\n",
       "3      271590  Open World, Action, Multiplayer, Crime, Automo...\n",
       "4      359550  FPS, PvP, eSports, Shooter, Multiplayer, Tacti...\n",
       "...       ...                                                ...\n",
       "6552  1175360  Twin Stick Shooter, Difficult, Action Roguelik...\n",
       "6553   630310  Action, Adventure, Metroidvania, Pixel Graphic...\n",
       "6554   403950  Strategy, Indie, Turn Based, Fantasy, Turn Bas...\n",
       "6555  1604380  Adventure, Casual, Visual Novel, Sexual Conten...\n",
       "6556   567670         Action, Indie, VR, Gore, FPS, First Person\n",
       "\n",
       "[6557 rows x 2 columns]"
      ]
     },
     "execution_count": 17,
     "metadata": {},
     "output_type": "execute_result"
    }
   ],
   "source": [
    "tags_df = clean_steam_df[[\"app_id\", 'tags']]\n",
    "tags_df"
   ]
  },
  {
   "cell_type": "markdown",
   "metadata": {},
   "source": [
    "## Expand tags list to one to many (app_id : individual tags)"
   ]
  },
  {
   "cell_type": "code",
   "execution_count": 18,
   "metadata": {},
   "outputs": [
    {
     "name": "stderr",
     "output_type": "stream",
     "text": [
      "/tmp/ipykernel_73331/3169137546.py:1: SettingWithCopyWarning: \n",
      "A value is trying to be set on a copy of a slice from a DataFrame.\n",
      "Try using .loc[row_indexer,col_indexer] = value instead\n",
      "\n",
      "See the caveats in the documentation: https://pandas.pydata.org/pandas-docs/stable/user_guide/indexing.html#returning-a-view-versus-a-copy\n",
      "  tags_df['tag'] = tags_df['tags'].str.split(',')\n"
     ]
    }
   ],
   "source": [
    "tags_df['tag'] = tags_df['tags'].str.split(',')"
   ]
  },
  {
   "cell_type": "code",
   "execution_count": 19,
   "metadata": {},
   "outputs": [
    {
     "data": {
      "text/html": [
       "<div>\n",
       "<style scoped>\n",
       "    .dataframe tbody tr th:only-of-type {\n",
       "        vertical-align: middle;\n",
       "    }\n",
       "\n",
       "    .dataframe tbody tr th {\n",
       "        vertical-align: top;\n",
       "    }\n",
       "\n",
       "    .dataframe thead th {\n",
       "        text-align: right;\n",
       "    }\n",
       "</style>\n",
       "<table border=\"1\" class=\"dataframe\">\n",
       "  <thead>\n",
       "    <tr style=\"text-align: right;\">\n",
       "      <th></th>\n",
       "      <th>app_id</th>\n",
       "      <th>tags</th>\n",
       "      <th>tag</th>\n",
       "    </tr>\n",
       "  </thead>\n",
       "  <tbody>\n",
       "    <tr>\n",
       "      <th>0</th>\n",
       "      <td>730</td>\n",
       "      <td>FPS, Shooter, Multiplayer, Competitive, Action...</td>\n",
       "      <td>FPS</td>\n",
       "    </tr>\n",
       "    <tr>\n",
       "      <th>1</th>\n",
       "      <td>730</td>\n",
       "      <td>FPS, Shooter, Multiplayer, Competitive, Action...</td>\n",
       "      <td>Shooter</td>\n",
       "    </tr>\n",
       "    <tr>\n",
       "      <th>2</th>\n",
       "      <td>730</td>\n",
       "      <td>FPS, Shooter, Multiplayer, Competitive, Action...</td>\n",
       "      <td>Multiplayer</td>\n",
       "    </tr>\n",
       "    <tr>\n",
       "      <th>3</th>\n",
       "      <td>730</td>\n",
       "      <td>FPS, Shooter, Multiplayer, Competitive, Action...</td>\n",
       "      <td>Competitive</td>\n",
       "    </tr>\n",
       "    <tr>\n",
       "      <th>4</th>\n",
       "      <td>730</td>\n",
       "      <td>FPS, Shooter, Multiplayer, Competitive, Action...</td>\n",
       "      <td>Action</td>\n",
       "    </tr>\n",
       "    <tr>\n",
       "      <th>...</th>\n",
       "      <td>...</td>\n",
       "      <td>...</td>\n",
       "      <td>...</td>\n",
       "    </tr>\n",
       "    <tr>\n",
       "      <th>115624</th>\n",
       "      <td>567670</td>\n",
       "      <td>Action, Indie, VR, Gore, FPS, First Person</td>\n",
       "      <td>Indie</td>\n",
       "    </tr>\n",
       "    <tr>\n",
       "      <th>115625</th>\n",
       "      <td>567670</td>\n",
       "      <td>Action, Indie, VR, Gore, FPS, First Person</td>\n",
       "      <td>VR</td>\n",
       "    </tr>\n",
       "    <tr>\n",
       "      <th>115626</th>\n",
       "      <td>567670</td>\n",
       "      <td>Action, Indie, VR, Gore, FPS, First Person</td>\n",
       "      <td>Gore</td>\n",
       "    </tr>\n",
       "    <tr>\n",
       "      <th>115627</th>\n",
       "      <td>567670</td>\n",
       "      <td>Action, Indie, VR, Gore, FPS, First Person</td>\n",
       "      <td>FPS</td>\n",
       "    </tr>\n",
       "    <tr>\n",
       "      <th>115628</th>\n",
       "      <td>567670</td>\n",
       "      <td>Action, Indie, VR, Gore, FPS, First Person</td>\n",
       "      <td>First Person</td>\n",
       "    </tr>\n",
       "  </tbody>\n",
       "</table>\n",
       "<p>115629 rows × 3 columns</p>\n",
       "</div>"
      ],
      "text/plain": [
       "        app_id                                               tags  \\\n",
       "0          730  FPS, Shooter, Multiplayer, Competitive, Action...   \n",
       "1          730  FPS, Shooter, Multiplayer, Competitive, Action...   \n",
       "2          730  FPS, Shooter, Multiplayer, Competitive, Action...   \n",
       "3          730  FPS, Shooter, Multiplayer, Competitive, Action...   \n",
       "4          730  FPS, Shooter, Multiplayer, Competitive, Action...   \n",
       "...        ...                                                ...   \n",
       "115624  567670         Action, Indie, VR, Gore, FPS, First Person   \n",
       "115625  567670         Action, Indie, VR, Gore, FPS, First Person   \n",
       "115626  567670         Action, Indie, VR, Gore, FPS, First Person   \n",
       "115627  567670         Action, Indie, VR, Gore, FPS, First Person   \n",
       "115628  567670         Action, Indie, VR, Gore, FPS, First Person   \n",
       "\n",
       "                  tag  \n",
       "0                 FPS  \n",
       "1             Shooter  \n",
       "2         Multiplayer  \n",
       "3         Competitive  \n",
       "4              Action  \n",
       "...               ...  \n",
       "115624          Indie  \n",
       "115625             VR  \n",
       "115626           Gore  \n",
       "115627            FPS  \n",
       "115628   First Person  \n",
       "\n",
       "[115629 rows x 3 columns]"
      ]
     },
     "execution_count": 19,
     "metadata": {},
     "output_type": "execute_result"
    }
   ],
   "source": [
    "one_to_messy = tags_df.explode('tag').reset_index(drop=True)\n",
    "one_to_messy"
   ]
  },
  {
   "cell_type": "code",
   "execution_count": 20,
   "metadata": {},
   "outputs": [
    {
     "data": {
      "text/html": [
       "<div>\n",
       "<style scoped>\n",
       "    .dataframe tbody tr th:only-of-type {\n",
       "        vertical-align: middle;\n",
       "    }\n",
       "\n",
       "    .dataframe tbody tr th {\n",
       "        vertical-align: top;\n",
       "    }\n",
       "\n",
       "    .dataframe thead th {\n",
       "        text-align: right;\n",
       "    }\n",
       "</style>\n",
       "<table border=\"1\" class=\"dataframe\">\n",
       "  <thead>\n",
       "    <tr style=\"text-align: right;\">\n",
       "      <th></th>\n",
       "      <th>app_id</th>\n",
       "      <th>tag</th>\n",
       "    </tr>\n",
       "  </thead>\n",
       "  <tbody>\n",
       "    <tr>\n",
       "      <th>0</th>\n",
       "      <td>730</td>\n",
       "      <td>FPS</td>\n",
       "    </tr>\n",
       "    <tr>\n",
       "      <th>1</th>\n",
       "      <td>730</td>\n",
       "      <td>Shooter</td>\n",
       "    </tr>\n",
       "    <tr>\n",
       "      <th>2</th>\n",
       "      <td>730</td>\n",
       "      <td>Multiplayer</td>\n",
       "    </tr>\n",
       "    <tr>\n",
       "      <th>3</th>\n",
       "      <td>730</td>\n",
       "      <td>Competitive</td>\n",
       "    </tr>\n",
       "    <tr>\n",
       "      <th>4</th>\n",
       "      <td>730</td>\n",
       "      <td>Action</td>\n",
       "    </tr>\n",
       "    <tr>\n",
       "      <th>...</th>\n",
       "      <td>...</td>\n",
       "      <td>...</td>\n",
       "    </tr>\n",
       "    <tr>\n",
       "      <th>115624</th>\n",
       "      <td>567670</td>\n",
       "      <td>Indie</td>\n",
       "    </tr>\n",
       "    <tr>\n",
       "      <th>115625</th>\n",
       "      <td>567670</td>\n",
       "      <td>VR</td>\n",
       "    </tr>\n",
       "    <tr>\n",
       "      <th>115626</th>\n",
       "      <td>567670</td>\n",
       "      <td>Gore</td>\n",
       "    </tr>\n",
       "    <tr>\n",
       "      <th>115627</th>\n",
       "      <td>567670</td>\n",
       "      <td>FPS</td>\n",
       "    </tr>\n",
       "    <tr>\n",
       "      <th>115628</th>\n",
       "      <td>567670</td>\n",
       "      <td>First Person</td>\n",
       "    </tr>\n",
       "  </tbody>\n",
       "</table>\n",
       "<p>115629 rows × 2 columns</p>\n",
       "</div>"
      ],
      "text/plain": [
       "        app_id            tag\n",
       "0          730            FPS\n",
       "1          730        Shooter\n",
       "2          730    Multiplayer\n",
       "3          730    Competitive\n",
       "4          730         Action\n",
       "...        ...            ...\n",
       "115624  567670          Indie\n",
       "115625  567670             VR\n",
       "115626  567670           Gore\n",
       "115627  567670            FPS\n",
       "115628  567670   First Person\n",
       "\n",
       "[115629 rows x 2 columns]"
      ]
     },
     "execution_count": 20,
     "metadata": {},
     "output_type": "execute_result"
    }
   ],
   "source": [
    "one_to_many_df = one_to_messy[['app_id', 'tag']]\n",
    "one_to_many_df"
   ]
  },
  {
   "cell_type": "markdown",
   "metadata": {},
   "source": [
    "## How many unique tags exist? 744"
   ]
  },
  {
   "cell_type": "code",
   "execution_count": 21,
   "metadata": {},
   "outputs": [
    {
     "data": {
      "text/plain": [
       "744"
      ]
     },
     "execution_count": 21,
     "metadata": {},
     "output_type": "execute_result"
    }
   ],
   "source": [
    "num_unq_tags = one_to_many_df['tag'].unique().shape[0]\n",
    "num_unq_tags"
   ]
  },
  {
   "cell_type": "markdown",
   "metadata": {},
   "source": [
    "## Number of games per tag"
   ]
  },
  {
   "cell_type": "code",
   "execution_count": 22,
   "metadata": {},
   "outputs": [
    {
     "data": {
      "text/plain": [
       "tag\n",
       " Singleplayer    5171\n",
       " Indie           3173\n",
       " Adventure       3107\n",
       " Action          2950\n",
       " Multiplayer     2271\n",
       "                 ... \n",
       "Top Down            1\n",
       "Short               1\n",
       "Supernatural        1\n",
       "Rome                1\n",
       "Minigames           1\n",
       "Name: count, Length: 744, dtype: int64"
      ]
     },
     "execution_count": 22,
     "metadata": {},
     "output_type": "execute_result"
    }
   ],
   "source": [
    "one_to_many_df['tag'].value_counts()"
   ]
  },
  {
   "cell_type": "markdown",
   "metadata": {},
   "source": [
    "# 247 tags are present in >= 10% of the sample"
   ]
  },
  {
   "cell_type": "code",
   "execution_count": 23,
   "metadata": {},
   "outputs": [
    {
     "data": {
      "text/plain": [
       "np.int64(247)"
      ]
     },
     "execution_count": 23,
     "metadata": {},
     "output_type": "execute_result"
    }
   ],
   "source": [
    "(one_to_many_df.value_counts('tag') >= 74).sum()"
   ]
  },
  {
   "cell_type": "markdown",
   "metadata": {},
   "source": [
    "## Filter tags df to only tags present in 10% of sample"
   ]
  },
  {
   "cell_type": "code",
   "execution_count": 24,
   "metadata": {},
   "outputs": [
    {
     "data": {
      "text/plain": [
       "tag\n",
       " Singleplayer    5171\n",
       " Indie           3173\n",
       " Adventure       3107\n",
       " Action          2950\n",
       " Multiplayer     2271\n",
       "                 ... \n",
       "Open World         78\n",
       " Space Sim         78\n",
       " Farming Sim       77\n",
       " Trading           74\n",
       " Modern            74\n",
       "Name: count, Length: 247, dtype: int64"
      ]
     },
     "execution_count": 24,
     "metadata": {},
     "output_type": "execute_result"
    }
   ],
   "source": [
    "common_tags = one_to_many_df[one_to_many_df.groupby('tag')['tag'].transform('size') >= (num_unq_tags // 10)]\n",
    "common_tags['tag'].value_counts()"
   ]
  },
  {
   "cell_type": "code",
   "execution_count": 25,
   "metadata": {},
   "outputs": [
    {
     "name": "stdout",
     "output_type": "stream",
     "text": [
      "<class 'pandas.core.frame.DataFrame'>\n",
      "Index: 106866 entries, 0 to 115628\n",
      "Data columns (total 2 columns):\n",
      " #   Column  Non-Null Count   Dtype \n",
      "---  ------  --------------   ----- \n",
      " 0   app_id  106866 non-null  int64 \n",
      " 1   tag     106866 non-null  object\n",
      "dtypes: int64(1), object(1)\n",
      "memory usage: 2.4+ MB\n"
     ]
    }
   ],
   "source": [
    "common_tags.info()"
   ]
  },
  {
   "cell_type": "markdown",
   "metadata": {},
   "source": [
    "### Clean trailing and leading whitespace in tags"
   ]
  },
  {
   "cell_type": "code",
   "execution_count": 26,
   "metadata": {},
   "outputs": [
    {
     "name": "stderr",
     "output_type": "stream",
     "text": [
      "/tmp/ipykernel_73331/4257888271.py:1: SettingWithCopyWarning: \n",
      "A value is trying to be set on a copy of a slice from a DataFrame.\n",
      "Try using .loc[row_indexer,col_indexer] = value instead\n",
      "\n",
      "See the caveats in the documentation: https://pandas.pydata.org/pandas-docs/stable/user_guide/indexing.html#returning-a-view-versus-a-copy\n",
      "  common_tags['tag'] = common_tags['tag'].str.strip()\n"
     ]
    }
   ],
   "source": [
    "common_tags['tag'] = common_tags['tag'].str.strip()"
   ]
  },
  {
   "cell_type": "code",
   "execution_count": 27,
   "metadata": {},
   "outputs": [
    {
     "data": {
      "text/plain": [
       "array(['FPS', 'Shooter', 'Multiplayer', 'Competitive', 'Action',\n",
       "       'Team Based', 'eSports', 'Tactical', 'First Person', 'PvP',\n",
       "       'Online Co Op', 'Co op', 'Strategy', 'Military', 'War',\n",
       "       'Difficult', 'Trading', 'Realistic', 'Fast Paced', 'Moddable',\n",
       "       'Survival', 'Third Person Shooter', 'Early Access', 'Third Person',\n",
       "       'Simulation', 'Stealth', 'RTS', 'Tower Defense', 'RPG', 'Fantasy',\n",
       "       'Character Customization', 'Replay Value', 'Action RPG',\n",
       "       'Open World', 'Crime', 'Automobile Sim', 'Mature', 'Adventure',\n",
       "       'Singleplayer', 'Racing', 'Atmospheric', 'Sandbox', 'Funny',\n",
       "       'Great Soundtrack', 'Comedy', 'Destruction', '3D', '2D',\n",
       "       'Pixel Graphics', 'Crafting', 'Building', 'Exploration', 'Indie',\n",
       "       'Platformer', 'Physics', 'Massively Multiplayer',\n",
       "       'Open World Survival Craft', 'Nudity', 'Post apocalyptic',\n",
       "       'Story Rich', 'Choices Matter', 'Medieval', 'Multiple Endings',\n",
       "       'Magic', 'Dark Fantasy', 'Dark', 'Space', 'Psychological',\n",
       "       'Cartoony', 'Local Multiplayer', 'Casual', 'Colorful', 'Sci fi',\n",
       "       'Aliens', 'Top Down', 'Horror', 'Gore', 'Survival Horror',\n",
       "       'Local Co Op', 'PvE', 'Loot', 'Lore Rich', 'Futuristic', 'Violent',\n",
       "       'Immersive Sim', 'Family Friendly', 'Life Sim', 'Relaxing', 'Cute',\n",
       "       'Dating Sim', 'Base Building', 'Blood', 'Psychological Horror',\n",
       "       'Economy', 'Management', 'Controller', 'VR', 'Supernatural',\n",
       "       'Investigation', 'Mystery', 'Demons', 'Detective', 'Thriller',\n",
       "       'Lovecraftian', 'Zombies', 'Beautiful', '3D Platformer',\n",
       "       'Mythology', 'Sports', 'Split Screen', '4 Player Local', 'Puzzle',\n",
       "       'Dark Humor', 'Puzzle Platformer', 'Female Protagonist',\n",
       "       'Action Adventure', 'Level Editor', 'Parkour', 'Hack and Slash',\n",
       "       'Roguelike', 'Souls like', 'Hand drawn', 'Side Scroller',\n",
       "       'Swordplay', 'JRPG', 'Modern', 'Music', 'Arcade',\n",
       "       'Dungeon Crawler', 'Remake', 'Procedural Generation', 'Roguelite',\n",
       "       'Walking Simulator', 'Sexual Content', 'Isometric', 'Perma Death',\n",
       "       'Space Sim', 'Free to Play', 'Turn Based Strategy', 'Historical',\n",
       "       'Grand Strategy', 'Turn Based', '4X', 'City Builder',\n",
       "       'Bullet Hell', 'Retro', 'Score Attack', '1980s', 'Classic',\n",
       "       'Choose Your Own Adventure', 'Strategy RPG', 'Combat', 'Memes',\n",
       "       'Action Roguelike', 'Resource Management', 'Real Time with Pause',\n",
       "       'Driving', 'World War II', 'Alternate History', 'Flight',\n",
       "       'Soundtrack', 'Point & Click', 'LGBTQ+', 'Cinematic', 'Mechs',\n",
       "       'Martial Arts', 'Fighting', 'Anime', 'CRPG', 'Party Based RPG',\n",
       "       'Co op Campaign', 'Romance', 'Tactical RPG', '1990s', 'Old School',\n",
       "       'Dystopian', 'Nature', 'Psychedelic', 'Cartoon', 'Shoot Em Up',\n",
       "       'Addictive', 'Metroidvania', 'Short', 'Card Game', 'Deckbuilding',\n",
       "       'Drama', 'Visual Novel', 'Interactive Fiction', 'Real Time',\n",
       "       'Emotional', 'Gothic', 'Kickstarter', 'Cyberpunk', 'Robots',\n",
       "       'Wargame', 'Steampunk', 'Linear', 'Education', '2D Fighter',\n",
       "       'Surreal', 'Experimental', 'Real Time Tactics', 'Political',\n",
       "       'Hentai', 'Colony Sim', 'Beat em up', 'Narration', 'NSFW', 'Noir',\n",
       "       'Top Down Shooter', '2D Platformer', 'Stylized', 'Comic Book',\n",
       "       'Twin Stick Shooter', 'Turn Based Tactics', 'Arena Shooter',\n",
       "       'Turn Based Combat', '2.5D', 'Farming Sim', 'RPGMaker',\n",
       "       'Inventory Management', 'Board Game', 'Tabletop', 'Cult Classic',\n",
       "       'Conversation', 'Text Based', 'Time Management', 'Minimalist',\n",
       "       'Hidden Object', 'Logic'], dtype=object)"
      ]
     },
     "execution_count": 27,
     "metadata": {},
     "output_type": "execute_result"
    }
   ],
   "source": [
    "common_tags['tag'].unique()"
   ]
  },
  {
   "cell_type": "markdown",
   "metadata": {},
   "source": [
    "# Save common_tags DF as app_id_common_tags and clean_steam_data df\n",
    "\n",
    "## Reorder columns and drop unneeded ones"
   ]
  },
  {
   "cell_type": "code",
   "execution_count": 28,
   "metadata": {},
   "outputs": [
    {
     "data": {
      "text/plain": [
       "Index(['app_id', 'title', 'reviews_total', 'reviews_score_fancy',\n",
       "       'release_date', 'launch_price_fancy', 'tags',\n",
       "       'revenue_estimated_dataset', 'modified_tags', 'launch_price_cents',\n",
       "       'dataset_est_rev_cents', 'review_avg_percent'],\n",
       "      dtype='object')"
      ]
     },
     "execution_count": 28,
     "metadata": {},
     "output_type": "execute_result"
    }
   ],
   "source": [
    "clean_dates.columns"
   ]
  },
  {
   "cell_type": "code",
   "execution_count": 29,
   "metadata": {},
   "outputs": [
    {
     "data": {
      "text/html": [
       "<div>\n",
       "<style scoped>\n",
       "    .dataframe tbody tr th:only-of-type {\n",
       "        vertical-align: middle;\n",
       "    }\n",
       "\n",
       "    .dataframe tbody tr th {\n",
       "        vertical-align: top;\n",
       "    }\n",
       "\n",
       "    .dataframe thead th {\n",
       "        text-align: right;\n",
       "    }\n",
       "</style>\n",
       "<table border=\"1\" class=\"dataframe\">\n",
       "  <thead>\n",
       "    <tr style=\"text-align: right;\">\n",
       "      <th></th>\n",
       "      <th>app_id</th>\n",
       "      <th>title</th>\n",
       "      <th>release_date</th>\n",
       "      <th>reviews_total</th>\n",
       "      <th>review_avg_percent</th>\n",
       "      <th>launch_price_cents</th>\n",
       "      <th>dataset_est_rev_cents</th>\n",
       "    </tr>\n",
       "  </thead>\n",
       "  <tbody>\n",
       "    <tr>\n",
       "      <th>6554</th>\n",
       "      <td>403950</td>\n",
       "      <td>Conquest of Elysium 4</td>\n",
       "      <td>2015-11-16</td>\n",
       "      <td>500</td>\n",
       "      <td>89.0</td>\n",
       "      <td>2499</td>\n",
       "      <td>1249500</td>\n",
       "    </tr>\n",
       "    <tr>\n",
       "      <th>6555</th>\n",
       "      <td>1604380</td>\n",
       "      <td>Hamidashi Creative</td>\n",
       "      <td>2022-09-30</td>\n",
       "      <td>500</td>\n",
       "      <td>97.0</td>\n",
       "      <td>2999</td>\n",
       "      <td>1499500</td>\n",
       "    </tr>\n",
       "    <tr>\n",
       "      <th>6556</th>\n",
       "      <td>567670</td>\n",
       "      <td>Serious Sam 3 VR: BFE</td>\n",
       "      <td>2017-11-09</td>\n",
       "      <td>500</td>\n",
       "      <td>86.0</td>\n",
       "      <td>3999</td>\n",
       "      <td>1999500</td>\n",
       "    </tr>\n",
       "  </tbody>\n",
       "</table>\n",
       "</div>"
      ],
      "text/plain": [
       "       app_id                  title release_date  reviews_total  \\\n",
       "6554   403950  Conquest of Elysium 4   2015-11-16            500   \n",
       "6555  1604380     Hamidashi Creative   2022-09-30            500   \n",
       "6556   567670  Serious Sam 3 VR: BFE   2017-11-09            500   \n",
       "\n",
       "      review_avg_percent  launch_price_cents  dataset_est_rev_cents  \n",
       "6554                89.0                2499                1249500  \n",
       "6555                97.0                2999                1499500  \n",
       "6556                86.0                3999                1999500  "
      ]
     },
     "execution_count": 29,
     "metadata": {},
     "output_type": "execute_result"
    }
   ],
   "source": [
    "clean_steam_df = clean_dates[['app_id', 'title', 'release_date', 'reviews_total', 'review_avg_percent', 'launch_price_cents',\n",
    "       'dataset_est_rev_cents']]\n",
    "clean_steam_df.tail(3)"
   ]
  },
  {
   "cell_type": "code",
   "execution_count": 30,
   "metadata": {},
   "outputs": [
    {
     "data": {
      "text/html": [
       "<div>\n",
       "<style scoped>\n",
       "    .dataframe tbody tr th:only-of-type {\n",
       "        vertical-align: middle;\n",
       "    }\n",
       "\n",
       "    .dataframe tbody tr th {\n",
       "        vertical-align: top;\n",
       "    }\n",
       "\n",
       "    .dataframe thead th {\n",
       "        text-align: right;\n",
       "    }\n",
       "</style>\n",
       "<table border=\"1\" class=\"dataframe\">\n",
       "  <thead>\n",
       "    <tr style=\"text-align: right;\">\n",
       "      <th></th>\n",
       "      <th>app_id</th>\n",
       "      <th>tag</th>\n",
       "    </tr>\n",
       "  </thead>\n",
       "  <tbody>\n",
       "    <tr>\n",
       "      <th>115626</th>\n",
       "      <td>567670</td>\n",
       "      <td>Gore</td>\n",
       "    </tr>\n",
       "    <tr>\n",
       "      <th>115627</th>\n",
       "      <td>567670</td>\n",
       "      <td>FPS</td>\n",
       "    </tr>\n",
       "    <tr>\n",
       "      <th>115628</th>\n",
       "      <td>567670</td>\n",
       "      <td>First Person</td>\n",
       "    </tr>\n",
       "  </tbody>\n",
       "</table>\n",
       "</div>"
      ],
      "text/plain": [
       "        app_id           tag\n",
       "115626  567670          Gore\n",
       "115627  567670           FPS\n",
       "115628  567670  First Person"
      ]
     },
     "execution_count": 30,
     "metadata": {},
     "output_type": "execute_result"
    }
   ],
   "source": [
    "common_tags.tail(3)"
   ]
  },
  {
   "cell_type": "code",
   "execution_count": 31,
   "metadata": {},
   "outputs": [],
   "source": [
    "clean_steam_df.to_csv(\"Resources/clean_steam_dtypes.csv\", index=False)"
   ]
  },
  {
   "cell_type": "code",
   "execution_count": 32,
   "metadata": {},
   "outputs": [],
   "source": [
    "common_tags.to_csv(\"Resources/app_id_common_tags.csv\", index=False)"
   ]
  },
  {
   "cell_type": "code",
   "execution_count": null,
   "metadata": {},
   "outputs": [],
   "source": []
  }
 ],
 "metadata": {
  "kernelspec": {
   "display_name": ".venv",
   "language": "python",
   "name": "python3"
  },
  "language_info": {
   "codemirror_mode": {
    "name": "ipython",
    "version": 3
   },
   "file_extension": ".py",
   "mimetype": "text/x-python",
   "name": "python",
   "nbconvert_exporter": "python",
   "pygments_lexer": "ipython3",
   "version": "3.12.4"
  }
 },
 "nbformat": 4,
 "nbformat_minor": 2
}
