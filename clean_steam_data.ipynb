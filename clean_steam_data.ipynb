{
 "cells": [
  {
   "cell_type": "code",
   "execution_count": 2,
   "metadata": {},
   "outputs": [],
   "source": [
    "import pandas as pd"
   ]
  },
  {
   "cell_type": "code",
   "execution_count": 3,
   "metadata": {},
   "outputs": [],
   "source": [
    "data = pd.read_csv('Raw Data/GAME DATA.csv')"
   ]
  },
  {
   "cell_type": "markdown",
   "metadata": {},
   "source": [
    "# Clean Data"
   ]
  },
  {
   "cell_type": "markdown",
   "metadata": {},
   "source": [
    "## Count nulls per column"
   ]
  },
  {
   "cell_type": "code",
   "execution_count": 4,
   "metadata": {},
   "outputs": [
    {
     "data": {
      "text/plain": [
       "(65111, 14)"
      ]
     },
     "execution_count": 4,
     "metadata": {},
     "output_type": "execute_result"
    }
   ],
   "source": [
    "data.shape"
   ]
  },
  {
   "cell_type": "code",
   "execution_count": 5,
   "metadata": {},
   "outputs": [
    {
     "data": {
      "text/plain": [
       "App ID                     0\n",
       "Title                      0\n",
       "Reviews Total              0\n",
       "Reviews Score Fancy        0\n",
       "Release Date               0\n",
       "Reviews D7             65111\n",
       "Reviews D30            65111\n",
       "Reviews D90            65111\n",
       "Launch Price               0\n",
       "Tags                       0\n",
       "name_slug              65111\n",
       "Revenue Estimated          0\n",
       "Modified Tags              0\n",
       "Steam Page                 0\n",
       "dtype: int64"
      ]
     },
     "execution_count": 5,
     "metadata": {},
     "output_type": "execute_result"
    }
   ],
   "source": [
    "data.isna().sum()"
   ]
  },
  {
   "cell_type": "markdown",
   "metadata": {},
   "source": [
    "## Drop empty columns"
   ]
  },
  {
   "cell_type": "code",
   "execution_count": 6,
   "metadata": {},
   "outputs": [],
   "source": [
    "data = data.drop([\"Reviews D7\",\"Reviews D30\",\"Reviews D90\",\"name_slug\", \"Steam Page\"], axis=1)"
   ]
  },
  {
   "cell_type": "code",
   "execution_count": 7,
   "metadata": {},
   "outputs": [
    {
     "data": {
      "text/plain": [
       "Index(['App ID', 'Title', 'Reviews Total', 'Reviews Score Fancy',\n",
       "       'Release Date', 'Launch Price', 'Tags', 'Revenue Estimated',\n",
       "       'Modified Tags'],\n",
       "      dtype='object')"
      ]
     },
     "execution_count": 7,
     "metadata": {},
     "output_type": "execute_result"
    }
   ],
   "source": [
    "data.columns"
   ]
  },
  {
   "cell_type": "markdown",
   "metadata": {},
   "source": [
    "# Clean column names"
   ]
  },
  {
   "cell_type": "code",
   "execution_count": 8,
   "metadata": {},
   "outputs": [],
   "source": [
    "data.rename(columns= {'App ID': \"app_id\", \n",
    "                    'Title': \"title\", \n",
    "                    'Reviews Total': \"reviews_total\", \n",
    "                    'Reviews Score Fancy': \"reviews_score_fancy\",\n",
    "                    'Release Date': \"release_date\", \n",
    "                    'Launch Price': \"launch_price_fancy\", \n",
    "                    'Tags' : 'tags',\n",
    "                    'Revenue Estimated': \"revenue_estimated_dataset\",\n",
    "                    'Modified Tags': \"modified_tags\"\n",
    "}, inplace=True)\n"
   ]
  },
  {
   "cell_type": "markdown",
   "metadata": {},
   "source": [
    "## Drop columns with not enough review data\n",
    "\n",
    "### Review threshold justification:\n",
    "\n",
    "The dataset will be joined with games that have reached top 200 twtich viewership since 2016. \n",
    "\n",
    "Games will less than 500 reviews are not expected to have reached top 200 twitch viewrship"
   ]
  },
  {
   "cell_type": "code",
   "execution_count": 9,
   "metadata": {},
   "outputs": [
    {
     "name": "stdout",
     "output_type": "stream",
     "text": [
      "(6557, 9)\n"
     ]
    },
    {
     "data": {
      "text/html": [
       "<div>\n",
       "<style scoped>\n",
       "    .dataframe tbody tr th:only-of-type {\n",
       "        vertical-align: middle;\n",
       "    }\n",
       "\n",
       "    .dataframe tbody tr th {\n",
       "        vertical-align: top;\n",
       "    }\n",
       "\n",
       "    .dataframe thead th {\n",
       "        text-align: right;\n",
       "    }\n",
       "</style>\n",
       "<table border=\"1\" class=\"dataframe\">\n",
       "  <thead>\n",
       "    <tr style=\"text-align: right;\">\n",
       "      <th></th>\n",
       "      <th>app_id</th>\n",
       "      <th>title</th>\n",
       "      <th>reviews_total</th>\n",
       "      <th>reviews_score_fancy</th>\n",
       "      <th>release_date</th>\n",
       "      <th>launch_price_fancy</th>\n",
       "      <th>tags</th>\n",
       "      <th>revenue_estimated_dataset</th>\n",
       "      <th>modified_tags</th>\n",
       "    </tr>\n",
       "  </thead>\n",
       "  <tbody>\n",
       "    <tr>\n",
       "      <th>6554</th>\n",
       "      <td>403950</td>\n",
       "      <td>Conquest of Elysium 4</td>\n",
       "      <td>500</td>\n",
       "      <td>89%</td>\n",
       "      <td>2015-11-16</td>\n",
       "      <td>$24,99</td>\n",
       "      <td>Strategy, Indie, Turn Based, Fantasy, Turn Bas...</td>\n",
       "      <td>$12 495,00</td>\n",
       "      <td>Strategy_, Indie_, Turn Based_, Fantasy_, Turn...</td>\n",
       "    </tr>\n",
       "    <tr>\n",
       "      <th>6555</th>\n",
       "      <td>1604380</td>\n",
       "      <td>Hamidashi Creative</td>\n",
       "      <td>500</td>\n",
       "      <td>97%</td>\n",
       "      <td>2022-09-30</td>\n",
       "      <td>$29,99</td>\n",
       "      <td>Adventure, Casual, Visual Novel, Sexual Conten...</td>\n",
       "      <td>$14 995,00</td>\n",
       "      <td>Adventure_, Casual_, Visual Novel_, Sexual Con...</td>\n",
       "    </tr>\n",
       "    <tr>\n",
       "      <th>6556</th>\n",
       "      <td>567670</td>\n",
       "      <td>Serious Sam 3 VR: BFE</td>\n",
       "      <td>500</td>\n",
       "      <td>86%</td>\n",
       "      <td>2017-11-09</td>\n",
       "      <td>$39,99</td>\n",
       "      <td>Action, Indie, VR, Gore, FPS, First Person</td>\n",
       "      <td>$19 995,00</td>\n",
       "      <td>Action_, Indie_, VR_, Gore_, FPS_, First Person_</td>\n",
       "    </tr>\n",
       "  </tbody>\n",
       "</table>\n",
       "</div>"
      ],
      "text/plain": [
       "       app_id                  title  reviews_total reviews_score_fancy  \\\n",
       "6554   403950  Conquest of Elysium 4            500                 89%   \n",
       "6555  1604380     Hamidashi Creative            500                 97%   \n",
       "6556   567670  Serious Sam 3 VR: BFE            500                 86%   \n",
       "\n",
       "     release_date launch_price_fancy  \\\n",
       "6554   2015-11-16             $24,99   \n",
       "6555   2022-09-30             $29,99   \n",
       "6556   2017-11-09             $39,99   \n",
       "\n",
       "                                                   tags  \\\n",
       "6554  Strategy, Indie, Turn Based, Fantasy, Turn Bas...   \n",
       "6555  Adventure, Casual, Visual Novel, Sexual Conten...   \n",
       "6556         Action, Indie, VR, Gore, FPS, First Person   \n",
       "\n",
       "     revenue_estimated_dataset  \\\n",
       "6554                $12 495,00   \n",
       "6555                $14 995,00   \n",
       "6556                $19 995,00   \n",
       "\n",
       "                                          modified_tags  \n",
       "6554  Strategy_, Indie_, Turn Based_, Fantasy_, Turn...  \n",
       "6555  Adventure_, Casual_, Visual Novel_, Sexual Con...  \n",
       "6556   Action_, Indie_, VR_, Gore_, FPS_, First Person_  "
      ]
     },
     "execution_count": 9,
     "metadata": {},
     "output_type": "execute_result"
    }
   ],
   "source": [
    "review_threshold = 500\n",
    "drop_lt_5000_reviews = data[data['reviews_total'] >= review_threshold]\n",
    "print(drop_lt_5000_reviews.shape)\n",
    "drop_lt_5000_reviews.tail(3)"
   ]
  },
  {
   "cell_type": "markdown",
   "metadata": {},
   "source": [
    "## Clean column datatypes"
   ]
  },
  {
   "cell_type": "markdown",
   "metadata": {},
   "source": [
    "### clean purchase price to numeric in cents"
   ]
  },
  {
   "cell_type": "code",
   "execution_count": 10,
   "metadata": {},
   "outputs": [
    {
     "name": "stdout",
     "output_type": "stream",
     "text": [
      "<class 'pandas.core.frame.DataFrame'>\n",
      "Index: 6557 entries, 0 to 6556\n",
      "Data columns (total 9 columns):\n",
      " #   Column                     Non-Null Count  Dtype \n",
      "---  ------                     --------------  ----- \n",
      " 0   app_id                     6557 non-null   int64 \n",
      " 1   title                      6557 non-null   object\n",
      " 2   reviews_total              6557 non-null   int64 \n",
      " 3   reviews_score_fancy        6557 non-null   object\n",
      " 4   release_date               6557 non-null   object\n",
      " 5   launch_price_fancy         6557 non-null   object\n",
      " 6   tags                       6557 non-null   object\n",
      " 7   revenue_estimated_dataset  6557 non-null   object\n",
      " 8   modified_tags              6557 non-null   object\n",
      "dtypes: int64(2), object(7)\n",
      "memory usage: 512.3+ KB\n"
     ]
    }
   ],
   "source": [
    "drop_lt_5000_reviews.info()"
   ]
  },
  {
   "cell_type": "code",
   "execution_count": 11,
   "metadata": {},
   "outputs": [],
   "source": [
    "clean_numerics = drop_lt_5000_reviews.copy()\n",
    "\n",
    "# strip all non-digit characters to get str representation of price in cents, then convert to int\n",
    "clean_numerics['launch_price_cents'] = clean_numerics['launch_price_fancy'].str.replace(r'[\\D]', '', regex=True).astype(int)"
   ]
  },
  {
   "cell_type": "code",
   "execution_count": 12,
   "metadata": {},
   "outputs": [],
   "source": [
    "clean_numerics['dataset_est_rev_cents'] = clean_numerics['revenue_estimated_dataset'].str.replace(r'[\\D]', '', regex=True).astype(int)\n"
   ]
  },
  {
   "cell_type": "code",
   "execution_count": 13,
   "metadata": {},
   "outputs": [
    {
     "data": {
      "text/html": [
       "<div>\n",
       "<style scoped>\n",
       "    .dataframe tbody tr th:only-of-type {\n",
       "        vertical-align: middle;\n",
       "    }\n",
       "\n",
       "    .dataframe tbody tr th {\n",
       "        vertical-align: top;\n",
       "    }\n",
       "\n",
       "    .dataframe thead th {\n",
       "        text-align: right;\n",
       "    }\n",
       "</style>\n",
       "<table border=\"1\" class=\"dataframe\">\n",
       "  <thead>\n",
       "    <tr style=\"text-align: right;\">\n",
       "      <th></th>\n",
       "      <th>app_id</th>\n",
       "      <th>title</th>\n",
       "      <th>reviews_total</th>\n",
       "      <th>reviews_score_fancy</th>\n",
       "      <th>release_date</th>\n",
       "      <th>launch_price_fancy</th>\n",
       "      <th>tags</th>\n",
       "      <th>revenue_estimated_dataset</th>\n",
       "      <th>modified_tags</th>\n",
       "      <th>launch_price_cents</th>\n",
       "      <th>dataset_est_rev_cents</th>\n",
       "      <th>review_avg_percent</th>\n",
       "    </tr>\n",
       "  </thead>\n",
       "  <tbody>\n",
       "  </tbody>\n",
       "</table>\n",
       "</div>"
      ],
      "text/plain": [
       "Empty DataFrame\n",
       "Columns: [app_id, title, reviews_total, reviews_score_fancy, release_date, launch_price_fancy, tags, revenue_estimated_dataset, modified_tags, launch_price_cents, dataset_est_rev_cents, review_avg_percent]\n",
       "Index: []"
      ]
     },
     "execution_count": 13,
     "metadata": {},
     "output_type": "execute_result"
    }
   ],
   "source": [
    "clean_numerics['review_avg_percent'] = clean_numerics['reviews_score_fancy'].str.replace(r'%', '').str.replace(r',', '.').astype(float)\n",
    "clean_numerics[(clean_numerics['review_avg_percent'] > 100) | (clean_numerics['review_avg_percent'] < 0)]"
   ]
  },
  {
   "cell_type": "code",
   "execution_count": 14,
   "metadata": {},
   "outputs": [
    {
     "name": "stdout",
     "output_type": "stream",
     "text": [
      "<class 'pandas.core.frame.DataFrame'>\n",
      "Index: 6557 entries, 0 to 6556\n",
      "Data columns (total 12 columns):\n",
      " #   Column                     Non-Null Count  Dtype  \n",
      "---  ------                     --------------  -----  \n",
      " 0   app_id                     6557 non-null   int64  \n",
      " 1   title                      6557 non-null   object \n",
      " 2   reviews_total              6557 non-null   int64  \n",
      " 3   reviews_score_fancy        6557 non-null   object \n",
      " 4   release_date               6557 non-null   object \n",
      " 5   launch_price_fancy         6557 non-null   object \n",
      " 6   tags                       6557 non-null   object \n",
      " 7   revenue_estimated_dataset  6557 non-null   object \n",
      " 8   modified_tags              6557 non-null   object \n",
      " 9   launch_price_cents         6557 non-null   int64  \n",
      " 10  dataset_est_rev_cents      6557 non-null   int64  \n",
      " 11  review_avg_percent         6557 non-null   float64\n",
      "dtypes: float64(1), int64(4), object(7)\n",
      "memory usage: 665.9+ KB\n"
     ]
    }
   ],
   "source": [
    "clean_numerics.info()"
   ]
  },
  {
   "cell_type": "markdown",
   "metadata": {},
   "source": [
    "### Clean launch date\n",
    "date format is string \"YYYY-MM-DD\""
   ]
  },
  {
   "cell_type": "code",
   "execution_count": 15,
   "metadata": {},
   "outputs": [
    {
     "name": "stdout",
     "output_type": "stream",
     "text": [
      "<class 'pandas.core.frame.DataFrame'>\n",
      "Index: 6557 entries, 0 to 6556\n",
      "Data columns (total 12 columns):\n",
      " #   Column                     Non-Null Count  Dtype         \n",
      "---  ------                     --------------  -----         \n",
      " 0   app_id                     6557 non-null   int64         \n",
      " 1   title                      6557 non-null   object        \n",
      " 2   reviews_total              6557 non-null   int64         \n",
      " 3   reviews_score_fancy        6557 non-null   object        \n",
      " 4   release_date               6557 non-null   datetime64[ns]\n",
      " 5   launch_price_fancy         6557 non-null   object        \n",
      " 6   tags                       6557 non-null   object        \n",
      " 7   revenue_estimated_dataset  6557 non-null   object        \n",
      " 8   modified_tags              6557 non-null   object        \n",
      " 9   launch_price_cents         6557 non-null   int64         \n",
      " 10  dataset_est_rev_cents      6557 non-null   int64         \n",
      " 11  review_avg_percent         6557 non-null   float64       \n",
      "dtypes: datetime64[ns](1), float64(1), int64(4), object(6)\n",
      "memory usage: 665.9+ KB\n"
     ]
    }
   ],
   "source": [
    "clean_dates = clean_numerics.copy()\n",
    "clean_dates['release_date'] = pd.to_datetime(clean_dates['release_date'])\n",
    "clean_dates.info()"
   ]
  },
  {
   "cell_type": "code",
   "execution_count": 16,
   "metadata": {},
   "outputs": [
    {
     "data": {
      "text/html": [
       "<div>\n",
       "<style scoped>\n",
       "    .dataframe tbody tr th:only-of-type {\n",
       "        vertical-align: middle;\n",
       "    }\n",
       "\n",
       "    .dataframe tbody tr th {\n",
       "        vertical-align: top;\n",
       "    }\n",
       "\n",
       "    .dataframe thead th {\n",
       "        text-align: right;\n",
       "    }\n",
       "</style>\n",
       "<table border=\"1\" class=\"dataframe\">\n",
       "  <thead>\n",
       "    <tr style=\"text-align: right;\">\n",
       "      <th></th>\n",
       "      <th>app_id</th>\n",
       "      <th>title</th>\n",
       "      <th>reviews_total</th>\n",
       "      <th>reviews_score_fancy</th>\n",
       "      <th>release_date</th>\n",
       "      <th>launch_price_fancy</th>\n",
       "      <th>tags</th>\n",
       "      <th>revenue_estimated_dataset</th>\n",
       "      <th>modified_tags</th>\n",
       "      <th>launch_price_cents</th>\n",
       "      <th>dataset_est_rev_cents</th>\n",
       "      <th>review_avg_percent</th>\n",
       "    </tr>\n",
       "  </thead>\n",
       "  <tbody>\n",
       "    <tr>\n",
       "      <th>6554</th>\n",
       "      <td>403950</td>\n",
       "      <td>Conquest of Elysium 4</td>\n",
       "      <td>500</td>\n",
       "      <td>89%</td>\n",
       "      <td>2015-11-16</td>\n",
       "      <td>$24,99</td>\n",
       "      <td>Strategy, Indie, Turn Based, Fantasy, Turn Bas...</td>\n",
       "      <td>$12 495,00</td>\n",
       "      <td>Strategy_, Indie_, Turn Based_, Fantasy_, Turn...</td>\n",
       "      <td>2499</td>\n",
       "      <td>1249500</td>\n",
       "      <td>89.0</td>\n",
       "    </tr>\n",
       "    <tr>\n",
       "      <th>6555</th>\n",
       "      <td>1604380</td>\n",
       "      <td>Hamidashi Creative</td>\n",
       "      <td>500</td>\n",
       "      <td>97%</td>\n",
       "      <td>2022-09-30</td>\n",
       "      <td>$29,99</td>\n",
       "      <td>Adventure, Casual, Visual Novel, Sexual Conten...</td>\n",
       "      <td>$14 995,00</td>\n",
       "      <td>Adventure_, Casual_, Visual Novel_, Sexual Con...</td>\n",
       "      <td>2999</td>\n",
       "      <td>1499500</td>\n",
       "      <td>97.0</td>\n",
       "    </tr>\n",
       "    <tr>\n",
       "      <th>6556</th>\n",
       "      <td>567670</td>\n",
       "      <td>Serious Sam 3 VR: BFE</td>\n",
       "      <td>500</td>\n",
       "      <td>86%</td>\n",
       "      <td>2017-11-09</td>\n",
       "      <td>$39,99</td>\n",
       "      <td>Action, Indie, VR, Gore, FPS, First Person</td>\n",
       "      <td>$19 995,00</td>\n",
       "      <td>Action_, Indie_, VR_, Gore_, FPS_, First Person_</td>\n",
       "      <td>3999</td>\n",
       "      <td>1999500</td>\n",
       "      <td>86.0</td>\n",
       "    </tr>\n",
       "  </tbody>\n",
       "</table>\n",
       "</div>"
      ],
      "text/plain": [
       "       app_id                  title  reviews_total reviews_score_fancy  \\\n",
       "6554   403950  Conquest of Elysium 4            500                 89%   \n",
       "6555  1604380     Hamidashi Creative            500                 97%   \n",
       "6556   567670  Serious Sam 3 VR: BFE            500                 86%   \n",
       "\n",
       "     release_date launch_price_fancy  \\\n",
       "6554   2015-11-16             $24,99   \n",
       "6555   2022-09-30             $29,99   \n",
       "6556   2017-11-09             $39,99   \n",
       "\n",
       "                                                   tags  \\\n",
       "6554  Strategy, Indie, Turn Based, Fantasy, Turn Bas...   \n",
       "6555  Adventure, Casual, Visual Novel, Sexual Conten...   \n",
       "6556         Action, Indie, VR, Gore, FPS, First Person   \n",
       "\n",
       "     revenue_estimated_dataset  \\\n",
       "6554                $12 495,00   \n",
       "6555                $14 995,00   \n",
       "6556                $19 995,00   \n",
       "\n",
       "                                          modified_tags  launch_price_cents  \\\n",
       "6554  Strategy_, Indie_, Turn Based_, Fantasy_, Turn...                2499   \n",
       "6555  Adventure_, Casual_, Visual Novel_, Sexual Con...                2999   \n",
       "6556   Action_, Indie_, VR_, Gore_, FPS_, First Person_                3999   \n",
       "\n",
       "      dataset_est_rev_cents  review_avg_percent  \n",
       "6554                1249500                89.0  \n",
       "6555                1499500                97.0  \n",
       "6556                1999500                86.0  "
      ]
     },
     "execution_count": 16,
     "metadata": {},
     "output_type": "execute_result"
    }
   ],
   "source": [
    "clean_dates.tail(3)"
   ]
  },
  {
   "cell_type": "markdown",
   "metadata": {},
   "source": [
    "## Reorder columns and drop unneeded ones"
   ]
  },
  {
   "cell_type": "code",
   "execution_count": 17,
   "metadata": {},
   "outputs": [
    {
     "data": {
      "text/plain": [
       "Index(['app_id', 'title', 'reviews_total', 'reviews_score_fancy',\n",
       "       'release_date', 'launch_price_fancy', 'tags',\n",
       "       'revenue_estimated_dataset', 'modified_tags', 'launch_price_cents',\n",
       "       'dataset_est_rev_cents', 'review_avg_percent'],\n",
       "      dtype='object')"
      ]
     },
     "execution_count": 17,
     "metadata": {},
     "output_type": "execute_result"
    }
   ],
   "source": [
    "clean_dates.columns"
   ]
  },
  {
   "cell_type": "code",
   "execution_count": 18,
   "metadata": {},
   "outputs": [],
   "source": [
    "clean_steam_df = clean_dates[['app_id', 'title', 'release_date', 'reviews_total', 'review_avg_percent', 'launch_price_cents',\n",
    "       'dataset_est_rev_cents', 'tags', 'modified_tags']]"
   ]
  },
  {
   "cell_type": "code",
   "execution_count": 19,
   "metadata": {},
   "outputs": [],
   "source": [
    "clean_steam_df.to_csv(\"Resources/clean_steam_dtypes.csv\", index=False)"
   ]
  },
  {
   "cell_type": "code",
   "execution_count": null,
   "metadata": {},
   "outputs": [],
   "source": []
  }
 ],
 "metadata": {
  "kernelspec": {
   "display_name": ".venv",
   "language": "python",
   "name": "python3"
  },
  "language_info": {
   "codemirror_mode": {
    "name": "ipython",
    "version": 3
   },
   "file_extension": ".py",
   "mimetype": "text/x-python",
   "name": "python",
   "nbconvert_exporter": "python",
   "pygments_lexer": "ipython3",
   "version": "3.12.4"
  }
 },
 "nbformat": 4,
 "nbformat_minor": 2
}
