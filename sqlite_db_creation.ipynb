{
 "cells": [
  {
   "cell_type": "code",
   "execution_count": 1,
   "metadata": {},
   "outputs": [],
   "source": [
    "import pandas as pd\n",
    "import pathlib\n",
    "import sqlalchemy\n",
    "from sqlalchemy.ext.declarative import declarative_base\n",
    "from sqlalchemy import Column, Integer, Float, String, Date, ForeignKey, Sequence\n",
    "from sqlalchemy.orm import Session"
   ]
  },
  {
   "cell_type": "markdown",
   "metadata": {},
   "source": [
    "# Create path object using pathlib\n",
    "This will ensure this file will run for everyone regardless of os\n",
    "This group contains folks running on mac, windows, and linux.    "
   ]
  },
  {
   "cell_type": "code",
   "execution_count": 2,
   "metadata": {},
   "outputs": [
    {
     "name": "stdout",
     "output_type": "stream",
     "text": [
      "Path is project root\n"
     ]
    }
   ],
   "source": [
    "cwd = pathlib.Path.cwd()\n",
    "\n",
    "if cwd.name == 'Project_3_Group_7':\n",
    "    print(\"Path is project root\")\n",
    "else:\n",
    "    print(\"Please correct current working directory to the project root\")"
   ]
  },
  {
   "cell_type": "code",
   "execution_count": 3,
   "metadata": {},
   "outputs": [
    {
     "data": {
      "text/plain": [
       "PurePosixPath('/home/mox/Documents/coding_projects/bootcamp_local/Homeworks/Project_3_Group_7/Resources')"
      ]
     },
     "execution_count": 3,
     "metadata": {},
     "output_type": "execute_result"
    }
   ],
   "source": [
    "resources_path = pathlib.PurePath(cwd, 'Resources')\n",
    "resources_path"
   ]
  },
  {
   "cell_type": "markdown",
   "metadata": {},
   "source": [
    "# Prep sqlalchemy for loading data into db"
   ]
  },
  {
   "cell_type": "code",
   "execution_count": 4,
   "metadata": {},
   "outputs": [
    {
     "name": "stderr",
     "output_type": "stream",
     "text": [
      "/tmp/ipykernel_116294/2520330224.py:1: MovedIn20Warning: The ``declarative_base()`` function is now available as sqlalchemy.orm.declarative_base(). (deprecated since: 2.0) (Background on SQLAlchemy 2.0 at: https://sqlalche.me/e/b8d9)\n",
      "  Base = declarative_base()\n"
     ]
    }
   ],
   "source": [
    "Base = declarative_base()\n",
    "# tag_table = \"tags\"\n",
    "steam_twitch_tags_table = \"steam_twitch_tags\""
   ]
  },
  {
   "cell_type": "code",
   "execution_count": 5,
   "metadata": {},
   "outputs": [],
   "source": [
    "# class Tag(Base):\n",
    "#     __tablename__ = tag_table\n",
    "#     id = Column(Integer, Sequence('user_id_seq'), primary_key=True)\n",
    "#     app_id = Column(Integer, ForeignKey(\"combined_twitch_steam.app_id\"), nullable=False)\n",
    "#     tag = Column(String(128))"
   ]
  },
  {
   "cell_type": "code",
   "execution_count": 6,
   "metadata": {},
   "outputs": [],
   "source": [
    "class combined_twitch_steam_tags(Base):\n",
    "    __tablename__ = steam_twitch_tags_table\n",
    "    title = Column(String(128))\n",
    "    # These two will need to be changed to Float \n",
    "    hours_watched = Column(Integer)\n",
    "    hours_streamed = Column(Integer)\n",
    "    average_streamers = Column(Integer)\n",
    "    average_viewers = Column(Integer)\n",
    "    average_channels = Column(Integer)\n",
    "    app_id = Column(Integer, primary_key=True)\n",
    "    release_date = Column(Date)\n",
    "    reviews_total = Column(Integer)\n",
    "    review_avg_percent = Column(Integer)\n",
    "    launch_price_cents = Column(Integer)\n",
    "    dataset_est_rev_cents = Column(Integer)\n",
    "\n"
   ]
  },
  {
   "cell_type": "code",
   "execution_count": 7,
   "metadata": {},
   "outputs": [],
   "source": [
    "engine = sqlalchemy.create_engine(f'sqlite:///{resources_path}/data.db')\n",
    "Base.metadata.create_all(engine)"
   ]
  },
  {
   "cell_type": "markdown",
   "metadata": {},
   "source": [
    "# Load pandas data into memory"
   ]
  },
  {
   "cell_type": "code",
   "execution_count": 8,
   "metadata": {},
   "outputs": [
    {
     "data": {
      "text/html": [
       "<div>\n",
       "<style scoped>\n",
       "    .dataframe tbody tr th:only-of-type {\n",
       "        vertical-align: middle;\n",
       "    }\n",
       "\n",
       "    .dataframe tbody tr th {\n",
       "        vertical-align: top;\n",
       "    }\n",
       "\n",
       "    .dataframe thead th {\n",
       "        text-align: right;\n",
       "    }\n",
       "</style>\n",
       "<table border=\"1\" class=\"dataframe\">\n",
       "  <thead>\n",
       "    <tr style=\"text-align: right;\">\n",
       "      <th></th>\n",
       "      <th>app_id</th>\n",
       "      <th>tag</th>\n",
       "    </tr>\n",
       "  </thead>\n",
       "  <tbody>\n",
       "    <tr>\n",
       "      <th>0</th>\n",
       "      <td>730</td>\n",
       "      <td>FPS</td>\n",
       "    </tr>\n",
       "    <tr>\n",
       "      <th>1</th>\n",
       "      <td>730</td>\n",
       "      <td>Shooter</td>\n",
       "    </tr>\n",
       "    <tr>\n",
       "      <th>2</th>\n",
       "      <td>730</td>\n",
       "      <td>Multiplayer</td>\n",
       "    </tr>\n",
       "  </tbody>\n",
       "</table>\n",
       "</div>"
      ],
      "text/plain": [
       "   app_id          tag\n",
       "0     730          FPS\n",
       "1     730      Shooter\n",
       "2     730  Multiplayer"
      ]
     },
     "execution_count": 8,
     "metadata": {},
     "output_type": "execute_result"
    }
   ],
   "source": [
    "tag_df = pd.read_csv(f\"{resources_path}/app_id_common_tags.csv\")\n",
    "tag_df.head(3)"
   ]
  },
  {
   "cell_type": "code",
   "execution_count": 9,
   "metadata": {},
   "outputs": [
    {
     "data": {
      "text/html": [
       "<div>\n",
       "<style scoped>\n",
       "    .dataframe tbody tr th:only-of-type {\n",
       "        vertical-align: middle;\n",
       "    }\n",
       "\n",
       "    .dataframe tbody tr th {\n",
       "        vertical-align: top;\n",
       "    }\n",
       "\n",
       "    .dataframe thead th {\n",
       "        text-align: right;\n",
       "    }\n",
       "</style>\n",
       "<table border=\"1\" class=\"dataframe\">\n",
       "  <thead>\n",
       "    <tr style=\"text-align: right;\">\n",
       "      <th></th>\n",
       "      <th>title</th>\n",
       "      <th>hours_watched</th>\n",
       "      <th>hours_streamed</th>\n",
       "      <th>average_streamers</th>\n",
       "      <th>average_viewers</th>\n",
       "      <th>average_channels</th>\n",
       "      <th>app_id</th>\n",
       "      <th>release_date</th>\n",
       "      <th>reviews_total</th>\n",
       "      <th>review_avg_percent</th>\n",
       "      <th>launch_price_cents</th>\n",
       "      <th>dataset_est_rev_cents</th>\n",
       "    </tr>\n",
       "  </thead>\n",
       "  <tbody>\n",
       "    <tr>\n",
       "      <th>0</th>\n",
       "      <td>.hack//G.U. Last Recode</td>\n",
       "      <td>145350</td>\n",
       "      <td>35258</td>\n",
       "      <td>3174</td>\n",
       "      <td>202</td>\n",
       "      <td>49</td>\n",
       "      <td>525480</td>\n",
       "      <td>2017-11-03</td>\n",
       "      <td>2689</td>\n",
       "      <td>87.0</td>\n",
       "      <td>4999</td>\n",
       "      <td>13442311</td>\n",
       "    </tr>\n",
       "    <tr>\n",
       "      <th>1</th>\n",
       "      <td>20 Minutes Till Dawn</td>\n",
       "      <td>911356</td>\n",
       "      <td>12253</td>\n",
       "      <td>3616</td>\n",
       "      <td>1267</td>\n",
       "      <td>17</td>\n",
       "      <td>1966900</td>\n",
       "      <td>2023-06-08</td>\n",
       "      <td>20942</td>\n",
       "      <td>92.0</td>\n",
       "      <td>499</td>\n",
       "      <td>10450058</td>\n",
       "    </tr>\n",
       "    <tr>\n",
       "      <th>2</th>\n",
       "      <td>60 Parsecs!</td>\n",
       "      <td>529688</td>\n",
       "      <td>1867</td>\n",
       "      <td>606</td>\n",
       "      <td>736</td>\n",
       "      <td>2</td>\n",
       "      <td>646270</td>\n",
       "      <td>2018-09-18</td>\n",
       "      <td>2315</td>\n",
       "      <td>89.0</td>\n",
       "      <td>999</td>\n",
       "      <td>2312685</td>\n",
       "    </tr>\n",
       "  </tbody>\n",
       "</table>\n",
       "</div>"
      ],
      "text/plain": [
       "                     title  hours_watched  hours_streamed  average_streamers  \\\n",
       "0  .hack//G.U. Last Recode         145350           35258               3174   \n",
       "1     20 Minutes Till Dawn         911356           12253               3616   \n",
       "2              60 Parsecs!         529688            1867                606   \n",
       "\n",
       "   average_viewers  average_channels   app_id release_date  reviews_total  \\\n",
       "0              202                49   525480   2017-11-03           2689   \n",
       "1             1267                17  1966900   2023-06-08          20942   \n",
       "2              736                 2   646270   2018-09-18           2315   \n",
       "\n",
       "   review_avg_percent  launch_price_cents  dataset_est_rev_cents  \n",
       "0                87.0                4999               13442311  \n",
       "1                92.0                 499               10450058  \n",
       "2                89.0                 999                2312685  "
      ]
     },
     "execution_count": 9,
     "metadata": {},
     "output_type": "execute_result"
    }
   ],
   "source": [
    "steam_twitch_df = pd.read_csv(f\"{resources_path}/merge_output.csv\")\n",
    "steam_twitch_df.head(3)"
   ]
  },
  {
   "cell_type": "code",
   "execution_count": 10,
   "metadata": {},
   "outputs": [
    {
     "data": {
      "text/html": [
       "<div>\n",
       "<style scoped>\n",
       "    .dataframe tbody tr th:only-of-type {\n",
       "        vertical-align: middle;\n",
       "    }\n",
       "\n",
       "    .dataframe tbody tr th {\n",
       "        vertical-align: top;\n",
       "    }\n",
       "\n",
       "    .dataframe thead th {\n",
       "        text-align: right;\n",
       "    }\n",
       "</style>\n",
       "<table border=\"1\" class=\"dataframe\">\n",
       "  <thead>\n",
       "    <tr style=\"text-align: right;\">\n",
       "      <th></th>\n",
       "      <th>app_id</th>\n",
       "      <th>tag</th>\n",
       "      <th>title</th>\n",
       "      <th>hours_watched</th>\n",
       "      <th>hours_streamed</th>\n",
       "      <th>average_streamers</th>\n",
       "      <th>average_viewers</th>\n",
       "      <th>average_channels</th>\n",
       "      <th>release_date</th>\n",
       "      <th>reviews_total</th>\n",
       "      <th>review_avg_percent</th>\n",
       "      <th>launch_price_cents</th>\n",
       "      <th>dataset_est_rev_cents</th>\n",
       "    </tr>\n",
       "  </thead>\n",
       "  <tbody>\n",
       "    <tr>\n",
       "      <th>0</th>\n",
       "      <td>730</td>\n",
       "      <td>FPS</td>\n",
       "      <td>Counter-Strike: Global Offensive</td>\n",
       "      <td>4315553263</td>\n",
       "      <td>80709385</td>\n",
       "      <td>123006</td>\n",
       "      <td>66604</td>\n",
       "      <td>1243</td>\n",
       "      <td>2012-08-21</td>\n",
       "      <td>7382695</td>\n",
       "      <td>88.0</td>\n",
       "      <td>1499</td>\n",
       "      <td>11066659805</td>\n",
       "    </tr>\n",
       "    <tr>\n",
       "      <th>1</th>\n",
       "      <td>730</td>\n",
       "      <td>Shooter</td>\n",
       "      <td>Counter-Strike: Global Offensive</td>\n",
       "      <td>4315553263</td>\n",
       "      <td>80709385</td>\n",
       "      <td>123006</td>\n",
       "      <td>66604</td>\n",
       "      <td>1243</td>\n",
       "      <td>2012-08-21</td>\n",
       "      <td>7382695</td>\n",
       "      <td>88.0</td>\n",
       "      <td>1499</td>\n",
       "      <td>11066659805</td>\n",
       "    </tr>\n",
       "    <tr>\n",
       "      <th>2</th>\n",
       "      <td>730</td>\n",
       "      <td>Multiplayer</td>\n",
       "      <td>Counter-Strike: Global Offensive</td>\n",
       "      <td>4315553263</td>\n",
       "      <td>80709385</td>\n",
       "      <td>123006</td>\n",
       "      <td>66604</td>\n",
       "      <td>1243</td>\n",
       "      <td>2012-08-21</td>\n",
       "      <td>7382695</td>\n",
       "      <td>88.0</td>\n",
       "      <td>1499</td>\n",
       "      <td>11066659805</td>\n",
       "    </tr>\n",
       "    <tr>\n",
       "      <th>3</th>\n",
       "      <td>730</td>\n",
       "      <td>Competitive</td>\n",
       "      <td>Counter-Strike: Global Offensive</td>\n",
       "      <td>4315553263</td>\n",
       "      <td>80709385</td>\n",
       "      <td>123006</td>\n",
       "      <td>66604</td>\n",
       "      <td>1243</td>\n",
       "      <td>2012-08-21</td>\n",
       "      <td>7382695</td>\n",
       "      <td>88.0</td>\n",
       "      <td>1499</td>\n",
       "      <td>11066659805</td>\n",
       "    </tr>\n",
       "    <tr>\n",
       "      <th>4</th>\n",
       "      <td>730</td>\n",
       "      <td>Action</td>\n",
       "      <td>Counter-Strike: Global Offensive</td>\n",
       "      <td>4315553263</td>\n",
       "      <td>80709385</td>\n",
       "      <td>123006</td>\n",
       "      <td>66604</td>\n",
       "      <td>1243</td>\n",
       "      <td>2012-08-21</td>\n",
       "      <td>7382695</td>\n",
       "      <td>88.0</td>\n",
       "      <td>1499</td>\n",
       "      <td>11066659805</td>\n",
       "    </tr>\n",
       "    <tr>\n",
       "      <th>...</th>\n",
       "      <td>...</td>\n",
       "      <td>...</td>\n",
       "      <td>...</td>\n",
       "      <td>...</td>\n",
       "      <td>...</td>\n",
       "      <td>...</td>\n",
       "      <td>...</td>\n",
       "      <td>...</td>\n",
       "      <td>...</td>\n",
       "      <td>...</td>\n",
       "      <td>...</td>\n",
       "      <td>...</td>\n",
       "      <td>...</td>\n",
       "    </tr>\n",
       "    <tr>\n",
       "      <th>106366</th>\n",
       "      <td>968870</td>\n",
       "      <td>Horror</td>\n",
       "      <td>Close to the Sun</td>\n",
       "      <td>343108</td>\n",
       "      <td>3465</td>\n",
       "      <td>867</td>\n",
       "      <td>461</td>\n",
       "      <td>4</td>\n",
       "      <td>2020-05-05</td>\n",
       "      <td>506</td>\n",
       "      <td>75.0</td>\n",
       "      <td>1999</td>\n",
       "      <td>1011494</td>\n",
       "    </tr>\n",
       "    <tr>\n",
       "      <th>106367</th>\n",
       "      <td>968870</td>\n",
       "      <td>Violent</td>\n",
       "      <td>Close to the Sun</td>\n",
       "      <td>343108</td>\n",
       "      <td>3465</td>\n",
       "      <td>867</td>\n",
       "      <td>461</td>\n",
       "      <td>4</td>\n",
       "      <td>2020-05-05</td>\n",
       "      <td>506</td>\n",
       "      <td>75.0</td>\n",
       "      <td>1999</td>\n",
       "      <td>1011494</td>\n",
       "    </tr>\n",
       "    <tr>\n",
       "      <th>106368</th>\n",
       "      <td>968870</td>\n",
       "      <td>Female Protagonist</td>\n",
       "      <td>Close to the Sun</td>\n",
       "      <td>343108</td>\n",
       "      <td>3465</td>\n",
       "      <td>867</td>\n",
       "      <td>461</td>\n",
       "      <td>4</td>\n",
       "      <td>2020-05-05</td>\n",
       "      <td>506</td>\n",
       "      <td>75.0</td>\n",
       "      <td>1999</td>\n",
       "      <td>1011494</td>\n",
       "    </tr>\n",
       "    <tr>\n",
       "      <th>106369</th>\n",
       "      <td>968870</td>\n",
       "      <td>First Person</td>\n",
       "      <td>Close to the Sun</td>\n",
       "      <td>343108</td>\n",
       "      <td>3465</td>\n",
       "      <td>867</td>\n",
       "      <td>461</td>\n",
       "      <td>4</td>\n",
       "      <td>2020-05-05</td>\n",
       "      <td>506</td>\n",
       "      <td>75.0</td>\n",
       "      <td>1999</td>\n",
       "      <td>1011494</td>\n",
       "    </tr>\n",
       "    <tr>\n",
       "      <th>106370</th>\n",
       "      <td>968870</td>\n",
       "      <td>Singleplayer</td>\n",
       "      <td>Close to the Sun</td>\n",
       "      <td>343108</td>\n",
       "      <td>3465</td>\n",
       "      <td>867</td>\n",
       "      <td>461</td>\n",
       "      <td>4</td>\n",
       "      <td>2020-05-05</td>\n",
       "      <td>506</td>\n",
       "      <td>75.0</td>\n",
       "      <td>1999</td>\n",
       "      <td>1011494</td>\n",
       "    </tr>\n",
       "  </tbody>\n",
       "</table>\n",
       "<p>15403 rows × 13 columns</p>\n",
       "</div>"
      ],
      "text/plain": [
       "        app_id                 tag                             title  \\\n",
       "0          730                 FPS  Counter-Strike: Global Offensive   \n",
       "1          730             Shooter  Counter-Strike: Global Offensive   \n",
       "2          730         Multiplayer  Counter-Strike: Global Offensive   \n",
       "3          730         Competitive  Counter-Strike: Global Offensive   \n",
       "4          730              Action  Counter-Strike: Global Offensive   \n",
       "...        ...                 ...                               ...   \n",
       "106366  968870              Horror                  Close to the Sun   \n",
       "106367  968870             Violent                  Close to the Sun   \n",
       "106368  968870  Female Protagonist                  Close to the Sun   \n",
       "106369  968870        First Person                  Close to the Sun   \n",
       "106370  968870        Singleplayer                  Close to the Sun   \n",
       "\n",
       "        hours_watched  hours_streamed  average_streamers  average_viewers  \\\n",
       "0          4315553263        80709385             123006            66604   \n",
       "1          4315553263        80709385             123006            66604   \n",
       "2          4315553263        80709385             123006            66604   \n",
       "3          4315553263        80709385             123006            66604   \n",
       "4          4315553263        80709385             123006            66604   \n",
       "...               ...             ...                ...              ...   \n",
       "106366         343108            3465                867              461   \n",
       "106367         343108            3465                867              461   \n",
       "106368         343108            3465                867              461   \n",
       "106369         343108            3465                867              461   \n",
       "106370         343108            3465                867              461   \n",
       "\n",
       "        average_channels release_date  reviews_total  review_avg_percent  \\\n",
       "0                   1243   2012-08-21        7382695                88.0   \n",
       "1                   1243   2012-08-21        7382695                88.0   \n",
       "2                   1243   2012-08-21        7382695                88.0   \n",
       "3                   1243   2012-08-21        7382695                88.0   \n",
       "4                   1243   2012-08-21        7382695                88.0   \n",
       "...                  ...          ...            ...                 ...   \n",
       "106366                 4   2020-05-05            506                75.0   \n",
       "106367                 4   2020-05-05            506                75.0   \n",
       "106368                 4   2020-05-05            506                75.0   \n",
       "106369                 4   2020-05-05            506                75.0   \n",
       "106370                 4   2020-05-05            506                75.0   \n",
       "\n",
       "        launch_price_cents  dataset_est_rev_cents  \n",
       "0                     1499            11066659805  \n",
       "1                     1499            11066659805  \n",
       "2                     1499            11066659805  \n",
       "3                     1499            11066659805  \n",
       "4                     1499            11066659805  \n",
       "...                    ...                    ...  \n",
       "106366                1999                1011494  \n",
       "106367                1999                1011494  \n",
       "106368                1999                1011494  \n",
       "106369                1999                1011494  \n",
       "106370                1999                1011494  \n",
       "\n",
       "[15403 rows x 13 columns]"
      ]
     },
     "execution_count": 10,
     "metadata": {},
     "output_type": "execute_result"
    }
   ],
   "source": [
    "prep_steam_twitch = steam_twitch_df.set_index('app_id')\n",
    "large_df = tag_df.join(prep_steam_twitch, on='app_id', how='inner')\n",
    "large_df"
   ]
  },
  {
   "cell_type": "markdown",
   "metadata": {},
   "source": [
    "# Add dataframes to DB"
   ]
  },
  {
   "cell_type": "code",
   "execution_count": 11,
   "metadata": {},
   "outputs": [],
   "source": [
    "conn = engine.connect()"
   ]
  },
  {
   "cell_type": "code",
   "execution_count": 12,
   "metadata": {},
   "outputs": [
    {
     "data": {
      "text/plain": [
       "15403"
      ]
     },
     "execution_count": 12,
     "metadata": {},
     "output_type": "execute_result"
    }
   ],
   "source": [
    "large_df.to_sql(steam_twitch_tags_table, conn, if_exists='replace')"
   ]
  },
  {
   "cell_type": "code",
   "execution_count": null,
   "metadata": {},
   "outputs": [],
   "source": []
  },
  {
   "cell_type": "code",
   "execution_count": null,
   "metadata": {},
   "outputs": [],
   "source": []
  }
 ],
 "metadata": {
  "kernelspec": {
   "display_name": ".venv",
   "language": "python",
   "name": "python3"
  },
  "language_info": {
   "codemirror_mode": {
    "name": "ipython",
    "version": 3
   },
   "file_extension": ".py",
   "mimetype": "text/x-python",
   "name": "python",
   "nbconvert_exporter": "python",
   "pygments_lexer": "ipython3",
   "version": "3.12.4"
  }
 },
 "nbformat": 4,
 "nbformat_minor": 2
}
